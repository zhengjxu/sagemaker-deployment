{
 "cells": [
  {
   "cell_type": "markdown",
   "metadata": {},
   "source": [
    "# Sentiment Analysis Web App\n",
    "\n",
    "_Deep Learning Nanodegree Program | Deployment_\n",
    "\n",
    "---\n",
    "\n",
    "In this notebook we will use Amazon's SageMaker service to construct a random tree model to predict the sentiment of a movie review. In addition, we will deploy this model to an endpoint and construct a very simple web app which will interact with our model's deployed endpoint.\n",
    "\n",
    "## General Outline\n",
    "\n",
    "Typically, when using a notebook instance with SageMaker, you will proceed through the following steps. Of course, not every step will need to be done with each project. Also, there is quite a lot of room for variation in many of the steps, as you will see throughout these lessons.\n",
    "\n",
    "1. Download or otherwise retrieve the data.\n",
    "2. Process / Prepare the data.\n",
    "3. Upload the processed data to S3.\n",
    "4. Train a chosen model.\n",
    "5. Test the trained model (typically using a batch transform job).\n",
    "6. Deploy the trained model.\n",
    "7. Use the deployed model.\n",
    "\n",
    "In this notebook we will progress through each of the steps above. We will also see that the final step, using the deployed model, can be quite challenging."
   ]
  },
  {
   "cell_type": "code",
   "execution_count": 3,
   "metadata": {
    "scrolled": true
   },
   "outputs": [
    {
     "name": "stdout",
     "output_type": "stream",
     "text": [
      "Collecting sagemaker==1.72.0\n",
      "  Downloading sagemaker-1.72.0.tar.gz (297 kB)\n",
      "\u001b[K     |████████████████████████████████| 297 kB 12.8 MB/s eta 0:00:01\n",
      "\u001b[?25hRequirement already satisfied: boto3>=1.14.12 in /home/ec2-user/anaconda3/envs/python3/lib/python3.6/site-packages (from sagemaker==1.72.0) (1.16.37)\n",
      "Requirement already satisfied: numpy>=1.9.0 in /home/ec2-user/anaconda3/envs/python3/lib/python3.6/site-packages (from sagemaker==1.72.0) (1.19.4)\n",
      "Requirement already satisfied: protobuf>=3.1 in /home/ec2-user/anaconda3/envs/python3/lib/python3.6/site-packages (from sagemaker==1.72.0) (3.14.0)\n",
      "Requirement already satisfied: scipy>=0.19.0 in /home/ec2-user/anaconda3/envs/python3/lib/python3.6/site-packages (from sagemaker==1.72.0) (1.4.1)\n",
      "Requirement already satisfied: protobuf3-to-dict>=0.1.5 in /home/ec2-user/anaconda3/envs/python3/lib/python3.6/site-packages (from sagemaker==1.72.0) (0.1.5)\n",
      "Requirement already satisfied: importlib-metadata>=1.4.0 in /home/ec2-user/anaconda3/envs/python3/lib/python3.6/site-packages (from sagemaker==1.72.0) (3.1.0)\n",
      "Requirement already satisfied: packaging>=20.0 in /home/ec2-user/anaconda3/envs/python3/lib/python3.6/site-packages (from sagemaker==1.72.0) (20.7)\n",
      "Requirement already satisfied: s3transfer<0.4.0,>=0.3.0 in /home/ec2-user/anaconda3/envs/python3/lib/python3.6/site-packages (from boto3>=1.14.12->sagemaker==1.72.0) (0.3.3)\n",
      "Requirement already satisfied: jmespath<1.0.0,>=0.7.1 in /home/ec2-user/anaconda3/envs/python3/lib/python3.6/site-packages (from boto3>=1.14.12->sagemaker==1.72.0) (0.10.0)\n",
      "Requirement already satisfied: botocore<1.20.0,>=1.19.37 in /home/ec2-user/anaconda3/envs/python3/lib/python3.6/site-packages (from boto3>=1.14.12->sagemaker==1.72.0) (1.19.37)\n",
      "Requirement already satisfied: urllib3<1.27,>=1.25.4 in /home/ec2-user/anaconda3/envs/python3/lib/python3.6/site-packages (from botocore<1.20.0,>=1.19.37->boto3>=1.14.12->sagemaker==1.72.0) (1.25.11)\n",
      "Requirement already satisfied: jmespath<1.0.0,>=0.7.1 in /home/ec2-user/anaconda3/envs/python3/lib/python3.6/site-packages (from boto3>=1.14.12->sagemaker==1.72.0) (0.10.0)\n",
      "Requirement already satisfied: python-dateutil<3.0.0,>=2.1 in /home/ec2-user/anaconda3/envs/python3/lib/python3.6/site-packages (from botocore<1.20.0,>=1.19.37->boto3>=1.14.12->sagemaker==1.72.0) (2.8.1)\n",
      "Requirement already satisfied: zipp>=0.5 in /home/ec2-user/anaconda3/envs/python3/lib/python3.6/site-packages (from importlib-metadata>=1.4.0->sagemaker==1.72.0) (3.4.0)\n",
      "Requirement already satisfied: pyparsing>=2.0.2 in /home/ec2-user/anaconda3/envs/python3/lib/python3.6/site-packages (from packaging>=20.0->sagemaker==1.72.0) (2.4.7)\n",
      "Requirement already satisfied: six>=1.9 in /home/ec2-user/anaconda3/envs/python3/lib/python3.6/site-packages (from protobuf>=3.1->sagemaker==1.72.0) (1.15.0)\n",
      "Requirement already satisfied: six>=1.9 in /home/ec2-user/anaconda3/envs/python3/lib/python3.6/site-packages (from protobuf>=3.1->sagemaker==1.72.0) (1.15.0)\n",
      "Requirement already satisfied: protobuf>=3.1 in /home/ec2-user/anaconda3/envs/python3/lib/python3.6/site-packages (from sagemaker==1.72.0) (3.14.0)\n",
      "Requirement already satisfied: six>=1.9 in /home/ec2-user/anaconda3/envs/python3/lib/python3.6/site-packages (from protobuf>=3.1->sagemaker==1.72.0) (1.15.0)\n",
      "Requirement already satisfied: botocore<1.20.0,>=1.19.37 in /home/ec2-user/anaconda3/envs/python3/lib/python3.6/site-packages (from boto3>=1.14.12->sagemaker==1.72.0) (1.19.37)\n",
      "Requirement already satisfied: numpy>=1.9.0 in /home/ec2-user/anaconda3/envs/python3/lib/python3.6/site-packages (from sagemaker==1.72.0) (1.19.4)\n",
      "Collecting smdebug-rulesconfig==0.1.4\n",
      "  Downloading smdebug_rulesconfig-0.1.4-py2.py3-none-any.whl (10 kB)\n",
      "Building wheels for collected packages: sagemaker\n",
      "  Building wheel for sagemaker (setup.py) ... \u001b[?25ldone\n",
      "\u001b[?25h  Created wheel for sagemaker: filename=sagemaker-1.72.0-py2.py3-none-any.whl size=386358 sha256=1f74b0179146f36c8524a64ae9c8a8b38792dac9c29076714f950b0ea23b66c0\n",
      "  Stored in directory: /home/ec2-user/.cache/pip/wheels/c3/58/70/85faf4437568bfaa4c419937569ba1fe54d44c5db42406bbd7\n",
      "Successfully built sagemaker\n",
      "Installing collected packages: smdebug-rulesconfig, sagemaker\n",
      "  Attempting uninstall: smdebug-rulesconfig\n",
      "    Found existing installation: smdebug-rulesconfig 1.0.0\n",
      "    Uninstalling smdebug-rulesconfig-1.0.0:\n",
      "      Successfully uninstalled smdebug-rulesconfig-1.0.0\n",
      "  Attempting uninstall: sagemaker\n",
      "    Found existing installation: sagemaker 2.19.0\n",
      "    Uninstalling sagemaker-2.19.0:\n",
      "      Successfully uninstalled sagemaker-2.19.0\n",
      "Successfully installed sagemaker-1.72.0 smdebug-rulesconfig-0.1.4\n",
      "\u001b[33mWARNING: You are using pip version 20.3; however, version 20.3.3 is available.\n",
      "You should consider upgrading via the '/home/ec2-user/anaconda3/envs/python3/bin/python -m pip install --upgrade pip' command.\u001b[0m\n"
     ]
    }
   ],
   "source": [
    "# Make sure that we use SageMaker 1.x\n",
    "!pip install sagemaker==1.72.0"
   ]
  },
  {
   "cell_type": "markdown",
   "metadata": {},
   "source": [
    "## Step 1: Downloading the data\n",
    "\n",
    "The dataset we are going to use is very popular among researchers in Natural Language Processing, usually referred to as the [IMDb dataset](http://ai.stanford.edu/~amaas/data/sentiment/). It consists of movie reviews from the website [imdb.com](http://www.imdb.com/), each labeled as either '**pos**itive', if the reviewer enjoyed the film, or '**neg**ative' otherwise.\n",
    "\n",
    "> Maas, Andrew L., et al. [Learning Word Vectors for Sentiment Analysis](http://ai.stanford.edu/~amaas/data/sentiment/). In _Proceedings of the 49th Annual Meeting of the Association for Computational Linguistics: Human Language Technologies_. Association for Computational Linguistics, 2011.\n",
    "\n",
    "We begin by using some Jupyter Notebook magic to download and extract the dataset."
   ]
  },
  {
   "cell_type": "code",
   "execution_count": 2,
   "metadata": {},
   "outputs": [
    {
     "name": "stdout",
     "output_type": "stream",
     "text": [
      "mkdir: cannot create directory ‘../data’: File exists\n",
      "--2020-12-30 00:22:28--  http://ai.stanford.edu/~amaas/data/sentiment/aclImdb_v1.tar.gz\n",
      "Resolving ai.stanford.edu (ai.stanford.edu)... 171.64.68.10\n",
      "Connecting to ai.stanford.edu (ai.stanford.edu)|171.64.68.10|:80... connected.\n",
      "HTTP request sent, awaiting response... 200 OK\n",
      "Length: 84125825 (80M) [application/x-gzip]\n",
      "Saving to: ‘../data/aclImdb_v1.tar.gz’\n",
      "\n",
      "../data/aclImdb_v1. 100%[===================>]  80.23M  23.9MB/s    in 4.6s    \n",
      "\n",
      "2020-12-30 00:22:33 (17.6 MB/s) - ‘../data/aclImdb_v1.tar.gz’ saved [84125825/84125825]\n",
      "\n"
     ]
    }
   ],
   "source": [
    "%mkdir ../data\n",
    "!wget -O ../data/aclImdb_v1.tar.gz http://ai.stanford.edu/~amaas/data/sentiment/aclImdb_v1.tar.gz\n",
    "!tar -zxf ../data/aclImdb_v1.tar.gz -C ../data"
   ]
  },
  {
   "cell_type": "markdown",
   "metadata": {},
   "source": [
    "## Step 2: Preparing and Processing the data\n",
    "\n",
    "The data we have downloaded is split into various files, each of which contains a single review. It will be much easier going forward if we combine these individual files into two large files, one for training and one for testing."
   ]
  },
  {
   "cell_type": "code",
   "execution_count": 4,
   "metadata": {},
   "outputs": [],
   "source": [
    "import os\n",
    "import glob\n",
    "\n",
    "def read_imdb_data(data_dir='../data/aclImdb'):\n",
    "    data = {}\n",
    "    labels = {}\n",
    "    \n",
    "    for data_type in ['train', 'test']:\n",
    "        data[data_type] = {}\n",
    "        labels[data_type] = {}\n",
    "        \n",
    "        for sentiment in ['pos', 'neg']:\n",
    "            data[data_type][sentiment] = []\n",
    "            labels[data_type][sentiment] = []\n",
    "            \n",
    "            path = os.path.join(data_dir, data_type, sentiment, '*.txt')\n",
    "            files = glob.glob(path)\n",
    "            \n",
    "            for f in files:\n",
    "                with open(f) as review:\n",
    "                    data[data_type][sentiment].append(review.read())\n",
    "                    # Here we represent a positive review by '1' and a negative review by '0'\n",
    "                    labels[data_type][sentiment].append(1 if sentiment == 'pos' else 0)\n",
    "                    \n",
    "            assert len(data[data_type][sentiment]) == len(labels[data_type][sentiment]), \\\n",
    "                    \"{}/{} data size does not match labels size\".format(data_type, sentiment)\n",
    "                \n",
    "    return data, labels"
   ]
  },
  {
   "cell_type": "code",
   "execution_count": 12,
   "metadata": {},
   "outputs": [
    {
     "name": "stdout",
     "output_type": "stream",
     "text": [
      "IMDB reviews: train = 12500 pos / 12500 neg, test = 12500 pos / 12500 neg\n"
     ]
    }
   ],
   "source": [
    "data, labels = read_imdb_data()\n",
    "print(\"IMDB reviews: train = {} pos / {} neg, test = {} pos / {} neg\".format(\n",
    "            len(data['train']['pos']), len(data['train']['neg']),\n",
    "            len(data['test']['pos']), len(data['test']['neg'])))"
   ]
  },
  {
   "cell_type": "code",
   "execution_count": 13,
   "metadata": {},
   "outputs": [],
   "source": [
    "from sklearn.utils import shuffle\n",
    "\n",
    "def prepare_imdb_data(data, labels):\n",
    "    \"\"\"Prepare training and test sets from IMDb movie reviews.\"\"\"\n",
    "    \n",
    "    #Combine positive and negative reviews and labels\n",
    "    data_train = data['train']['pos'] + data['train']['neg']\n",
    "    data_test = data['test']['pos'] + data['test']['neg']\n",
    "    labels_train = labels['train']['pos'] + labels['train']['neg']\n",
    "    labels_test = labels['test']['pos'] + labels['test']['neg']\n",
    "    \n",
    "    #Shuffle reviews and corresponding labels within training and test sets\n",
    "    data_train, labels_train = shuffle(data_train, labels_train)\n",
    "    data_test, labels_test = shuffle(data_test, labels_test)\n",
    "    \n",
    "    # Return a unified training data, test data, training labels, test labets\n",
    "    return data_train, data_test, labels_train, labels_test"
   ]
  },
  {
   "cell_type": "code",
   "execution_count": 14,
   "metadata": {},
   "outputs": [
    {
     "name": "stdout",
     "output_type": "stream",
     "text": [
      "IMDb reviews (combined): train = 25000, test = 25000\n"
     ]
    }
   ],
   "source": [
    "train_X, test_X, train_y, test_y = prepare_imdb_data(data, labels)\n",
    "print(\"IMDb reviews (combined): train = {}, test = {}\".format(len(train_X), len(test_X)))"
   ]
  },
  {
   "cell_type": "code",
   "execution_count": 7,
   "metadata": {},
   "outputs": [
    {
     "data": {
      "text/plain": [
       "\"It's about time we see a movie that stays unbiased towards these old Indian traditions. At times it is clear how most of the 'doctors' are charlatans, even lying about how they don't charge their clients. While they are wearing their gold watches, the 'donation' box is mandatory. Notice that there are only a couple of people who get 'cured' while we see quite a few cases.<br /><br />Keep in mind while watching that ingesting mercury is not toxic and that the smallest Indian bank note is 5 rupee, while the average salary in India is 1,700 ru/month.\""
      ]
     },
     "execution_count": 7,
     "metadata": {},
     "output_type": "execute_result"
    }
   ],
   "source": [
    "train_X[100]"
   ]
  },
  {
   "cell_type": "markdown",
   "metadata": {},
   "source": [
    "## Processing the data\n",
    "\n",
    "Now that we have our training and testing datasets merged and ready to use, we need to start processing the raw data into something that will be useable by our machine learning algorithm. To begin with, we remove any html formatting and any non-alpha numeric characters that may appear in the reviews. We will do this in a very simplistic way using Python's regular expression module. We will discuss the reason for this rather simplistic pre-processing later on."
   ]
  },
  {
   "cell_type": "code",
   "execution_count": 6,
   "metadata": {},
   "outputs": [],
   "source": [
    "import re\n",
    "\n",
    "REPLACE_NO_SPACE = re.compile(\"(\\.)|(\\;)|(\\:)|(\\!)|(\\')|(\\?)|(\\,)|(\\\")|(\\()|(\\))|(\\[)|(\\])\")\n",
    "REPLACE_WITH_SPACE = re.compile(\"(<br\\s*/><br\\s*/>)|(\\-)|(\\/)\")\n",
    "\n",
    "def review_to_words(review):\n",
    "    words = REPLACE_NO_SPACE.sub(\"\", review.lower())\n",
    "    words = REPLACE_WITH_SPACE.sub(\" \", words)\n",
    "    return words"
   ]
  },
  {
   "cell_type": "code",
   "execution_count": 21,
   "metadata": {},
   "outputs": [
    {
     "data": {
      "text/plain": [
       "'its about time we see a movie that stays unbiased towards these old indian traditions at times it is clear how most of the doctors are charlatans even lying about how they dont charge their clients while they are wearing their gold watches the donation box is mandatory notice that there are only a couple of people who get cured while we see quite a few cases keep in mind while watching that ingesting mercury is not toxic and that the smallest indian bank note is 5 rupee while the average salary in india is 1700 ru month'"
      ]
     },
     "execution_count": 21,
     "metadata": {},
     "output_type": "execute_result"
    }
   ],
   "source": [
    "review_to_words(train_X[100])"
   ]
  },
  {
   "cell_type": "code",
   "execution_count": 15,
   "metadata": {},
   "outputs": [],
   "source": [
    "import pickle\n",
    "\n",
    "cache_dir = os.path.join(\"../cache\", \"sentiment_web_app\")  # where to store cache files\n",
    "os.makedirs(cache_dir, exist_ok=True)  # ensure cache directory exists\n",
    "\n",
    "def preprocess_data(data_train, data_test, labels_train, labels_test,\n",
    "                    cache_dir=cache_dir, cache_file=\"preprocessed_data.pkl\"):\n",
    "    \"\"\"Convert each review to words; read from cache if available.\"\"\"\n",
    "\n",
    "    # If cache_file is not None, try to read from it first\n",
    "    cache_data = None\n",
    "    if cache_file is not None:\n",
    "        try:\n",
    "            with open(os.path.join(cache_dir, cache_file), \"rb\") as f:\n",
    "                cache_data = pickle.load(f)\n",
    "            print(\"Read preprocessed data from cache file:\", cache_file)\n",
    "        except:\n",
    "            pass  # unable to read from cache, but that's okay\n",
    "    \n",
    "    # If cache is missing, then do the heavy lifting\n",
    "    if cache_data is None:\n",
    "        # Preprocess training and test data to obtain words for each review\n",
    "        #words_train = list(map(review_to_words, data_train))\n",
    "        #words_test = list(map(review_to_words, data_test))\n",
    "        words_train = [review_to_words(review) for review in data_train]\n",
    "        words_test = [review_to_words(review) for review in data_test]\n",
    "        \n",
    "        # Write to cache file for future runs\n",
    "        if cache_file is not None:\n",
    "            cache_data = dict(words_train=words_train, words_test=words_test,\n",
    "                              labels_train=labels_train, labels_test=labels_test)\n",
    "            with open(os.path.join(cache_dir, cache_file), \"wb\") as f:\n",
    "                pickle.dump(cache_data, f)\n",
    "            print(\"Wrote preprocessed data to cache file:\", cache_file)\n",
    "    else:\n",
    "        # Unpack data loaded from cache file\n",
    "        words_train, words_test, labels_train, labels_test = (cache_data['words_train'],\n",
    "                cache_data['words_test'], cache_data['labels_train'], cache_data['labels_test'])\n",
    "    \n",
    "    return words_train, words_test, labels_train, labels_test"
   ]
  },
  {
   "cell_type": "code",
   "execution_count": 16,
   "metadata": {},
   "outputs": [
    {
     "name": "stdout",
     "output_type": "stream",
     "text": [
      "Read preprocessed data from cache file: preprocessed_data.pkl\n"
     ]
    }
   ],
   "source": [
    "# Preprocess data\n",
    "train_X, test_X, train_y, test_y = preprocess_data(train_X, test_X, train_y, test_y)"
   ]
  },
  {
   "cell_type": "markdown",
   "metadata": {},
   "source": [
    "### Extract Bag-of-Words features\n",
    "\n",
    "For the model we will be implementing, rather than using the reviews directly, we are going to transform each review into a Bag-of-Words feature representation. Keep in mind that 'in the wild' we will only have access to the training set so our transformer can only use the training set to construct a representation."
   ]
  },
  {
   "cell_type": "code",
   "execution_count": 17,
   "metadata": {},
   "outputs": [],
   "source": [
    "import numpy as np\n",
    "from sklearn.feature_extraction.text import CountVectorizer\n",
    "\n",
    "# sklearn.externals.joblib is deprecated in 0.21 and will be removed in 0.23. \n",
    "# from sklearn.externals import joblib\n",
    "\n",
    "# Import joblib package directly\n",
    "import joblib\n",
    "# joblib is an enhanced version of pickle that is more efficient for storing NumPy arrays\n",
    "\n",
    "def extract_BoW_features(words_train, words_test, vocabulary_size=5000,\n",
    "                         cache_dir=cache_dir, cache_file=\"bow_features.pkl\"):\n",
    "    \"\"\"Extract Bag-of-Words for a given set of documents, already preprocessed into words.\"\"\"\n",
    "    \n",
    "    # If cache_file is not None, try to read from it first\n",
    "    cache_data = None\n",
    "    if cache_file is not None:\n",
    "        try:\n",
    "            with open(os.path.join(cache_dir, cache_file), \"rb\") as f:\n",
    "                cache_data = joblib.load(f)\n",
    "            print(\"Read features from cache file:\", cache_file)\n",
    "        except:\n",
    "            pass  # unable to read from cache, but that's okay\n",
    "    \n",
    "    # If cache is missing, then do the heavy lifting\n",
    "    if cache_data is None:\n",
    "        # Fit a vectorizer to training documents and use it to transform them\n",
    "        # NOTE: Training documents have already been preprocessed and tokenized into words;\n",
    "        #       pass in dummy functions to skip those steps, e.g. preprocessor=lambda x: x\n",
    "        vectorizer = CountVectorizer(max_features=vocabulary_size)\n",
    "        features_train = vectorizer.fit_transform(words_train).toarray()\n",
    "\n",
    "        # Apply the same vectorizer to transform the test documents (ignore unknown words)\n",
    "        features_test = vectorizer.transform(words_test).toarray()\n",
    "        \n",
    "        # NOTE: Remember to convert the features using .toarray() for a compact representation\n",
    "        \n",
    "        # Write to cache file for future runs (store vocabulary as well)\n",
    "        if cache_file is not None:\n",
    "            vocabulary = vectorizer.vocabulary_\n",
    "            cache_data = dict(features_train=features_train, features_test=features_test,\n",
    "                             vocabulary=vocabulary)\n",
    "            with open(os.path.join(cache_dir, cache_file), \"wb\") as f:\n",
    "                joblib.dump(cache_data, f)\n",
    "            print(\"Wrote features to cache file:\", cache_file)\n",
    "    else:\n",
    "        # Unpack data loaded from cache file\n",
    "        features_train, features_test, vocabulary = (cache_data['features_train'],\n",
    "                cache_data['features_test'], cache_data['vocabulary'])\n",
    "    \n",
    "    # Return both the extracted features as well as the vocabulary\n",
    "    return features_train, features_test, vocabulary"
   ]
  },
  {
   "cell_type": "code",
   "execution_count": 18,
   "metadata": {},
   "outputs": [
    {
     "name": "stdout",
     "output_type": "stream",
     "text": [
      "Read features from cache file: bow_features.pkl\n"
     ]
    }
   ],
   "source": [
    "# Extract Bag of Words features for both training and test datasets\n",
    "train_X, test_X, vocabulary = extract_BoW_features(train_X, test_X)"
   ]
  },
  {
   "cell_type": "code",
   "execution_count": 19,
   "metadata": {},
   "outputs": [
    {
     "data": {
      "text/plain": [
       "5000"
      ]
     },
     "execution_count": 19,
     "metadata": {},
     "output_type": "execute_result"
    }
   ],
   "source": [
    "len(train_X[100])"
   ]
  },
  {
   "cell_type": "markdown",
   "metadata": {},
   "source": [
    "## Step 3: Upload data to S3\n",
    "\n",
    "Now that we have created the feature representation of our training (and testing) data, it is time to start setting up and using the XGBoost classifier provided by SageMaker.\n",
    "\n",
    "### Writing the datasets\n",
    "\n",
    "The XGBoost classifier that we will be using requires the dataset to be written to a file and stored using Amazon S3. To do this, we will start by splitting the training dataset into two parts, the data we will train the model with and a validation set. Then, we will write those datasets to a file locally and then upload the files to S3. In addition, we will write the test set to a file and upload that file to S3. This is so that we can use SageMakers Batch Transform functionality to test our model once we've fit it."
   ]
  },
  {
   "cell_type": "code",
   "execution_count": 40,
   "metadata": {},
   "outputs": [],
   "source": [
    "import pandas as pd"
   ]
  },
  {
   "cell_type": "code",
   "execution_count": 27,
   "metadata": {},
   "outputs": [],
   "source": [
    "# Earlier we shuffled the training dataset so to make things simple we can just assign\n",
    "# the first 10 000 reviews to the validation set and use the remaining reviews for training.\n",
    "val_X = pd.DataFrame(train_X[:10000])\n",
    "train_X = pd.DataFrame(train_X[10000:])\n",
    "\n",
    "val_y = pd.DataFrame(train_y[:10000])\n",
    "train_y = pd.DataFrame(train_y[10000:])"
   ]
  },
  {
   "cell_type": "markdown",
   "metadata": {},
   "source": [
    "The documentation for the XGBoost algorithm in SageMaker requires that the training and validation datasets should contain no headers or index and that the label should occur first for each sample.\n",
    "\n",
    "For more information about this and other algorithms, the SageMaker developer documentation can be found on __[Amazon's website.](https://docs.aws.amazon.com/sagemaker/latest/dg/)__"
   ]
  },
  {
   "cell_type": "code",
   "execution_count": 59,
   "metadata": {},
   "outputs": [],
   "source": [
    "# First we make sure that the local directory in which we'd like to store the training and validation csv files exists.\n",
    "data_dir = '../data/sentiment_web_app'\n",
    "if not os.path.exists(data_dir):\n",
    "    os.makedirs(data_dir)"
   ]
  },
  {
   "cell_type": "code",
   "execution_count": 30,
   "metadata": {},
   "outputs": [],
   "source": [
    "pd.DataFrame(test_X).to_csv(os.path.join(data_dir, 'test.csv'), header=False, index=False)\n",
    "\n",
    "pd.concat([val_y, val_X], axis=1).to_csv(os.path.join(data_dir, 'validation.csv'), header=False, index=False)\n",
    "pd.concat([train_y, train_X], axis=1).to_csv(os.path.join(data_dir, 'train.csv'), header=False, index=False)"
   ]
  },
  {
   "cell_type": "code",
   "execution_count": 42,
   "metadata": {},
   "outputs": [],
   "source": [
    "# To save a bit of memory we can set text_X, train_X, val_X, train_y and val_y to None.\n",
    "\n",
    "test_X = train_X = val_X = train_y = val_y = None"
   ]
  },
  {
   "cell_type": "markdown",
   "metadata": {},
   "source": [
    "### Uploading Training / Validation files to S3\n",
    "\n",
    "Amazon's S3 service allows us to store files that can be accessed by both the built-in training models such as the XGBoost model we will be using as well as custom models such as the one we will see a little later.\n",
    "\n",
    "For this and most other tasks we will be doing using SageMaker, there are two methods we could use. The first is to use the low level functionality of SageMaker which requires knowing each of the objects involved in the SageMaker environment. The second is to use the high level functionality in which certain choices have been made on the user's behalf. The low level approach benefits from allowing the user a great deal of flexibility while the high level approach makes development much quicker. For our purposes we will opt to use the high level approach although using the low-level approach is certainly an option.\n",
    "\n",
    "Recall the method `upload_data()` which is a member of the object representing our current SageMaker session. What this method does is upload the data to the default bucket (which is created if it does not exist) into the path described by the key_prefix variable. To see this for yourself, once you have uploaded the data files, go to the S3 console and look to see where the files have been uploaded.\n",
    "\n",
    "For additional resources, see the __[SageMaker API documentation](http://sagemaker.readthedocs.io/en/latest/)__ and in addition the __[SageMaker Developer Guide.](https://docs.aws.amazon.com/sagemaker/latest/dg/)__"
   ]
  },
  {
   "cell_type": "code",
   "execution_count": 27,
   "metadata": {},
   "outputs": [],
   "source": [
    "import sagemaker\n",
    "\n",
    "session = sagemaker.Session() # Store the current SageMaker session\n",
    "\n",
    "# S3 prefix (which folder will we use)\n",
    "prefix = 'sentiment-web-app'"
   ]
  },
  {
   "cell_type": "code",
   "execution_count": 33,
   "metadata": {},
   "outputs": [],
   "source": [
    "test_location = session.upload_data(os.path.join(data_dir, 'test.csv'), key_prefix=prefix)\n",
    "val_location = session.upload_data(os.path.join(data_dir, 'validation.csv'), key_prefix=prefix)\n",
    "train_location = session.upload_data(os.path.join(data_dir, 'train.csv'), key_prefix=prefix)"
   ]
  },
  {
   "cell_type": "markdown",
   "metadata": {},
   "source": [
    "## Step 4: Creating the XGBoost model\n",
    "\n",
    "Now that the data has been uploaded it is time to create the XGBoost model. To begin with, we need to do some setup. At this point it is worth discussing what a model is in SageMaker. It is easiest to think of a model of comprising three different objects in the SageMaker ecosystem, which interact with one another.\n",
    "\n",
    "- Model Artifacts\n",
    "- Training Code (Container)\n",
    "- Inference Code (Container)\n",
    "\n",
    "The Model Artifacts are what you might think of as the actual model itself. For example, if you were building a neural network, the model artifacts would be the weights of the various layers. In our case, for an XGBoost model, the artifacts are the actual trees that are created during training.\n",
    "\n",
    "The other two objects, the training code and the inference code are then used to manipulate the training artifacts. More precisely, the training code uses the training data that is provided and creates the model artifacts, while the inference code uses the model artifacts to make predictions on new data.\n",
    "\n",
    "The way that SageMaker runs the training and inference code is by making use of Docker containers. For now, think of a container as being a way of packaging code up so that dependencies aren't an issue."
   ]
  },
  {
   "cell_type": "code",
   "execution_count": 24,
   "metadata": {},
   "outputs": [],
   "source": [
    "from sagemaker import get_execution_role\n",
    "\n",
    "# Our current execution role is required when creating the model as the training\n",
    "# and inference code will need to access the model artifacts.\n",
    "role = get_execution_role()"
   ]
  },
  {
   "cell_type": "code",
   "execution_count": 28,
   "metadata": {},
   "outputs": [
    {
     "name": "stderr",
     "output_type": "stream",
     "text": [
      "'get_image_uri' method will be deprecated in favor of 'ImageURIProvider' class in SageMaker Python SDK v2.\n",
      "There is a more up to date SageMaker XGBoost image. To use the newer image, please set 'repo_version'='1.0-1'. For example:\n",
      "\tget_image_uri(region, 'xgboost', '1.0-1').\n"
     ]
    },
    {
     "data": {
      "text/plain": [
       "'811284229777.dkr.ecr.us-east-1.amazonaws.com/xgboost:1'"
      ]
     },
     "execution_count": 28,
     "metadata": {},
     "output_type": "execute_result"
    }
   ],
   "source": [
    "# We need to retrieve the location of the container which is provided by Amazon for using XGBoost.\n",
    "# As a matter of convenience, the training and inference code both use the same container.\n",
    "from sagemaker.amazon.amazon_estimator import get_image_uri\n",
    "\n",
    "container = get_image_uri(session.boto_region_name, 'xgboost')\n",
    "container"
   ]
  },
  {
   "cell_type": "code",
   "execution_count": 29,
   "metadata": {},
   "outputs": [
    {
     "name": "stderr",
     "output_type": "stream",
     "text": [
      "Parameter image_name will be renamed to image_uri in SageMaker Python SDK v2.\n"
     ]
    }
   ],
   "source": [
    "# First we create a SageMaker estimator object for our model.\n",
    "xgb = sagemaker.estimator.Estimator(container, # The location of the container we wish to use\n",
    "                                    role,                                    # What is our current IAM Role\n",
    "                                    train_instance_count=1,                  # How many compute instances\n",
    "                                    train_instance_type='ml.m4.xlarge',      # What kind of compute instances\n",
    "                                    output_path='s3://{}/{}/output'.format(session.default_bucket(), prefix),\n",
    "                                    sagemaker_session=session)\n",
    "\n",
    "# And then set the algorithm specific parameters.\n",
    "xgb.set_hyperparameters(max_depth=5,\n",
    "                        eta=0.2,\n",
    "                        gamma=4,\n",
    "                        min_child_weight=6,\n",
    "                        subsample=0.8,\n",
    "                        silent=0,\n",
    "                        objective='binary:logistic',\n",
    "                        early_stopping_rounds=10,\n",
    "                        num_round=500)"
   ]
  },
  {
   "cell_type": "markdown",
   "metadata": {},
   "source": [
    "### Fit the XGBoost model\n",
    "\n",
    "Now that our model has been set up we simply need to attach the training and validation datasets and then ask SageMaker to set up the computation."
   ]
  },
  {
   "cell_type": "code",
   "execution_count": 34,
   "metadata": {},
   "outputs": [
    {
     "name": "stderr",
     "output_type": "stream",
     "text": [
      "'s3_input' class will be renamed to 'TrainingInput' in SageMaker Python SDK v2.\n",
      "'s3_input' class will be renamed to 'TrainingInput' in SageMaker Python SDK v2.\n"
     ]
    }
   ],
   "source": [
    "s3_input_train = sagemaker.s3_input(s3_data=train_location, content_type='csv')\n",
    "s3_input_validation = sagemaker.s3_input(s3_data=val_location, content_type='csv')"
   ]
  },
  {
   "cell_type": "code",
   "execution_count": 35,
   "metadata": {},
   "outputs": [
    {
     "name": "stdout",
     "output_type": "stream",
     "text": [
      "2020-12-30 05:11:13 Starting - Starting the training job...\n",
      "2020-12-30 05:11:15 Starting - Launching requested ML instances......\n",
      "2020-12-30 05:12:28 Starting - Preparing the instances for training......\n",
      "2020-12-30 05:13:41 Downloading - Downloading input data\n",
      "2020-12-30 05:13:41 Training - Downloading the training image...\n",
      "2020-12-30 05:14:01 Training - Training image download completed. Training in progress.\u001b[34mArguments: train\u001b[0m\n",
      "\u001b[34m[2020-12-30:05:14:02:INFO] Running standalone xgboost training.\u001b[0m\n",
      "\u001b[34m[2020-12-30:05:14:02:INFO] File size need to be processed in the node: 238.5mb. Available memory size in the node: 8433.39mb\u001b[0m\n",
      "\u001b[34m[2020-12-30:05:14:02:INFO] Determined delimiter of CSV input is ','\u001b[0m\n",
      "\u001b[34m[05:14:02] S3DistributionType set as FullyReplicated\u001b[0m\n",
      "\u001b[34m[05:14:04] 15000x5000 matrix with 75000000 entries loaded from /opt/ml/input/data/train?format=csv&label_column=0&delimiter=,\u001b[0m\n",
      "\u001b[34m[2020-12-30:05:14:04:INFO] Determined delimiter of CSV input is ','\u001b[0m\n",
      "\u001b[34m[05:14:04] S3DistributionType set as FullyReplicated\u001b[0m\n",
      "\u001b[34m[05:14:05] 10000x5000 matrix with 50000000 entries loaded from /opt/ml/input/data/validation?format=csv&label_column=0&delimiter=,\u001b[0m\n",
      "\u001b[34m[05:14:08] src/tree/updater_prune.cc:74: tree pruning end, 1 roots, 48 extra nodes, 6 pruned nodes, max_depth=5\u001b[0m\n",
      "\u001b[34m[0]#011train-error:0.302333#011validation-error:0.3167\u001b[0m\n",
      "\u001b[34mMultiple eval metrics have been passed: 'validation-error' will be used for early stopping.\n",
      "\u001b[0m\n",
      "\u001b[34mWill train until validation-error hasn't improved in 10 rounds.\u001b[0m\n",
      "\u001b[34m[05:14:10] src/tree/updater_prune.cc:74: tree pruning end, 1 roots, 42 extra nodes, 6 pruned nodes, max_depth=5\u001b[0m\n",
      "\u001b[34m[1]#011train-error:0.288267#011validation-error:0.3006\u001b[0m\n",
      "\u001b[34m[05:14:11] src/tree/updater_prune.cc:74: tree pruning end, 1 roots, 34 extra nodes, 4 pruned nodes, max_depth=5\u001b[0m\n",
      "\u001b[34m[2]#011train-error:0.2846#011validation-error:0.296\u001b[0m\n",
      "\u001b[34m[05:14:13] src/tree/updater_prune.cc:74: tree pruning end, 1 roots, 40 extra nodes, 8 pruned nodes, max_depth=5\u001b[0m\n",
      "\u001b[34m[3]#011train-error:0.273933#011validation-error:0.2861\u001b[0m\n",
      "\u001b[34m[05:14:14] src/tree/updater_prune.cc:74: tree pruning end, 1 roots, 28 extra nodes, 10 pruned nodes, max_depth=5\u001b[0m\n",
      "\u001b[34m[4]#011train-error:0.263867#011validation-error:0.2778\u001b[0m\n",
      "\u001b[34m[05:14:15] src/tree/updater_prune.cc:74: tree pruning end, 1 roots, 26 extra nodes, 12 pruned nodes, max_depth=5\u001b[0m\n",
      "\u001b[34m[5]#011train-error:0.2554#011validation-error:0.2715\u001b[0m\n",
      "\u001b[34m[05:14:16] src/tree/updater_prune.cc:74: tree pruning end, 1 roots, 46 extra nodes, 2 pruned nodes, max_depth=5\u001b[0m\n",
      "\u001b[34m[6]#011train-error:0.242267#011validation-error:0.2615\u001b[0m\n",
      "\u001b[34m[05:14:18] src/tree/updater_prune.cc:74: tree pruning end, 1 roots, 32 extra nodes, 4 pruned nodes, max_depth=5\u001b[0m\n",
      "\u001b[34m[7]#011train-error:0.2364#011validation-error:0.2535\u001b[0m\n",
      "\u001b[34m[05:14:19] src/tree/updater_prune.cc:74: tree pruning end, 1 roots, 44 extra nodes, 8 pruned nodes, max_depth=5\u001b[0m\n",
      "\u001b[34m[8]#011train-error:0.228267#011validation-error:0.2474\u001b[0m\n",
      "\u001b[34m[05:14:20] src/tree/updater_prune.cc:74: tree pruning end, 1 roots, 34 extra nodes, 10 pruned nodes, max_depth=5\u001b[0m\n",
      "\u001b[34m[9]#011train-error:0.224067#011validation-error:0.2433\u001b[0m\n",
      "\u001b[34m[05:14:22] src/tree/updater_prune.cc:74: tree pruning end, 1 roots, 22 extra nodes, 14 pruned nodes, max_depth=5\u001b[0m\n",
      "\u001b[34m[10]#011train-error:0.221733#011validation-error:0.2419\u001b[0m\n",
      "\u001b[34m[05:14:23] src/tree/updater_prune.cc:74: tree pruning end, 1 roots, 26 extra nodes, 12 pruned nodes, max_depth=5\u001b[0m\n",
      "\u001b[34m[11]#011train-error:0.2184#011validation-error:0.2388\u001b[0m\n",
      "\u001b[34m[05:14:24] src/tree/updater_prune.cc:74: tree pruning end, 1 roots, 24 extra nodes, 16 pruned nodes, max_depth=5\u001b[0m\n",
      "\u001b[34m[12]#011train-error:0.213733#011validation-error:0.2345\u001b[0m\n",
      "\u001b[34m[05:14:25] src/tree/updater_prune.cc:74: tree pruning end, 1 roots, 22 extra nodes, 10 pruned nodes, max_depth=5\u001b[0m\n",
      "\u001b[34m[13]#011train-error:0.209467#011validation-error:0.2314\u001b[0m\n",
      "\u001b[34m[05:14:27] src/tree/updater_prune.cc:74: tree pruning end, 1 roots, 36 extra nodes, 8 pruned nodes, max_depth=5\u001b[0m\n",
      "\u001b[34m[14]#011train-error:0.204733#011validation-error:0.2276\u001b[0m\n",
      "\u001b[34m[05:14:28] src/tree/updater_prune.cc:74: tree pruning end, 1 roots, 26 extra nodes, 10 pruned nodes, max_depth=5\u001b[0m\n",
      "\u001b[34m[15]#011train-error:0.201867#011validation-error:0.2253\u001b[0m\n",
      "\u001b[34m[05:14:29] src/tree/updater_prune.cc:74: tree pruning end, 1 roots, 36 extra nodes, 2 pruned nodes, max_depth=5\u001b[0m\n",
      "\u001b[34m[16]#011train-error:0.198867#011validation-error:0.2228\u001b[0m\n",
      "\u001b[34m[05:14:30] src/tree/updater_prune.cc:74: tree pruning end, 1 roots, 38 extra nodes, 6 pruned nodes, max_depth=5\u001b[0m\n",
      "\u001b[34m[17]#011train-error:0.1958#011validation-error:0.2205\u001b[0m\n",
      "\u001b[34m[05:14:32] src/tree/updater_prune.cc:74: tree pruning end, 1 roots, 34 extra nodes, 4 pruned nodes, max_depth=5\u001b[0m\n",
      "\u001b[34m[18]#011train-error:0.192267#011validation-error:0.2188\u001b[0m\n",
      "\u001b[34m[05:14:33] src/tree/updater_prune.cc:74: tree pruning end, 1 roots, 34 extra nodes, 0 pruned nodes, max_depth=5\u001b[0m\n",
      "\u001b[34m[19]#011train-error:0.189867#011validation-error:0.2152\u001b[0m\n",
      "\u001b[34m[05:14:34] src/tree/updater_prune.cc:74: tree pruning end, 1 roots, 34 extra nodes, 8 pruned nodes, max_depth=5\u001b[0m\n",
      "\u001b[34m[20]#011train-error:0.1864#011validation-error:0.2124\u001b[0m\n",
      "\u001b[34m[05:14:36] src/tree/updater_prune.cc:74: tree pruning end, 1 roots, 30 extra nodes, 10 pruned nodes, max_depth=5\u001b[0m\n",
      "\u001b[34m[21]#011train-error:0.183267#011validation-error:0.212\u001b[0m\n",
      "\u001b[34m[05:14:37] src/tree/updater_prune.cc:74: tree pruning end, 1 roots, 24 extra nodes, 12 pruned nodes, max_depth=5\u001b[0m\n",
      "\u001b[34m[22]#011train-error:0.181#011validation-error:0.2096\u001b[0m\n",
      "\u001b[34m[05:14:38] src/tree/updater_prune.cc:74: tree pruning end, 1 roots, 24 extra nodes, 12 pruned nodes, max_depth=5\u001b[0m\n",
      "\u001b[34m[23]#011train-error:0.177133#011validation-error:0.2074\u001b[0m\n",
      "\u001b[34m[05:14:39] src/tree/updater_prune.cc:74: tree pruning end, 1 roots, 24 extra nodes, 12 pruned nodes, max_depth=5\u001b[0m\n",
      "\u001b[34m[24]#011train-error:0.176333#011validation-error:0.2049\u001b[0m\n",
      "\u001b[34m[05:14:41] src/tree/updater_prune.cc:74: tree pruning end, 1 roots, 24 extra nodes, 6 pruned nodes, max_depth=5\u001b[0m\n",
      "\u001b[34m[25]#011train-error:0.173267#011validation-error:0.2023\u001b[0m\n",
      "\u001b[34m[05:14:42] src/tree/updater_prune.cc:74: tree pruning end, 1 roots, 32 extra nodes, 4 pruned nodes, max_depth=5\u001b[0m\n",
      "\u001b[34m[26]#011train-error:0.1708#011validation-error:0.2008\u001b[0m\n",
      "\u001b[34m[05:14:43] src/tree/updater_prune.cc:74: tree pruning end, 1 roots, 16 extra nodes, 12 pruned nodes, max_depth=5\u001b[0m\n",
      "\u001b[34m[27]#011train-error:0.169533#011validation-error:0.2001\u001b[0m\n",
      "\u001b[34m[05:14:45] src/tree/updater_prune.cc:74: tree pruning end, 1 roots, 28 extra nodes, 6 pruned nodes, max_depth=5\u001b[0m\n",
      "\u001b[34m[28]#011train-error:0.167533#011validation-error:0.1969\u001b[0m\n",
      "\u001b[34m[05:14:46] src/tree/updater_prune.cc:74: tree pruning end, 1 roots, 26 extra nodes, 6 pruned nodes, max_depth=5\u001b[0m\n",
      "\u001b[34m[29]#011train-error:0.1654#011validation-error:0.198\u001b[0m\n",
      "\u001b[34m[05:14:47] src/tree/updater_prune.cc:74: tree pruning end, 1 roots, 36 extra nodes, 8 pruned nodes, max_depth=5\u001b[0m\n",
      "\u001b[34m[30]#011train-error:0.1658#011validation-error:0.1967\u001b[0m\n",
      "\u001b[34m[05:14:48] src/tree/updater_prune.cc:74: tree pruning end, 1 roots, 24 extra nodes, 6 pruned nodes, max_depth=5\u001b[0m\n",
      "\u001b[34m[31]#011train-error:0.164267#011validation-error:0.1958\u001b[0m\n",
      "\u001b[34m[05:14:50] src/tree/updater_prune.cc:74: tree pruning end, 1 roots, 18 extra nodes, 10 pruned nodes, max_depth=5\u001b[0m\n",
      "\u001b[34m[32]#011train-error:0.1634#011validation-error:0.194\u001b[0m\n",
      "\u001b[34m[05:14:51] src/tree/updater_prune.cc:74: tree pruning end, 1 roots, 20 extra nodes, 12 pruned nodes, max_depth=5\u001b[0m\n",
      "\u001b[34m[33]#011train-error:0.162467#011validation-error:0.1939\u001b[0m\n",
      "\u001b[34m[05:14:52] src/tree/updater_prune.cc:74: tree pruning end, 1 roots, 18 extra nodes, 8 pruned nodes, max_depth=5\u001b[0m\n",
      "\u001b[34m[34]#011train-error:0.161133#011validation-error:0.1926\u001b[0m\n",
      "\u001b[34m[05:14:54] src/tree/updater_prune.cc:74: tree pruning end, 1 roots, 16 extra nodes, 12 pruned nodes, max_depth=5\u001b[0m\n",
      "\u001b[34m[35]#011train-error:0.160267#011validation-error:0.1909\u001b[0m\n",
      "\u001b[34m[05:14:55] src/tree/updater_prune.cc:74: tree pruning end, 1 roots, 24 extra nodes, 10 pruned nodes, max_depth=5\u001b[0m\n",
      "\u001b[34m[36]#011train-error:0.159133#011validation-error:0.1905\u001b[0m\n",
      "\u001b[34m[05:14:56] src/tree/updater_prune.cc:74: tree pruning end, 1 roots, 32 extra nodes, 0 pruned nodes, max_depth=5\u001b[0m\n",
      "\u001b[34m[37]#011train-error:0.157467#011validation-error:0.1897\u001b[0m\n",
      "\u001b[34m[05:14:57] src/tree/updater_prune.cc:74: tree pruning end, 1 roots, 26 extra nodes, 8 pruned nodes, max_depth=5\u001b[0m\n",
      "\u001b[34m[38]#011train-error:0.156333#011validation-error:0.1881\u001b[0m\n",
      "\u001b[34m[05:14:59] src/tree/updater_prune.cc:74: tree pruning end, 1 roots, 32 extra nodes, 2 pruned nodes, max_depth=5\u001b[0m\n",
      "\u001b[34m[39]#011train-error:0.154#011validation-error:0.1866\u001b[0m\n"
     ]
    },
    {
     "name": "stdout",
     "output_type": "stream",
     "text": [
      "\u001b[34m[05:15:00] src/tree/updater_prune.cc:74: tree pruning end, 1 roots, 24 extra nodes, 12 pruned nodes, max_depth=5\u001b[0m\n",
      "\u001b[34m[40]#011train-error:0.151067#011validation-error:0.1846\u001b[0m\n",
      "\u001b[34m[05:15:01] src/tree/updater_prune.cc:74: tree pruning end, 1 roots, 24 extra nodes, 2 pruned nodes, max_depth=5\u001b[0m\n",
      "\u001b[34m[41]#011train-error:0.148933#011validation-error:0.1836\u001b[0m\n",
      "\u001b[34m[05:15:03] src/tree/updater_prune.cc:74: tree pruning end, 1 roots, 38 extra nodes, 10 pruned nodes, max_depth=5\u001b[0m\n",
      "\u001b[34m[42]#011train-error:0.147267#011validation-error:0.1828\u001b[0m\n",
      "\u001b[34m[05:15:04] src/tree/updater_prune.cc:74: tree pruning end, 1 roots, 38 extra nodes, 12 pruned nodes, max_depth=5\u001b[0m\n",
      "\u001b[34m[43]#011train-error:0.1464#011validation-error:0.1843\u001b[0m\n",
      "\u001b[34m[05:15:05] src/tree/updater_prune.cc:74: tree pruning end, 1 roots, 18 extra nodes, 12 pruned nodes, max_depth=5\u001b[0m\n",
      "\u001b[34m[44]#011train-error:0.1456#011validation-error:0.1833\u001b[0m\n",
      "\u001b[34m[05:15:06] src/tree/updater_prune.cc:74: tree pruning end, 1 roots, 12 extra nodes, 16 pruned nodes, max_depth=5\u001b[0m\n",
      "\u001b[34m[45]#011train-error:0.1448#011validation-error:0.1817\u001b[0m\n",
      "\u001b[34m[05:15:08] src/tree/updater_prune.cc:74: tree pruning end, 1 roots, 28 extra nodes, 12 pruned nodes, max_depth=5\u001b[0m\n",
      "\u001b[34m[46]#011train-error:0.143667#011validation-error:0.1815\u001b[0m\n",
      "\u001b[34m[05:15:09] src/tree/updater_prune.cc:74: tree pruning end, 1 roots, 26 extra nodes, 14 pruned nodes, max_depth=5\u001b[0m\n",
      "\u001b[34m[47]#011train-error:0.1424#011validation-error:0.1797\u001b[0m\n",
      "\u001b[34m[05:15:10] src/tree/updater_prune.cc:74: tree pruning end, 1 roots, 16 extra nodes, 12 pruned nodes, max_depth=5\u001b[0m\n",
      "\u001b[34m[48]#011train-error:0.1428#011validation-error:0.1799\u001b[0m\n",
      "\u001b[34m[05:15:11] src/tree/updater_prune.cc:74: tree pruning end, 1 roots, 26 extra nodes, 14 pruned nodes, max_depth=5\u001b[0m\n",
      "\u001b[34m[49]#011train-error:0.141533#011validation-error:0.1787\u001b[0m\n",
      "\u001b[34m[05:15:13] src/tree/updater_prune.cc:74: tree pruning end, 1 roots, 18 extra nodes, 12 pruned nodes, max_depth=5\u001b[0m\n",
      "\u001b[34m[50]#011train-error:0.140533#011validation-error:0.1776\u001b[0m\n",
      "\u001b[34m[05:15:14] src/tree/updater_prune.cc:74: tree pruning end, 1 roots, 10 extra nodes, 10 pruned nodes, max_depth=5\u001b[0m\n",
      "\u001b[34m[51]#011train-error:0.1396#011validation-error:0.1752\u001b[0m\n",
      "\u001b[34m[05:15:15] src/tree/updater_prune.cc:74: tree pruning end, 1 roots, 18 extra nodes, 10 pruned nodes, max_depth=5\u001b[0m\n",
      "\u001b[34m[52]#011train-error:0.138267#011validation-error:0.1735\u001b[0m\n",
      "\u001b[34m[05:15:17] src/tree/updater_prune.cc:74: tree pruning end, 1 roots, 18 extra nodes, 2 pruned nodes, max_depth=5\u001b[0m\n",
      "\u001b[34m[53]#011train-error:0.1384#011validation-error:0.175\u001b[0m\n",
      "\u001b[34m[05:15:18] src/tree/updater_prune.cc:74: tree pruning end, 1 roots, 18 extra nodes, 10 pruned nodes, max_depth=5\u001b[0m\n",
      "\u001b[34m[54]#011train-error:0.1368#011validation-error:0.1742\u001b[0m\n",
      "\u001b[34m[05:15:19] src/tree/updater_prune.cc:74: tree pruning end, 1 roots, 20 extra nodes, 2 pruned nodes, max_depth=5\u001b[0m\n",
      "\u001b[34m[55]#011train-error:0.135667#011validation-error:0.1735\u001b[0m\n",
      "\u001b[34m[05:15:20] src/tree/updater_prune.cc:74: tree pruning end, 1 roots, 18 extra nodes, 8 pruned nodes, max_depth=5\u001b[0m\n",
      "\u001b[34m[56]#011train-error:0.1342#011validation-error:0.1725\u001b[0m\n",
      "\u001b[34m[05:15:22] src/tree/updater_prune.cc:74: tree pruning end, 1 roots, 24 extra nodes, 2 pruned nodes, max_depth=5\u001b[0m\n",
      "\u001b[34m[57]#011train-error:0.1346#011validation-error:0.1729\u001b[0m\n",
      "\u001b[34m[05:15:23] src/tree/updater_prune.cc:74: tree pruning end, 1 roots, 14 extra nodes, 20 pruned nodes, max_depth=5\u001b[0m\n",
      "\u001b[34m[58]#011train-error:0.133667#011validation-error:0.1715\u001b[0m\n",
      "\u001b[34m[05:15:24] src/tree/updater_prune.cc:74: tree pruning end, 1 roots, 18 extra nodes, 0 pruned nodes, max_depth=5\u001b[0m\n",
      "\u001b[34m[59]#011train-error:0.131867#011validation-error:0.1689\u001b[0m\n",
      "\u001b[34m[05:15:26] src/tree/updater_prune.cc:74: tree pruning end, 1 roots, 20 extra nodes, 12 pruned nodes, max_depth=5\u001b[0m\n",
      "\u001b[34m[60]#011train-error:0.131133#011validation-error:0.1673\u001b[0m\n",
      "\u001b[34m[05:15:27] src/tree/updater_prune.cc:74: tree pruning end, 1 roots, 28 extra nodes, 8 pruned nodes, max_depth=5\u001b[0m\n",
      "\u001b[34m[61]#011train-error:0.129867#011validation-error:0.1669\u001b[0m\n",
      "\u001b[34m[05:15:28] src/tree/updater_prune.cc:74: tree pruning end, 1 roots, 26 extra nodes, 6 pruned nodes, max_depth=5\u001b[0m\n",
      "\u001b[34m[62]#011train-error:0.129067#011validation-error:0.1673\u001b[0m\n",
      "\u001b[34m[05:15:29] src/tree/updater_prune.cc:74: tree pruning end, 1 roots, 26 extra nodes, 8 pruned nodes, max_depth=5\u001b[0m\n",
      "\u001b[34m[63]#011train-error:0.1274#011validation-error:0.166\u001b[0m\n",
      "\u001b[34m[05:15:31] src/tree/updater_prune.cc:74: tree pruning end, 1 roots, 26 extra nodes, 12 pruned nodes, max_depth=5\u001b[0m\n",
      "\u001b[34m[64]#011train-error:0.1264#011validation-error:0.1651\u001b[0m\n",
      "\u001b[34m[05:15:32] src/tree/updater_prune.cc:74: tree pruning end, 1 roots, 10 extra nodes, 12 pruned nodes, max_depth=5\u001b[0m\n",
      "\u001b[34m[65]#011train-error:0.127467#011validation-error:0.165\u001b[0m\n",
      "\u001b[34m[05:15:33] src/tree/updater_prune.cc:74: tree pruning end, 1 roots, 14 extra nodes, 12 pruned nodes, max_depth=5\u001b[0m\n",
      "\u001b[34m[66]#011train-error:0.1268#011validation-error:0.1644\u001b[0m\n",
      "\u001b[34m[05:15:35] src/tree/updater_prune.cc:74: tree pruning end, 1 roots, 28 extra nodes, 6 pruned nodes, max_depth=5\u001b[0m\n",
      "\u001b[34m[67]#011train-error:0.124867#011validation-error:0.1637\u001b[0m\n",
      "\u001b[34m[05:15:36] src/tree/updater_prune.cc:74: tree pruning end, 1 roots, 12 extra nodes, 10 pruned nodes, max_depth=5\u001b[0m\n",
      "\u001b[34m[68]#011train-error:0.1246#011validation-error:0.1648\u001b[0m\n",
      "\u001b[34m[05:15:37] src/tree/updater_prune.cc:74: tree pruning end, 1 roots, 18 extra nodes, 12 pruned nodes, max_depth=5\u001b[0m\n",
      "\u001b[34m[69]#011train-error:0.124133#011validation-error:0.1642\u001b[0m\n",
      "\u001b[34m[05:15:38] src/tree/updater_prune.cc:74: tree pruning end, 1 roots, 14 extra nodes, 12 pruned nodes, max_depth=5\u001b[0m\n",
      "\u001b[34m[70]#011train-error:0.123733#011validation-error:0.164\u001b[0m\n",
      "\u001b[34m[05:15:40] src/tree/updater_prune.cc:74: tree pruning end, 1 roots, 22 extra nodes, 6 pruned nodes, max_depth=5\u001b[0m\n",
      "\u001b[34m[71]#011train-error:0.123533#011validation-error:0.1638\u001b[0m\n",
      "\u001b[34m[05:15:41] src/tree/updater_prune.cc:74: tree pruning end, 1 roots, 12 extra nodes, 10 pruned nodes, max_depth=5\u001b[0m\n",
      "\u001b[34m[72]#011train-error:0.122733#011validation-error:0.1635\u001b[0m\n",
      "\u001b[34m[05:15:42] src/tree/updater_prune.cc:74: tree pruning end, 1 roots, 26 extra nodes, 10 pruned nodes, max_depth=5\u001b[0m\n",
      "\u001b[34m[73]#011train-error:0.122#011validation-error:0.1628\u001b[0m\n",
      "\u001b[34m[05:15:44] src/tree/updater_prune.cc:74: tree pruning end, 1 roots, 18 extra nodes, 12 pruned nodes, max_depth=5\u001b[0m\n",
      "\u001b[34m[74]#011train-error:0.121867#011validation-error:0.1623\u001b[0m\n",
      "\u001b[34m[05:15:45] src/tree/updater_prune.cc:74: tree pruning end, 1 roots, 20 extra nodes, 2 pruned nodes, max_depth=5\u001b[0m\n",
      "\u001b[34m[75]#011train-error:0.123133#011validation-error:0.1618\u001b[0m\n",
      "\u001b[34m[05:15:46] src/tree/updater_prune.cc:74: tree pruning end, 1 roots, 16 extra nodes, 4 pruned nodes, max_depth=5\u001b[0m\n",
      "\u001b[34m[76]#011train-error:0.121933#011validation-error:0.1621\u001b[0m\n",
      "\u001b[34m[05:15:47] src/tree/updater_prune.cc:74: tree pruning end, 1 roots, 20 extra nodes, 8 pruned nodes, max_depth=5\u001b[0m\n",
      "\u001b[34m[77]#011train-error:0.121333#011validation-error:0.1619\u001b[0m\n",
      "\u001b[34m[05:15:49] src/tree/updater_prune.cc:74: tree pruning end, 1 roots, 14 extra nodes, 18 pruned nodes, max_depth=5\u001b[0m\n",
      "\u001b[34m[78]#011train-error:0.120533#011validation-error:0.1618\u001b[0m\n",
      "\u001b[34m[05:15:50] src/tree/updater_prune.cc:74: tree pruning end, 1 roots, 18 extra nodes, 8 pruned nodes, max_depth=5\u001b[0m\n",
      "\u001b[34m[79]#011train-error:0.1204#011validation-error:0.1627\u001b[0m\n",
      "\u001b[34m[05:15:51] src/tree/updater_prune.cc:74: tree pruning end, 1 roots, 14 extra nodes, 12 pruned nodes, max_depth=5\u001b[0m\n",
      "\u001b[34m[80]#011train-error:0.1196#011validation-error:0.1616\u001b[0m\n",
      "\u001b[34m[05:15:53] src/tree/updater_prune.cc:74: tree pruning end, 1 roots, 22 extra nodes, 14 pruned nodes, max_depth=5\u001b[0m\n",
      "\u001b[34m[81]#011train-error:0.1178#011validation-error:0.1622\u001b[0m\n",
      "\u001b[34m[05:15:54] src/tree/updater_prune.cc:74: tree pruning end, 1 roots, 22 extra nodes, 12 pruned nodes, max_depth=5\u001b[0m\n",
      "\u001b[34m[82]#011train-error:0.116867#011validation-error:0.1632\u001b[0m\n",
      "\u001b[34m[05:15:55] src/tree/updater_prune.cc:74: tree pruning end, 1 roots, 14 extra nodes, 12 pruned nodes, max_depth=5\u001b[0m\n",
      "\u001b[34m[83]#011train-error:0.116933#011validation-error:0.1626\u001b[0m\n",
      "\u001b[34m[05:15:56] src/tree/updater_prune.cc:74: tree pruning end, 1 roots, 20 extra nodes, 4 pruned nodes, max_depth=5\u001b[0m\n",
      "\u001b[34m[84]#011train-error:0.115867#011validation-error:0.1622\u001b[0m\n",
      "\u001b[34m[05:15:58] src/tree/updater_prune.cc:74: tree pruning end, 1 roots, 12 extra nodes, 8 pruned nodes, max_depth=5\u001b[0m\n",
      "\u001b[34m[85]#011train-error:0.115667#011validation-error:0.1617\u001b[0m\n",
      "\u001b[34m[05:15:59] src/tree/updater_prune.cc:74: tree pruning end, 1 roots, 18 extra nodes, 8 pruned nodes, max_depth=5\u001b[0m\n",
      "\u001b[34m[86]#011train-error:0.115733#011validation-error:0.1613\u001b[0m\n",
      "\u001b[34m[05:16:00] src/tree/updater_prune.cc:74: tree pruning end, 1 roots, 36 extra nodes, 14 pruned nodes, max_depth=5\u001b[0m\n",
      "\u001b[34m[87]#011train-error:0.1132#011validation-error:0.1598\u001b[0m\n"
     ]
    },
    {
     "name": "stdout",
     "output_type": "stream",
     "text": [
      "\u001b[34m[05:16:02] src/tree/updater_prune.cc:74: tree pruning end, 1 roots, 24 extra nodes, 12 pruned nodes, max_depth=5\u001b[0m\n",
      "\u001b[34m[88]#011train-error:0.112267#011validation-error:0.1608\u001b[0m\n",
      "\u001b[34m[05:16:03] src/tree/updater_prune.cc:74: tree pruning end, 1 roots, 24 extra nodes, 12 pruned nodes, max_depth=5\u001b[0m\n",
      "\u001b[34m[89]#011train-error:0.112133#011validation-error:0.1609\u001b[0m\n",
      "\u001b[34m[05:16:04] src/tree/updater_prune.cc:74: tree pruning end, 1 roots, 14 extra nodes, 16 pruned nodes, max_depth=5\u001b[0m\n",
      "\u001b[34m[90]#011train-error:0.1126#011validation-error:0.1606\u001b[0m\n",
      "\u001b[34m[05:16:06] src/tree/updater_prune.cc:74: tree pruning end, 1 roots, 14 extra nodes, 10 pruned nodes, max_depth=5\u001b[0m\n",
      "\u001b[34m[91]#011train-error:0.111467#011validation-error:0.1612\u001b[0m\n",
      "\u001b[34m[05:16:07] src/tree/updater_prune.cc:74: tree pruning end, 1 roots, 26 extra nodes, 18 pruned nodes, max_depth=5\u001b[0m\n",
      "\u001b[34m[92]#011train-error:0.1108#011validation-error:0.1597\u001b[0m\n",
      "\u001b[34m[05:16:08] src/tree/updater_prune.cc:74: tree pruning end, 1 roots, 26 extra nodes, 4 pruned nodes, max_depth=5\u001b[0m\n",
      "\u001b[34m[93]#011train-error:0.109933#011validation-error:0.1582\u001b[0m\n",
      "\u001b[34m[05:16:09] src/tree/updater_prune.cc:74: tree pruning end, 1 roots, 10 extra nodes, 12 pruned nodes, max_depth=5\u001b[0m\n",
      "\u001b[34m[94]#011train-error:0.109133#011validation-error:0.158\u001b[0m\n",
      "\u001b[34m[05:16:11] src/tree/updater_prune.cc:74: tree pruning end, 1 roots, 14 extra nodes, 4 pruned nodes, max_depth=5\u001b[0m\n",
      "\u001b[34m[95]#011train-error:0.108333#011validation-error:0.1581\u001b[0m\n",
      "\u001b[34m[05:16:12] src/tree/updater_prune.cc:74: tree pruning end, 1 roots, 12 extra nodes, 6 pruned nodes, max_depth=5\u001b[0m\n",
      "\u001b[34m[96]#011train-error:0.108#011validation-error:0.1578\u001b[0m\n",
      "\u001b[34m[05:16:13] src/tree/updater_prune.cc:74: tree pruning end, 1 roots, 18 extra nodes, 10 pruned nodes, max_depth=5\u001b[0m\n",
      "\u001b[34m[97]#011train-error:0.1076#011validation-error:0.1589\u001b[0m\n",
      "\u001b[34m[05:16:15] src/tree/updater_prune.cc:74: tree pruning end, 1 roots, 12 extra nodes, 10 pruned nodes, max_depth=5\u001b[0m\n",
      "\u001b[34m[98]#011train-error:0.107133#011validation-error:0.1582\u001b[0m\n",
      "\u001b[34m[05:16:16] src/tree/updater_prune.cc:74: tree pruning end, 1 roots, 28 extra nodes, 2 pruned nodes, max_depth=5\u001b[0m\n",
      "\u001b[34m[99]#011train-error:0.107#011validation-error:0.1581\u001b[0m\n",
      "\u001b[34m[05:16:17] src/tree/updater_prune.cc:74: tree pruning end, 1 roots, 22 extra nodes, 12 pruned nodes, max_depth=5\u001b[0m\n",
      "\u001b[34m[100]#011train-error:0.106867#011validation-error:0.1575\u001b[0m\n",
      "\u001b[34m[05:16:18] src/tree/updater_prune.cc:74: tree pruning end, 1 roots, 20 extra nodes, 14 pruned nodes, max_depth=5\u001b[0m\n",
      "\u001b[34m[101]#011train-error:0.1058#011validation-error:0.1568\u001b[0m\n",
      "\u001b[34m[05:16:20] src/tree/updater_prune.cc:74: tree pruning end, 1 roots, 20 extra nodes, 8 pruned nodes, max_depth=5\u001b[0m\n",
      "\u001b[34m[102]#011train-error:0.1056#011validation-error:0.1563\u001b[0m\n",
      "\u001b[34m[05:16:21] src/tree/updater_prune.cc:74: tree pruning end, 1 roots, 20 extra nodes, 8 pruned nodes, max_depth=5\u001b[0m\n",
      "\u001b[34m[103]#011train-error:0.1056#011validation-error:0.1557\u001b[0m\n",
      "\u001b[34m[05:16:22] src/tree/updater_prune.cc:74: tree pruning end, 1 roots, 36 extra nodes, 10 pruned nodes, max_depth=5\u001b[0m\n",
      "\u001b[34m[104]#011train-error:0.104067#011validation-error:0.1549\u001b[0m\n",
      "\u001b[34m[05:16:24] src/tree/updater_prune.cc:74: tree pruning end, 1 roots, 12 extra nodes, 8 pruned nodes, max_depth=5\u001b[0m\n",
      "\u001b[34m[105]#011train-error:0.103467#011validation-error:0.1561\u001b[0m\n",
      "\u001b[34m[05:16:25] src/tree/updater_prune.cc:74: tree pruning end, 1 roots, 14 extra nodes, 4 pruned nodes, max_depth=5\u001b[0m\n",
      "\u001b[34m[106]#011train-error:0.103067#011validation-error:0.1561\u001b[0m\n",
      "\u001b[34m[05:16:26] src/tree/updater_prune.cc:74: tree pruning end, 1 roots, 20 extra nodes, 8 pruned nodes, max_depth=5\u001b[0m\n",
      "\u001b[34m[107]#011train-error:0.102133#011validation-error:0.1554\u001b[0m\n",
      "\u001b[34m[05:16:28] src/tree/updater_prune.cc:74: tree pruning end, 1 roots, 14 extra nodes, 2 pruned nodes, max_depth=5\u001b[0m\n",
      "\u001b[34m[108]#011train-error:0.102267#011validation-error:0.1546\u001b[0m\n",
      "\u001b[34m[05:16:29] src/tree/updater_prune.cc:74: tree pruning end, 1 roots, 22 extra nodes, 12 pruned nodes, max_depth=5\u001b[0m\n",
      "\u001b[34m[109]#011train-error:0.1018#011validation-error:0.1543\u001b[0m\n",
      "\u001b[34m[05:16:30] src/tree/updater_prune.cc:74: tree pruning end, 1 roots, 12 extra nodes, 10 pruned nodes, max_depth=5\u001b[0m\n",
      "\u001b[34m[110]#011train-error:0.101867#011validation-error:0.1544\u001b[0m\n",
      "\u001b[34m[05:16:31] src/tree/updater_prune.cc:74: tree pruning end, 1 roots, 14 extra nodes, 16 pruned nodes, max_depth=5\u001b[0m\n",
      "\u001b[34m[111]#011train-error:0.101267#011validation-error:0.1545\u001b[0m\n",
      "\u001b[34m[05:16:33] src/tree/updater_prune.cc:74: tree pruning end, 1 roots, 18 extra nodes, 14 pruned nodes, max_depth=5\u001b[0m\n",
      "\u001b[34m[112]#011train-error:0.101067#011validation-error:0.1543\u001b[0m\n",
      "\u001b[34m[05:16:34] src/tree/updater_prune.cc:74: tree pruning end, 1 roots, 10 extra nodes, 4 pruned nodes, max_depth=5\u001b[0m\n",
      "\u001b[34m[113]#011train-error:0.100667#011validation-error:0.154\u001b[0m\n",
      "\u001b[34m[05:16:35] src/tree/updater_prune.cc:74: tree pruning end, 1 roots, 16 extra nodes, 4 pruned nodes, max_depth=5\u001b[0m\n",
      "\u001b[34m[114]#011train-error:0.099933#011validation-error:0.1531\u001b[0m\n",
      "\u001b[34m[05:16:37] src/tree/updater_prune.cc:74: tree pruning end, 1 roots, 30 extra nodes, 6 pruned nodes, max_depth=5\u001b[0m\n",
      "\u001b[34m[115]#011train-error:0.099867#011validation-error:0.1529\u001b[0m\n",
      "\n",
      "2020-12-30 05:17:32 Uploading - Uploading generated training model\n",
      "2020-12-30 05:17:32 Completed - Training job completed\n",
      "\u001b[34m[05:16:38] src/tree/updater_prune.cc:74: tree pruning end, 1 roots, 18 extra nodes, 6 pruned nodes, max_depth=5\u001b[0m\n",
      "\u001b[34m[116]#011train-error:0.099667#011validation-error:0.1525\u001b[0m\n",
      "\u001b[34m[05:16:39] src/tree/updater_prune.cc:74: tree pruning end, 1 roots, 18 extra nodes, 20 pruned nodes, max_depth=5\u001b[0m\n",
      "\u001b[34m[117]#011train-error:0.099533#011validation-error:0.1522\u001b[0m\n",
      "\u001b[34m[05:16:40] src/tree/updater_prune.cc:74: tree pruning end, 1 roots, 36 extra nodes, 4 pruned nodes, max_depth=5\u001b[0m\n",
      "\u001b[34m[118]#011train-error:0.098467#011validation-error:0.152\u001b[0m\n",
      "\u001b[34m[05:16:42] src/tree/updater_prune.cc:74: tree pruning end, 1 roots, 12 extra nodes, 10 pruned nodes, max_depth=5\u001b[0m\n",
      "\u001b[34m[119]#011train-error:0.0976#011validation-error:0.152\u001b[0m\n",
      "\u001b[34m[05:16:43] src/tree/updater_prune.cc:74: tree pruning end, 1 roots, 16 extra nodes, 4 pruned nodes, max_depth=5\u001b[0m\n",
      "\u001b[34m[120]#011train-error:0.097267#011validation-error:0.1513\u001b[0m\n",
      "\u001b[34m[05:16:44] src/tree/updater_prune.cc:74: tree pruning end, 1 roots, 10 extra nodes, 4 pruned nodes, max_depth=5\u001b[0m\n",
      "\u001b[34m[121]#011train-error:0.096933#011validation-error:0.1514\u001b[0m\n",
      "\u001b[34m[05:16:46] src/tree/updater_prune.cc:74: tree pruning end, 1 roots, 24 extra nodes, 4 pruned nodes, max_depth=5\u001b[0m\n",
      "\u001b[34m[122]#011train-error:0.0966#011validation-error:0.1506\u001b[0m\n",
      "\u001b[34m[05:16:47] src/tree/updater_prune.cc:74: tree pruning end, 1 roots, 18 extra nodes, 8 pruned nodes, max_depth=5\u001b[0m\n",
      "\u001b[34m[123]#011train-error:0.096467#011validation-error:0.1504\u001b[0m\n",
      "\u001b[34m[05:16:48] src/tree/updater_prune.cc:74: tree pruning end, 1 roots, 10 extra nodes, 8 pruned nodes, max_depth=5\u001b[0m\n",
      "\u001b[34m[124]#011train-error:0.0966#011validation-error:0.1504\u001b[0m\n",
      "\u001b[34m[05:16:49] src/tree/updater_prune.cc:74: tree pruning end, 1 roots, 22 extra nodes, 10 pruned nodes, max_depth=5\u001b[0m\n",
      "\u001b[34m[125]#011train-error:0.096067#011validation-error:0.1512\u001b[0m\n",
      "\u001b[34m[05:16:51] src/tree/updater_prune.cc:74: tree pruning end, 1 roots, 10 extra nodes, 4 pruned nodes, max_depth=5\u001b[0m\n",
      "\u001b[34m[126]#011train-error:0.095667#011validation-error:0.1515\u001b[0m\n",
      "\u001b[34m[05:16:52] src/tree/updater_prune.cc:74: tree pruning end, 1 roots, 22 extra nodes, 4 pruned nodes, max_depth=5\u001b[0m\n",
      "\u001b[34m[127]#011train-error:0.0946#011validation-error:0.1511\u001b[0m\n",
      "\u001b[34m[05:16:53] src/tree/updater_prune.cc:74: tree pruning end, 1 roots, 26 extra nodes, 10 pruned nodes, max_depth=5\u001b[0m\n",
      "\u001b[34m[128]#011train-error:0.094467#011validation-error:0.1515\u001b[0m\n",
      "\u001b[34m[05:16:55] src/tree/updater_prune.cc:74: tree pruning end, 1 roots, 12 extra nodes, 10 pruned nodes, max_depth=5\u001b[0m\n",
      "\u001b[34m[129]#011train-error:0.093467#011validation-error:0.1506\u001b[0m\n",
      "\u001b[34m[05:16:56] src/tree/updater_prune.cc:74: tree pruning end, 1 roots, 16 extra nodes, 0 pruned nodes, max_depth=5\u001b[0m\n",
      "\u001b[34m[130]#011train-error:0.093333#011validation-error:0.1497\u001b[0m\n",
      "\u001b[34m[05:16:57] src/tree/updater_prune.cc:74: tree pruning end, 1 roots, 18 extra nodes, 6 pruned nodes, max_depth=5\u001b[0m\n",
      "\u001b[34m[131]#011train-error:0.093#011validation-error:0.1492\u001b[0m\n",
      "\u001b[34m[05:16:58] src/tree/updater_prune.cc:74: tree pruning end, 1 roots, 24 extra nodes, 6 pruned nodes, max_depth=5\u001b[0m\n",
      "\u001b[34m[132]#011train-error:0.092133#011validation-error:0.1491\u001b[0m\n",
      "\u001b[34m[05:17:00] src/tree/updater_prune.cc:74: tree pruning end, 1 roots, 14 extra nodes, 8 pruned nodes, max_depth=5\u001b[0m\n",
      "\u001b[34m[133]#011train-error:0.091467#011validation-error:0.1488\u001b[0m\n",
      "\u001b[34m[05:17:01] src/tree/updater_prune.cc:74: tree pruning end, 1 roots, 18 extra nodes, 0 pruned nodes, max_depth=5\u001b[0m\n",
      "\u001b[34m[134]#011train-error:0.0916#011validation-error:0.148\u001b[0m\n",
      "\u001b[34m[05:17:02] src/tree/updater_prune.cc:74: tree pruning end, 1 roots, 14 extra nodes, 4 pruned nodes, max_depth=5\u001b[0m\n",
      "\u001b[34m[135]#011train-error:0.090867#011validation-error:0.1478\u001b[0m\n",
      "\u001b[34m[05:17:04] src/tree/updater_prune.cc:74: tree pruning end, 1 roots, 20 extra nodes, 8 pruned nodes, max_depth=5\u001b[0m\n",
      "\u001b[34m[136]#011train-error:0.090667#011validation-error:0.1474\u001b[0m\n",
      "\u001b[34m[05:17:05] src/tree/updater_prune.cc:74: tree pruning end, 1 roots, 16 extra nodes, 4 pruned nodes, max_depth=5\u001b[0m\n",
      "\u001b[34m[137]#011train-error:0.0908#011validation-error:0.1475\u001b[0m\n",
      "\u001b[34m[05:17:06] src/tree/updater_prune.cc:74: tree pruning end, 1 roots, 10 extra nodes, 8 pruned nodes, max_depth=5\u001b[0m\n",
      "\u001b[34m[138]#011train-error:0.090667#011validation-error:0.147\u001b[0m\n",
      "\u001b[34m[05:17:07] src/tree/updater_prune.cc:74: tree pruning end, 1 roots, 22 extra nodes, 8 pruned nodes, max_depth=5\u001b[0m\n",
      "\u001b[34m[139]#011train-error:0.0906#011validation-error:0.1463\u001b[0m\n",
      "\u001b[34m[05:17:09] src/tree/updater_prune.cc:74: tree pruning end, 1 roots, 16 extra nodes, 12 pruned nodes, max_depth=5\u001b[0m\n",
      "\u001b[34m[140]#011train-error:0.090267#011validation-error:0.1473\u001b[0m\n",
      "\u001b[34m[05:17:10] src/tree/updater_prune.cc:74: tree pruning end, 1 roots, 10 extra nodes, 4 pruned nodes, max_depth=5\u001b[0m\n",
      "\u001b[34m[141]#011train-error:0.0902#011validation-error:0.1473\u001b[0m\n",
      "\u001b[34m[05:17:11] src/tree/updater_prune.cc:74: tree pruning end, 1 roots, 10 extra nodes, 2 pruned nodes, max_depth=5\u001b[0m\n",
      "\u001b[34m[142]#011train-error:0.090067#011validation-error:0.1474\u001b[0m\n",
      "\u001b[34m[05:17:13] src/tree/updater_prune.cc:74: tree pruning end, 1 roots, 10 extra nodes, 4 pruned nodes, max_depth=5\u001b[0m\n",
      "\u001b[34m[143]#011train-error:0.0898#011validation-error:0.147\u001b[0m\n",
      "\u001b[34m[05:17:14] src/tree/updater_prune.cc:74: tree pruning end, 1 roots, 18 extra nodes, 4 pruned nodes, max_depth=5\u001b[0m\n",
      "\u001b[34m[144]#011train-error:0.0888#011validation-error:0.1478\u001b[0m\n",
      "\u001b[34m[05:17:15] src/tree/updater_prune.cc:74: tree pruning end, 1 roots, 10 extra nodes, 8 pruned nodes, max_depth=5\u001b[0m\n",
      "\u001b[34m[145]#011train-error:0.088667#011validation-error:0.1482\u001b[0m\n",
      "\u001b[34m[05:17:16] src/tree/updater_prune.cc:74: tree pruning end, 1 roots, 26 extra nodes, 8 pruned nodes, max_depth=5\u001b[0m\n",
      "\u001b[34m[146]#011train-error:0.088467#011validation-error:0.1485\u001b[0m\n",
      "\u001b[34m[05:17:18] src/tree/updater_prune.cc:74: tree pruning end, 1 roots, 14 extra nodes, 6 pruned nodes, max_depth=5\u001b[0m\n",
      "\u001b[34m[147]#011train-error:0.0884#011validation-error:0.1478\u001b[0m\n",
      "\u001b[34m[05:17:19] src/tree/updater_prune.cc:74: tree pruning end, 1 roots, 14 extra nodes, 16 pruned nodes, max_depth=5\u001b[0m\n",
      "\u001b[34m[148]#011train-error:0.087733#011validation-error:0.1479\u001b[0m\n",
      "\u001b[34m[05:17:20] src/tree/updater_prune.cc:74: tree pruning end, 1 roots, 34 extra nodes, 14 pruned nodes, max_depth=5\u001b[0m\n",
      "\u001b[34m[149]#011train-error:0.087467#011validation-error:0.1471\u001b[0m\n",
      "\u001b[34mStopping. Best iteration:\u001b[0m\n",
      "\u001b[34m[139]#011train-error:0.0906#011validation-error:0.1463\n",
      "\u001b[0m\n"
     ]
    },
    {
     "name": "stdout",
     "output_type": "stream",
     "text": [
      "Training seconds: 250\n",
      "Billable seconds: 250\n"
     ]
    }
   ],
   "source": [
    "xgb.fit({'train': s3_input_train, 'validation': s3_input_validation})"
   ]
  },
  {
   "cell_type": "markdown",
   "metadata": {},
   "source": [
    "## Step 5: Testing the model\n",
    "\n",
    "Now that we've fit our XGBoost model, it's time to see how well it performs. To do this we will use SageMakers Batch Transform functionality. Batch Transform is a convenient way to perform inference on a large dataset in a way that is not realtime. That is, we don't necessarily need to use our model's results immediately and instead we can perform inference on a large number of samples. An example of this in industry might be performing an end of month report. This method of inference can also be useful to us as it means that we can perform inference on our entire test set. \n",
    "\n",
    "To perform a Batch Transformation we need to first create a transformer objects from our trained estimator object."
   ]
  },
  {
   "cell_type": "code",
   "execution_count": 38,
   "metadata": {},
   "outputs": [
    {
     "name": "stderr",
     "output_type": "stream",
     "text": [
      "Parameter image will be renamed to image_uri in SageMaker Python SDK v2.\n"
     ]
    }
   ],
   "source": [
    "xgb_transformer = xgb.transformer(instance_count = 1, instance_type = 'ml.m4.xlarge')"
   ]
  },
  {
   "cell_type": "markdown",
   "metadata": {},
   "source": [
    "Next we actually perform the transform job. When doing so we need to make sure to specify the type of data we are sending so that it is serialized correctly in the background. In our case we are providing our model with csv data so we specify `text/csv`. Also, if the test data that we have provided is too large to process all at once then we need to specify how the data file should be split up. Since each line is a single entry in our data set we tell SageMaker that it can split the input on each line."
   ]
  },
  {
   "cell_type": "code",
   "execution_count": 39,
   "metadata": {},
   "outputs": [],
   "source": [
    "xgb_transformer.transform(test_location, content_type='text/csv', split_type='Line')"
   ]
  },
  {
   "cell_type": "markdown",
   "metadata": {},
   "source": [
    "Currently the transform job is running but it is doing so in the background. Since we wish to wait until the transform job is done and we would like a bit of feedback we can run the `wait()` method."
   ]
  },
  {
   "cell_type": "code",
   "execution_count": 40,
   "metadata": {},
   "outputs": [
    {
     "name": "stdout",
     "output_type": "stream",
     "text": [
      ".............................\u001b[32m2020-12-30T01:03:39.581:[sagemaker logs]: MaxConcurrentTransforms=4, MaxPayloadInMB=6, BatchStrategy=MULTI_RECORD\u001b[0m\n",
      "\u001b[34mArguments: serve\u001b[0m\n",
      "\u001b[35mArguments: serve\u001b[0m\n",
      "\u001b[34m[2020-12-30 01:03:39 +0000] [1] [INFO] Starting gunicorn 19.7.1\u001b[0m\n",
      "\u001b[34m[2020-12-30 01:03:39 +0000] [1] [INFO] Listening at: http://0.0.0.0:8080 (1)\u001b[0m\n",
      "\u001b[34m[2020-12-30 01:03:39 +0000] [1] [INFO] Using worker: gevent\u001b[0m\n",
      "\u001b[34m[2020-12-30 01:03:39 +0000] [36] [INFO] Booting worker with pid: 36\u001b[0m\n",
      "\u001b[34m[2020-12-30 01:03:39 +0000] [37] [INFO] Booting worker with pid: 37\u001b[0m\n",
      "\u001b[34m[2020-12-30 01:03:39 +0000] [38] [INFO] Booting worker with pid: 38\u001b[0m\n",
      "\u001b[34m[2020-12-30:01:03:39:INFO] Model loaded successfully for worker : 36\u001b[0m\n",
      "\u001b[34m[2020-12-30:01:03:39:INFO] Model loaded successfully for worker : 37\u001b[0m\n",
      "\u001b[34m[2020-12-30 01:03:39 +0000] [39] [INFO] Booting worker with pid: 39\u001b[0m\n",
      "\u001b[34m[2020-12-30:01:03:39:INFO] Model loaded successfully for worker : 38\u001b[0m\n",
      "\u001b[34m[2020-12-30:01:03:39:INFO] Model loaded successfully for worker : 39\u001b[0m\n",
      "\u001b[34m[2020-12-30:01:03:39:INFO] Sniff delimiter as ','\u001b[0m\n",
      "\u001b[34m[2020-12-30:01:03:39:INFO] Determined delimiter of CSV input is ','\u001b[0m\n",
      "\u001b[34m[2020-12-30:01:03:39:INFO] Sniff delimiter as ','\u001b[0m\n",
      "\u001b[34m[2020-12-30:01:03:39:INFO] Determined delimiter of CSV input is ','\u001b[0m\n",
      "\u001b[34m[2020-12-30:01:03:40:INFO] Sniff delimiter as ','\u001b[0m\n",
      "\u001b[34m[2020-12-30:01:03:40:INFO] Determined delimiter of CSV input is ','\u001b[0m\n",
      "\u001b[35m[2020-12-30 01:03:39 +0000] [1] [INFO] Starting gunicorn 19.7.1\u001b[0m\n",
      "\u001b[35m[2020-12-30 01:03:39 +0000] [1] [INFO] Listening at: http://0.0.0.0:8080 (1)\u001b[0m\n",
      "\u001b[35m[2020-12-30 01:03:39 +0000] [1] [INFO] Using worker: gevent\u001b[0m\n",
      "\u001b[35m[2020-12-30 01:03:39 +0000] [36] [INFO] Booting worker with pid: 36\u001b[0m\n",
      "\u001b[35m[2020-12-30 01:03:39 +0000] [37] [INFO] Booting worker with pid: 37\u001b[0m\n",
      "\u001b[35m[2020-12-30 01:03:39 +0000] [38] [INFO] Booting worker with pid: 38\u001b[0m\n",
      "\u001b[35m[2020-12-30:01:03:39:INFO] Model loaded successfully for worker : 36\u001b[0m\n",
      "\u001b[35m[2020-12-30:01:03:39:INFO] Model loaded successfully for worker : 37\u001b[0m\n",
      "\u001b[35m[2020-12-30 01:03:39 +0000] [39] [INFO] Booting worker with pid: 39\u001b[0m\n",
      "\u001b[35m[2020-12-30:01:03:39:INFO] Model loaded successfully for worker : 38\u001b[0m\n",
      "\u001b[35m[2020-12-30:01:03:39:INFO] Model loaded successfully for worker : 39\u001b[0m\n",
      "\u001b[35m[2020-12-30:01:03:39:INFO] Sniff delimiter as ','\u001b[0m\n",
      "\u001b[35m[2020-12-30:01:03:39:INFO] Determined delimiter of CSV input is ','\u001b[0m\n",
      "\u001b[35m[2020-12-30:01:03:39:INFO] Sniff delimiter as ','\u001b[0m\n",
      "\u001b[35m[2020-12-30:01:03:39:INFO] Determined delimiter of CSV input is ','\u001b[0m\n",
      "\u001b[35m[2020-12-30:01:03:40:INFO] Sniff delimiter as ','\u001b[0m\n",
      "\u001b[35m[2020-12-30:01:03:40:INFO] Determined delimiter of CSV input is ','\u001b[0m\n",
      "\u001b[34m[2020-12-30:01:03:40:INFO] Sniff delimiter as ','\u001b[0m\n",
      "\u001b[34m[2020-12-30:01:03:40:INFO] Determined delimiter of CSV input is ','\u001b[0m\n",
      "\u001b[35m[2020-12-30:01:03:40:INFO] Sniff delimiter as ','\u001b[0m\n",
      "\u001b[35m[2020-12-30:01:03:40:INFO] Determined delimiter of CSV input is ','\u001b[0m\n",
      "\u001b[34m[2020-12-30:01:03:42:INFO] Sniff delimiter as ','\u001b[0m\n",
      "\u001b[34m[2020-12-30:01:03:42:INFO] Determined delimiter of CSV input is ','\u001b[0m\n",
      "\u001b[34m[2020-12-30:01:03:42:INFO] Sniff delimiter as ','\u001b[0m\n",
      "\u001b[35m[2020-12-30:01:03:42:INFO] Sniff delimiter as ','\u001b[0m\n",
      "\u001b[35m[2020-12-30:01:03:42:INFO] Determined delimiter of CSV input is ','\u001b[0m\n",
      "\u001b[35m[2020-12-30:01:03:42:INFO] Sniff delimiter as ','\u001b[0m\n",
      "\u001b[34m[2020-12-30:01:03:42:INFO] Determined delimiter of CSV input is ','\u001b[0m\n",
      "\u001b[34m[2020-12-30:01:03:42:INFO] Sniff delimiter as ','\u001b[0m\n",
      "\u001b[34m[2020-12-30:01:03:42:INFO] Determined delimiter of CSV input is ','\u001b[0m\n",
      "\u001b[35m[2020-12-30:01:03:42:INFO] Determined delimiter of CSV input is ','\u001b[0m\n",
      "\u001b[35m[2020-12-30:01:03:42:INFO] Sniff delimiter as ','\u001b[0m\n",
      "\u001b[35m[2020-12-30:01:03:42:INFO] Determined delimiter of CSV input is ','\u001b[0m\n",
      "\u001b[34m[2020-12-30:01:03:42:INFO] Sniff delimiter as ','\u001b[0m\n",
      "\u001b[34m[2020-12-30:01:03:42:INFO] Determined delimiter of CSV input is ','\u001b[0m\n",
      "\u001b[35m[2020-12-30:01:03:42:INFO] Sniff delimiter as ','\u001b[0m\n",
      "\u001b[35m[2020-12-30:01:03:42:INFO] Determined delimiter of CSV input is ','\u001b[0m\n",
      "\u001b[34m[2020-12-30:01:03:44:INFO] Sniff delimiter as ','\u001b[0m\n",
      "\u001b[34m[2020-12-30:01:03:44:INFO] Determined delimiter of CSV input is ','\u001b[0m\n",
      "\u001b[34m[2020-12-30:01:03:45:INFO] Sniff delimiter as ','\u001b[0m\n",
      "\u001b[34m[2020-12-30:01:03:45:INFO] Determined delimiter of CSV input is ','\u001b[0m\n",
      "\u001b[34m[2020-12-30:01:03:45:INFO] Sniff delimiter as ','\u001b[0m\n",
      "\u001b[34m[2020-12-30:01:03:45:INFO] Determined delimiter of CSV input is ','\u001b[0m\n",
      "\u001b[35m[2020-12-30:01:03:44:INFO] Sniff delimiter as ','\u001b[0m\n",
      "\u001b[35m[2020-12-30:01:03:44:INFO] Determined delimiter of CSV input is ','\u001b[0m\n",
      "\u001b[35m[2020-12-30:01:03:45:INFO] Sniff delimiter as ','\u001b[0m\n",
      "\u001b[35m[2020-12-30:01:03:45:INFO] Determined delimiter of CSV input is ','\u001b[0m\n",
      "\u001b[35m[2020-12-30:01:03:45:INFO] Sniff delimiter as ','\u001b[0m\n",
      "\u001b[35m[2020-12-30:01:03:45:INFO] Determined delimiter of CSV input is ','\u001b[0m\n",
      "\u001b[34m[2020-12-30:01:03:47:INFO] Sniff delimiter as ','\u001b[0m\n",
      "\u001b[34m[2020-12-30:01:03:47:INFO] Determined delimiter of CSV input is ','\u001b[0m\n",
      "\u001b[34m[2020-12-30:01:03:47:INFO] Sniff delimiter as ','\u001b[0m\n",
      "\u001b[34m[2020-12-30:01:03:47:INFO] Determined delimiter of CSV input is ','\u001b[0m\n",
      "\u001b[34m[2020-12-30:01:03:47:INFO] Sniff delimiter as ','\u001b[0m\n",
      "\u001b[35m[2020-12-30:01:03:47:INFO] Sniff delimiter as ','\u001b[0m\n",
      "\u001b[35m[2020-12-30:01:03:47:INFO] Determined delimiter of CSV input is ','\u001b[0m\n",
      "\u001b[35m[2020-12-30:01:03:47:INFO] Sniff delimiter as ','\u001b[0m\n",
      "\u001b[35m[2020-12-30:01:03:47:INFO] Determined delimiter of CSV input is ','\u001b[0m\n",
      "\u001b[35m[2020-12-30:01:03:47:INFO] Sniff delimiter as ','\u001b[0m\n",
      "\u001b[34m[2020-12-30:01:03:47:INFO] Determined delimiter of CSV input is ','\u001b[0m\n",
      "\u001b[35m[2020-12-30:01:03:47:INFO] Determined delimiter of CSV input is ','\u001b[0m\n",
      "\u001b[34m[2020-12-30:01:03:47:INFO] Sniff delimiter as ','\u001b[0m\n",
      "\u001b[34m[2020-12-30:01:03:47:INFO] Determined delimiter of CSV input is ','\u001b[0m\n",
      "\u001b[35m[2020-12-30:01:03:47:INFO] Sniff delimiter as ','\u001b[0m\n",
      "\u001b[35m[2020-12-30:01:03:47:INFO] Determined delimiter of CSV input is ','\u001b[0m\n",
      "\u001b[34m[2020-12-30:01:03:49:INFO] Sniff delimiter as ','\u001b[0m\n",
      "\u001b[34m[2020-12-30:01:03:49:INFO] Determined delimiter of CSV input is ','\u001b[0m\n",
      "\u001b[35m[2020-12-30:01:03:49:INFO] Sniff delimiter as ','\u001b[0m\n",
      "\u001b[35m[2020-12-30:01:03:49:INFO] Determined delimiter of CSV input is ','\u001b[0m\n",
      "\u001b[34m[2020-12-30:01:03:49:INFO] Sniff delimiter as ','\u001b[0m\n",
      "\u001b[34m[2020-12-30:01:03:49:INFO] Determined delimiter of CSV input is ','\u001b[0m\n",
      "\u001b[34m[2020-12-30:01:03:50:INFO] Sniff delimiter as ','\u001b[0m\n",
      "\u001b[34m[2020-12-30:01:03:50:INFO] Determined delimiter of CSV input is ','\u001b[0m\n",
      "\u001b[34m[2020-12-30:01:03:50:INFO] Sniff delimiter as ','\u001b[0m\n",
      "\u001b[34m[2020-12-30:01:03:50:INFO] Determined delimiter of CSV input is ','\u001b[0m\n",
      "\u001b[35m[2020-12-30:01:03:49:INFO] Sniff delimiter as ','\u001b[0m\n",
      "\u001b[35m[2020-12-30:01:03:49:INFO] Determined delimiter of CSV input is ','\u001b[0m\n",
      "\u001b[35m[2020-12-30:01:03:50:INFO] Sniff delimiter as ','\u001b[0m\n",
      "\u001b[35m[2020-12-30:01:03:50:INFO] Determined delimiter of CSV input is ','\u001b[0m\n",
      "\u001b[35m[2020-12-30:01:03:50:INFO] Sniff delimiter as ','\u001b[0m\n",
      "\u001b[35m[2020-12-30:01:03:50:INFO] Determined delimiter of CSV input is ','\u001b[0m\n",
      "\u001b[34m[2020-12-30:01:03:52:INFO] Sniff delimiter as ','\u001b[0m\n",
      "\u001b[34m[2020-12-30:01:03:52:INFO] Determined delimiter of CSV input is ','\u001b[0m\n",
      "\u001b[34m[2020-12-30:01:03:52:INFO] Sniff delimiter as ','\u001b[0m\n",
      "\u001b[34m[2020-12-30:01:03:52:INFO] Determined delimiter of CSV input is ','\u001b[0m\n",
      "\u001b[34m[2020-12-30:01:03:52:INFO] Sniff delimiter as ','\u001b[0m\n",
      "\u001b[34m[2020-12-30:01:03:52:INFO] Determined delimiter of CSV input is ','\u001b[0m\n",
      "\u001b[35m[2020-12-30:01:03:52:INFO] Sniff delimiter as ','\u001b[0m\n",
      "\u001b[35m[2020-12-30:01:03:52:INFO] Determined delimiter of CSV input is ','\u001b[0m\n",
      "\u001b[35m[2020-12-30:01:03:52:INFO] Sniff delimiter as ','\u001b[0m\n",
      "\u001b[35m[2020-12-30:01:03:52:INFO] Determined delimiter of CSV input is ','\u001b[0m\n",
      "\u001b[35m[2020-12-30:01:03:52:INFO] Sniff delimiter as ','\u001b[0m\n",
      "\u001b[35m[2020-12-30:01:03:52:INFO] Determined delimiter of CSV input is ','\u001b[0m\n",
      "\u001b[34m[2020-12-30:01:03:52:INFO] Sniff delimiter as ','\u001b[0m\n",
      "\u001b[34m[2020-12-30:01:03:52:INFO] Determined delimiter of CSV input is ','\u001b[0m\n",
      "\u001b[35m[2020-12-30:01:03:52:INFO] Sniff delimiter as ','\u001b[0m\n",
      "\u001b[35m[2020-12-30:01:03:52:INFO] Determined delimiter of CSV input is ','\u001b[0m\n",
      "\u001b[34m[2020-12-30:01:03:54:INFO] Sniff delimiter as ','\u001b[0m\n",
      "\u001b[34m[2020-12-30:01:03:54:INFO] Determined delimiter of CSV input is ','\u001b[0m\n",
      "\u001b[35m[2020-12-30:01:03:54:INFO] Sniff delimiter as ','\u001b[0m\n",
      "\u001b[35m[2020-12-30:01:03:54:INFO] Determined delimiter of CSV input is ','\u001b[0m\n"
     ]
    },
    {
     "name": "stdout",
     "output_type": "stream",
     "text": [
      "\u001b[34m[2020-12-30:01:03:54:INFO] Sniff delimiter as ','\u001b[0m\n",
      "\u001b[34m[2020-12-30:01:03:54:INFO] Determined delimiter of CSV input is ','\u001b[0m\n",
      "\u001b[34m[2020-12-30:01:03:55:INFO] Sniff delimiter as ','\u001b[0m\n",
      "\u001b[34m[2020-12-30:01:03:55:INFO] Determined delimiter of CSV input is ','\u001b[0m\n",
      "\u001b[35m[2020-12-30:01:03:54:INFO] Sniff delimiter as ','\u001b[0m\n",
      "\u001b[35m[2020-12-30:01:03:54:INFO] Determined delimiter of CSV input is ','\u001b[0m\n",
      "\u001b[35m[2020-12-30:01:03:55:INFO] Sniff delimiter as ','\u001b[0m\n",
      "\u001b[35m[2020-12-30:01:03:55:INFO] Determined delimiter of CSV input is ','\u001b[0m\n",
      "\u001b[34m[2020-12-30:01:03:57:INFO] Sniff delimiter as ','\u001b[0m\n",
      "\u001b[34m[2020-12-30:01:03:57:INFO] Determined delimiter of CSV input is ','\u001b[0m\n",
      "\u001b[34m[2020-12-30:01:03:57:INFO] Sniff delimiter as ','\u001b[0m\n",
      "\u001b[34m[2020-12-30:01:03:57:INFO] Determined delimiter of CSV input is ','\u001b[0m\n",
      "\u001b[34m[2020-12-30:01:03:57:INFO] Sniff delimiter as ','\u001b[0m\n",
      "\u001b[34m[2020-12-30:01:03:57:INFO] Determined delimiter of CSV input is ','\u001b[0m\n",
      "\u001b[34m[2020-12-30:01:03:57:INFO] Sniff delimiter as ','\u001b[0m\n",
      "\u001b[34m[2020-12-30:01:03:57:INFO] Determined delimiter of CSV input is ','\u001b[0m\n",
      "\u001b[35m[2020-12-30:01:03:57:INFO] Sniff delimiter as ','\u001b[0m\n",
      "\u001b[35m[2020-12-30:01:03:57:INFO] Determined delimiter of CSV input is ','\u001b[0m\n",
      "\u001b[35m[2020-12-30:01:03:57:INFO] Sniff delimiter as ','\u001b[0m\n",
      "\u001b[35m[2020-12-30:01:03:57:INFO] Determined delimiter of CSV input is ','\u001b[0m\n",
      "\u001b[35m[2020-12-30:01:03:57:INFO] Sniff delimiter as ','\u001b[0m\n",
      "\u001b[35m[2020-12-30:01:03:57:INFO] Determined delimiter of CSV input is ','\u001b[0m\n",
      "\u001b[35m[2020-12-30:01:03:57:INFO] Sniff delimiter as ','\u001b[0m\n",
      "\u001b[35m[2020-12-30:01:03:57:INFO] Determined delimiter of CSV input is ','\u001b[0m\n",
      "\u001b[34m[2020-12-30:01:03:59:INFO] Sniff delimiter as ','\u001b[0m\n",
      "\u001b[34m[2020-12-30:01:03:59:INFO] Determined delimiter of CSV input is ','\u001b[0m\n",
      "\u001b[34m[2020-12-30:01:03:59:INFO] Sniff delimiter as ','\u001b[0m\n",
      "\u001b[34m[2020-12-30:01:03:59:INFO] Determined delimiter of CSV input is ','\u001b[0m\n",
      "\u001b[35m[2020-12-30:01:03:59:INFO] Sniff delimiter as ','\u001b[0m\n",
      "\u001b[35m[2020-12-30:01:03:59:INFO] Determined delimiter of CSV input is ','\u001b[0m\n",
      "\u001b[35m[2020-12-30:01:03:59:INFO] Sniff delimiter as ','\u001b[0m\n",
      "\u001b[35m[2020-12-30:01:03:59:INFO] Determined delimiter of CSV input is ','\u001b[0m\n",
      "\u001b[34m[2020-12-30:01:03:59:INFO] Sniff delimiter as ','\u001b[0m\n",
      "\u001b[35m[2020-12-30:01:03:59:INFO] Sniff delimiter as ','\u001b[0m\n",
      "\u001b[34m[2020-12-30:01:03:59:INFO] Determined delimiter of CSV input is ','\u001b[0m\n",
      "\u001b[34m[2020-12-30:01:04:00:INFO] Sniff delimiter as ','\u001b[0m\n",
      "\u001b[34m[2020-12-30:01:04:00:INFO] Determined delimiter of CSV input is ','\u001b[0m\n",
      "\u001b[35m[2020-12-30:01:03:59:INFO] Determined delimiter of CSV input is ','\u001b[0m\n",
      "\u001b[35m[2020-12-30:01:04:00:INFO] Sniff delimiter as ','\u001b[0m\n",
      "\u001b[35m[2020-12-30:01:04:00:INFO] Determined delimiter of CSV input is ','\u001b[0m\n",
      "\u001b[34m[2020-12-30:01:04:02:INFO] Sniff delimiter as ','\u001b[0m\n",
      "\u001b[35m[2020-12-30:01:04:02:INFO] Sniff delimiter as ','\u001b[0m\n",
      "\u001b[34m[2020-12-30:01:04:02:INFO] Determined delimiter of CSV input is ','\u001b[0m\n",
      "\u001b[34m[2020-12-30:01:04:02:INFO] Sniff delimiter as ','\u001b[0m\n",
      "\u001b[34m[2020-12-30:01:04:02:INFO] Determined delimiter of CSV input is ','\u001b[0m\n",
      "\u001b[34m[2020-12-30:01:04:02:INFO] Sniff delimiter as ','\u001b[0m\n",
      "\u001b[34m[2020-12-30:01:04:02:INFO] Determined delimiter of CSV input is ','\u001b[0m\n",
      "\u001b[34m[2020-12-30:01:04:02:INFO] Sniff delimiter as ','\u001b[0m\n",
      "\u001b[34m[2020-12-30:01:04:02:INFO] Determined delimiter of CSV input is ','\u001b[0m\n",
      "\u001b[35m[2020-12-30:01:04:02:INFO] Determined delimiter of CSV input is ','\u001b[0m\n",
      "\u001b[35m[2020-12-30:01:04:02:INFO] Sniff delimiter as ','\u001b[0m\n",
      "\u001b[35m[2020-12-30:01:04:02:INFO] Determined delimiter of CSV input is ','\u001b[0m\n",
      "\u001b[35m[2020-12-30:01:04:02:INFO] Sniff delimiter as ','\u001b[0m\n",
      "\u001b[35m[2020-12-30:01:04:02:INFO] Determined delimiter of CSV input is ','\u001b[0m\n",
      "\u001b[35m[2020-12-30:01:04:02:INFO] Sniff delimiter as ','\u001b[0m\n",
      "\u001b[35m[2020-12-30:01:04:02:INFO] Determined delimiter of CSV input is ','\u001b[0m\n",
      "\n"
     ]
    }
   ],
   "source": [
    "xgb_transformer.wait()"
   ]
  },
  {
   "cell_type": "markdown",
   "metadata": {},
   "source": [
    "Now the transform job has executed and the result, the estimated sentiment of each review, has been saved on S3. Since we would rather work on this file locally we can perform a bit of notebook magic to copy the file to the `data_dir`."
   ]
  },
  {
   "cell_type": "code",
   "execution_count": 41,
   "metadata": {},
   "outputs": [
    {
     "name": "stdout",
     "output_type": "stream",
     "text": [
      "Completed 256.0 KiB/369.4 KiB (3.1 MiB/s) with 1 file(s) remaining\r",
      "Completed 369.4 KiB/369.4 KiB (4.3 MiB/s) with 1 file(s) remaining\r",
      "download: s3://sagemaker-us-east-1-542531091761/xgboost-2020-12-30-00-58-56-067/test.csv.out to ../data/sentiment_web_app/test.csv.out\r\n"
     ]
    }
   ],
   "source": [
    "!aws s3 cp --recursive $xgb_transformer.output_path $data_dir"
   ]
  },
  {
   "cell_type": "markdown",
   "metadata": {},
   "source": [
    "The last step is now to read in the output from our model, convert the output to something a little more usable, in this case we want the sentiment to be either `1` (positive) or `0` (negative), and then compare to the ground truth labels."
   ]
  },
  {
   "cell_type": "code",
   "execution_count": 42,
   "metadata": {},
   "outputs": [],
   "source": [
    "predictions = pd.read_csv(os.path.join(data_dir, 'test.csv.out'), header=None)\n",
    "predictions = [round(num) for num in predictions.squeeze().values]"
   ]
  },
  {
   "cell_type": "code",
   "execution_count": 43,
   "metadata": {},
   "outputs": [
    {
     "data": {
      "text/plain": [
       "0.85544"
      ]
     },
     "execution_count": 43,
     "metadata": {},
     "output_type": "execute_result"
    }
   ],
   "source": [
    "from sklearn.metrics import accuracy_score\n",
    "accuracy_score(test_y, predictions)"
   ]
  },
  {
   "cell_type": "markdown",
   "metadata": {},
   "source": [
    "## Step 6: Deploying the model\n",
    "\n",
    "Once we construct and fit our model, SageMaker stores the resulting model artifacts and we can use those to deploy an endpoint (inference code). To see this, look in the SageMaker console and you should see that a model has been created along with a link to the S3 location where the model artifacts have been stored.\n",
    "\n",
    "Deploying an endpoint is a lot like training the model with a few important differences. The first is that a deployed model doesn't change the model artifacts, so as you send it various testing instances the model won't change. Another difference is that since we aren't performing a fixed computation, as we were in the training step or while performing a batch transform, the compute instance that gets started stays running until we tell it to stop. This is important to note as if we forget and leave it running we will be charged the entire time.\n",
    "\n",
    "In other words **If you are no longer using a deployed endpoint, shut it down!**"
   ]
  },
  {
   "cell_type": "code",
   "execution_count": 36,
   "metadata": {},
   "outputs": [
    {
     "name": "stderr",
     "output_type": "stream",
     "text": [
      "Parameter image will be renamed to image_uri in SageMaker Python SDK v2.\n"
     ]
    },
    {
     "name": "stdout",
     "output_type": "stream",
     "text": [
      "-------------------!"
     ]
    }
   ],
   "source": [
    "xgb_predictor = xgb.deploy(initial_instance_count = 1, instance_type = 'ml.m4.xlarge')"
   ]
  },
  {
   "cell_type": "markdown",
   "metadata": {},
   "source": [
    "### Testing the model (again)\n",
    "\n",
    "Now that we have deployed our endpoint, we can send the testing data to it and get back the inference results. We already did this earlier using the batch transform functionality of SageMaker, however, we will test our model again using the newly deployed endpoint so that we can make sure that it works properly and to get a bit of a feel for how the endpoint works.\n",
    "\n",
    "When using the created endpoint it is important to know that we are limited in the amount of information we can send in each call so we need to break the testing data up into chunks and then send each chunk. Also, we need to serialize our data before we send it to the endpoint to ensure that our data is transmitted properly. Fortunately, SageMaker can do the serialization part for us provided we tell it the format of our data."
   ]
  },
  {
   "cell_type": "code",
   "execution_count": 37,
   "metadata": {},
   "outputs": [],
   "source": [
    "from sagemaker.predictor import csv_serializer\n",
    "\n",
    "# We need to tell the endpoint what format the data we are sending is in so that SageMaker can perform the serialization.\n",
    "xgb_predictor.content_type = 'text/csv'\n",
    "xgb_predictor.serializer = csv_serializer"
   ]
  },
  {
   "cell_type": "code",
   "execution_count": 38,
   "metadata": {},
   "outputs": [],
   "source": [
    "# We split the data into chunks and send each chunk seperately, accumulating the results.\n",
    "\n",
    "def predict(data, rows=512):\n",
    "    split_array = np.array_split(data, int(data.shape[0] / float(rows) + 1))\n",
    "    predictions = ''\n",
    "    for array in split_array:\n",
    "        predictions = ','.join([predictions, xgb_predictor.predict(array).decode('utf-8')])\n",
    "    \n",
    "    return np.fromstring(predictions[1:], sep=',')"
   ]
  },
  {
   "cell_type": "code",
   "execution_count": 43,
   "metadata": {
    "scrolled": true
   },
   "outputs": [
    {
     "ename": "MemoryError",
     "evalue": "Unable to allocate 954. MiB for an array with shape (5000, 25000) and data type int64",
     "output_type": "error",
     "traceback": [
      "\u001b[0;31m---------------------------------------------------------------------------\u001b[0m",
      "\u001b[0;31mMemoryError\u001b[0m                               Traceback (most recent call last)",
      "\u001b[0;32m<ipython-input-43-1561d0ba347e>\u001b[0m in \u001b[0;36m<module>\u001b[0;34m\u001b[0m\n\u001b[0;32m----> 1\u001b[0;31m \u001b[0mtest_X\u001b[0m \u001b[0;34m=\u001b[0m \u001b[0mpd\u001b[0m\u001b[0;34m.\u001b[0m\u001b[0mread_csv\u001b[0m\u001b[0;34m(\u001b[0m\u001b[0mos\u001b[0m\u001b[0;34m.\u001b[0m\u001b[0mpath\u001b[0m\u001b[0;34m.\u001b[0m\u001b[0mjoin\u001b[0m\u001b[0;34m(\u001b[0m\u001b[0mdata_dir\u001b[0m\u001b[0;34m,\u001b[0m \u001b[0;34m'test.csv'\u001b[0m\u001b[0;34m)\u001b[0m\u001b[0;34m,\u001b[0m \u001b[0mheader\u001b[0m\u001b[0;34m=\u001b[0m\u001b[0;32mNone\u001b[0m\u001b[0;34m)\u001b[0m\u001b[0;34m.\u001b[0m\u001b[0mvalues\u001b[0m\u001b[0;34m\u001b[0m\u001b[0;34m\u001b[0m\u001b[0m\n\u001b[0m\u001b[1;32m      2\u001b[0m \u001b[0;34m\u001b[0m\u001b[0m\n\u001b[1;32m      3\u001b[0m \u001b[0mpredictions\u001b[0m \u001b[0;34m=\u001b[0m \u001b[0mpredict\u001b[0m\u001b[0;34m(\u001b[0m\u001b[0mtest_X\u001b[0m\u001b[0;34m)\u001b[0m\u001b[0;34m\u001b[0m\u001b[0;34m\u001b[0m\u001b[0m\n\u001b[1;32m      4\u001b[0m \u001b[0mpredictions\u001b[0m \u001b[0;34m=\u001b[0m \u001b[0;34m[\u001b[0m\u001b[0mround\u001b[0m\u001b[0;34m(\u001b[0m\u001b[0mnum\u001b[0m\u001b[0;34m)\u001b[0m \u001b[0;32mfor\u001b[0m \u001b[0mnum\u001b[0m \u001b[0;32min\u001b[0m \u001b[0mpredictions\u001b[0m\u001b[0;34m]\u001b[0m\u001b[0;34m\u001b[0m\u001b[0;34m\u001b[0m\u001b[0m\n",
      "\u001b[0;32m~/anaconda3/envs/python3/lib/python3.6/site-packages/pandas/io/parsers.py\u001b[0m in \u001b[0;36mparser_f\u001b[0;34m(filepath_or_buffer, sep, delimiter, header, names, index_col, usecols, squeeze, prefix, mangle_dupe_cols, dtype, engine, converters, true_values, false_values, skipinitialspace, skiprows, skipfooter, nrows, na_values, keep_default_na, na_filter, verbose, skip_blank_lines, parse_dates, infer_datetime_format, keep_date_col, date_parser, dayfirst, cache_dates, iterator, chunksize, compression, thousands, decimal, lineterminator, quotechar, quoting, doublequote, escapechar, comment, encoding, dialect, error_bad_lines, warn_bad_lines, delim_whitespace, low_memory, memory_map, float_precision)\u001b[0m\n\u001b[1;32m    674\u001b[0m         )\n\u001b[1;32m    675\u001b[0m \u001b[0;34m\u001b[0m\u001b[0m\n\u001b[0;32m--> 676\u001b[0;31m         \u001b[0;32mreturn\u001b[0m \u001b[0m_read\u001b[0m\u001b[0;34m(\u001b[0m\u001b[0mfilepath_or_buffer\u001b[0m\u001b[0;34m,\u001b[0m \u001b[0mkwds\u001b[0m\u001b[0;34m)\u001b[0m\u001b[0;34m\u001b[0m\u001b[0;34m\u001b[0m\u001b[0m\n\u001b[0m\u001b[1;32m    677\u001b[0m \u001b[0;34m\u001b[0m\u001b[0m\n\u001b[1;32m    678\u001b[0m     \u001b[0mparser_f\u001b[0m\u001b[0;34m.\u001b[0m\u001b[0m__name__\u001b[0m \u001b[0;34m=\u001b[0m \u001b[0mname\u001b[0m\u001b[0;34m\u001b[0m\u001b[0;34m\u001b[0m\u001b[0m\n",
      "\u001b[0;32m~/anaconda3/envs/python3/lib/python3.6/site-packages/pandas/io/parsers.py\u001b[0m in \u001b[0;36m_read\u001b[0;34m(filepath_or_buffer, kwds)\u001b[0m\n\u001b[1;32m    452\u001b[0m \u001b[0;34m\u001b[0m\u001b[0m\n\u001b[1;32m    453\u001b[0m     \u001b[0;32mtry\u001b[0m\u001b[0;34m:\u001b[0m\u001b[0;34m\u001b[0m\u001b[0;34m\u001b[0m\u001b[0m\n\u001b[0;32m--> 454\u001b[0;31m         \u001b[0mdata\u001b[0m \u001b[0;34m=\u001b[0m \u001b[0mparser\u001b[0m\u001b[0;34m.\u001b[0m\u001b[0mread\u001b[0m\u001b[0;34m(\u001b[0m\u001b[0mnrows\u001b[0m\u001b[0;34m)\u001b[0m\u001b[0;34m\u001b[0m\u001b[0;34m\u001b[0m\u001b[0m\n\u001b[0m\u001b[1;32m    455\u001b[0m     \u001b[0;32mfinally\u001b[0m\u001b[0;34m:\u001b[0m\u001b[0;34m\u001b[0m\u001b[0;34m\u001b[0m\u001b[0m\n\u001b[1;32m    456\u001b[0m         \u001b[0mparser\u001b[0m\u001b[0;34m.\u001b[0m\u001b[0mclose\u001b[0m\u001b[0;34m(\u001b[0m\u001b[0;34m)\u001b[0m\u001b[0;34m\u001b[0m\u001b[0;34m\u001b[0m\u001b[0m\n",
      "\u001b[0;32m~/anaconda3/envs/python3/lib/python3.6/site-packages/pandas/io/parsers.py\u001b[0m in \u001b[0;36mread\u001b[0;34m(self, nrows)\u001b[0m\n\u001b[1;32m   1146\u001b[0m             \u001b[0mnew_rows\u001b[0m \u001b[0;34m=\u001b[0m \u001b[0mlen\u001b[0m\u001b[0;34m(\u001b[0m\u001b[0mindex\u001b[0m\u001b[0;34m)\u001b[0m\u001b[0;34m\u001b[0m\u001b[0;34m\u001b[0m\u001b[0m\n\u001b[1;32m   1147\u001b[0m \u001b[0;34m\u001b[0m\u001b[0m\n\u001b[0;32m-> 1148\u001b[0;31m         \u001b[0mdf\u001b[0m \u001b[0;34m=\u001b[0m \u001b[0mDataFrame\u001b[0m\u001b[0;34m(\u001b[0m\u001b[0mcol_dict\u001b[0m\u001b[0;34m,\u001b[0m \u001b[0mcolumns\u001b[0m\u001b[0;34m=\u001b[0m\u001b[0mcolumns\u001b[0m\u001b[0;34m,\u001b[0m \u001b[0mindex\u001b[0m\u001b[0;34m=\u001b[0m\u001b[0mindex\u001b[0m\u001b[0;34m)\u001b[0m\u001b[0;34m\u001b[0m\u001b[0;34m\u001b[0m\u001b[0m\n\u001b[0m\u001b[1;32m   1149\u001b[0m \u001b[0;34m\u001b[0m\u001b[0m\n\u001b[1;32m   1150\u001b[0m         \u001b[0mself\u001b[0m\u001b[0;34m.\u001b[0m\u001b[0m_currow\u001b[0m \u001b[0;34m+=\u001b[0m \u001b[0mnew_rows\u001b[0m\u001b[0;34m\u001b[0m\u001b[0;34m\u001b[0m\u001b[0m\n",
      "\u001b[0;32m~/anaconda3/envs/python3/lib/python3.6/site-packages/pandas/core/frame.py\u001b[0m in \u001b[0;36m__init__\u001b[0;34m(self, data, index, columns, dtype, copy)\u001b[0m\n\u001b[1;32m    433\u001b[0m             )\n\u001b[1;32m    434\u001b[0m         \u001b[0;32melif\u001b[0m \u001b[0misinstance\u001b[0m\u001b[0;34m(\u001b[0m\u001b[0mdata\u001b[0m\u001b[0;34m,\u001b[0m \u001b[0mdict\u001b[0m\u001b[0;34m)\u001b[0m\u001b[0;34m:\u001b[0m\u001b[0;34m\u001b[0m\u001b[0;34m\u001b[0m\u001b[0m\n\u001b[0;32m--> 435\u001b[0;31m             \u001b[0mmgr\u001b[0m \u001b[0;34m=\u001b[0m \u001b[0minit_dict\u001b[0m\u001b[0;34m(\u001b[0m\u001b[0mdata\u001b[0m\u001b[0;34m,\u001b[0m \u001b[0mindex\u001b[0m\u001b[0;34m,\u001b[0m \u001b[0mcolumns\u001b[0m\u001b[0;34m,\u001b[0m \u001b[0mdtype\u001b[0m\u001b[0;34m=\u001b[0m\u001b[0mdtype\u001b[0m\u001b[0;34m)\u001b[0m\u001b[0;34m\u001b[0m\u001b[0;34m\u001b[0m\u001b[0m\n\u001b[0m\u001b[1;32m    436\u001b[0m         \u001b[0;32melif\u001b[0m \u001b[0misinstance\u001b[0m\u001b[0;34m(\u001b[0m\u001b[0mdata\u001b[0m\u001b[0;34m,\u001b[0m \u001b[0mma\u001b[0m\u001b[0;34m.\u001b[0m\u001b[0mMaskedArray\u001b[0m\u001b[0;34m)\u001b[0m\u001b[0;34m:\u001b[0m\u001b[0;34m\u001b[0m\u001b[0;34m\u001b[0m\u001b[0m\n\u001b[1;32m    437\u001b[0m             \u001b[0;32mimport\u001b[0m \u001b[0mnumpy\u001b[0m\u001b[0;34m.\u001b[0m\u001b[0mma\u001b[0m\u001b[0;34m.\u001b[0m\u001b[0mmrecords\u001b[0m \u001b[0;32mas\u001b[0m \u001b[0mmrecords\u001b[0m\u001b[0;34m\u001b[0m\u001b[0;34m\u001b[0m\u001b[0m\n",
      "\u001b[0;32m~/anaconda3/envs/python3/lib/python3.6/site-packages/pandas/core/internals/construction.py\u001b[0m in \u001b[0;36minit_dict\u001b[0;34m(data, index, columns, dtype)\u001b[0m\n\u001b[1;32m    252\u001b[0m             \u001b[0marr\u001b[0m \u001b[0;32mif\u001b[0m \u001b[0;32mnot\u001b[0m \u001b[0mis_datetime64tz_dtype\u001b[0m\u001b[0;34m(\u001b[0m\u001b[0marr\u001b[0m\u001b[0;34m)\u001b[0m \u001b[0;32melse\u001b[0m \u001b[0marr\u001b[0m\u001b[0;34m.\u001b[0m\u001b[0mcopy\u001b[0m\u001b[0;34m(\u001b[0m\u001b[0;34m)\u001b[0m \u001b[0;32mfor\u001b[0m \u001b[0marr\u001b[0m \u001b[0;32min\u001b[0m \u001b[0marrays\u001b[0m\u001b[0;34m\u001b[0m\u001b[0;34m\u001b[0m\u001b[0m\n\u001b[1;32m    253\u001b[0m         ]\n\u001b[0;32m--> 254\u001b[0;31m     \u001b[0;32mreturn\u001b[0m \u001b[0marrays_to_mgr\u001b[0m\u001b[0;34m(\u001b[0m\u001b[0marrays\u001b[0m\u001b[0;34m,\u001b[0m \u001b[0mdata_names\u001b[0m\u001b[0;34m,\u001b[0m \u001b[0mindex\u001b[0m\u001b[0;34m,\u001b[0m \u001b[0mcolumns\u001b[0m\u001b[0;34m,\u001b[0m \u001b[0mdtype\u001b[0m\u001b[0;34m=\u001b[0m\u001b[0mdtype\u001b[0m\u001b[0;34m)\u001b[0m\u001b[0;34m\u001b[0m\u001b[0;34m\u001b[0m\u001b[0m\n\u001b[0m\u001b[1;32m    255\u001b[0m \u001b[0;34m\u001b[0m\u001b[0m\n\u001b[1;32m    256\u001b[0m \u001b[0;34m\u001b[0m\u001b[0m\n",
      "\u001b[0;32m~/anaconda3/envs/python3/lib/python3.6/site-packages/pandas/core/internals/construction.py\u001b[0m in \u001b[0;36marrays_to_mgr\u001b[0;34m(arrays, arr_names, index, columns, dtype)\u001b[0m\n\u001b[1;32m     72\u001b[0m     \u001b[0maxes\u001b[0m \u001b[0;34m=\u001b[0m \u001b[0;34m[\u001b[0m\u001b[0mensure_index\u001b[0m\u001b[0;34m(\u001b[0m\u001b[0mcolumns\u001b[0m\u001b[0;34m)\u001b[0m\u001b[0;34m,\u001b[0m \u001b[0mindex\u001b[0m\u001b[0;34m]\u001b[0m\u001b[0;34m\u001b[0m\u001b[0;34m\u001b[0m\u001b[0m\n\u001b[1;32m     73\u001b[0m \u001b[0;34m\u001b[0m\u001b[0m\n\u001b[0;32m---> 74\u001b[0;31m     \u001b[0;32mreturn\u001b[0m \u001b[0mcreate_block_manager_from_arrays\u001b[0m\u001b[0;34m(\u001b[0m\u001b[0marrays\u001b[0m\u001b[0;34m,\u001b[0m \u001b[0marr_names\u001b[0m\u001b[0;34m,\u001b[0m \u001b[0maxes\u001b[0m\u001b[0;34m)\u001b[0m\u001b[0;34m\u001b[0m\u001b[0;34m\u001b[0m\u001b[0m\n\u001b[0m\u001b[1;32m     75\u001b[0m \u001b[0;34m\u001b[0m\u001b[0m\n\u001b[1;32m     76\u001b[0m \u001b[0;34m\u001b[0m\u001b[0m\n",
      "\u001b[0;32m~/anaconda3/envs/python3/lib/python3.6/site-packages/pandas/core/internals/managers.py\u001b[0m in \u001b[0;36mcreate_block_manager_from_arrays\u001b[0;34m(arrays, names, axes)\u001b[0m\n\u001b[1;32m   1668\u001b[0m \u001b[0;34m\u001b[0m\u001b[0m\n\u001b[1;32m   1669\u001b[0m     \u001b[0;32mtry\u001b[0m\u001b[0;34m:\u001b[0m\u001b[0;34m\u001b[0m\u001b[0;34m\u001b[0m\u001b[0m\n\u001b[0;32m-> 1670\u001b[0;31m         \u001b[0mblocks\u001b[0m \u001b[0;34m=\u001b[0m \u001b[0mform_blocks\u001b[0m\u001b[0;34m(\u001b[0m\u001b[0marrays\u001b[0m\u001b[0;34m,\u001b[0m \u001b[0mnames\u001b[0m\u001b[0;34m,\u001b[0m \u001b[0maxes\u001b[0m\u001b[0;34m)\u001b[0m\u001b[0;34m\u001b[0m\u001b[0;34m\u001b[0m\u001b[0m\n\u001b[0m\u001b[1;32m   1671\u001b[0m         \u001b[0mmgr\u001b[0m \u001b[0;34m=\u001b[0m \u001b[0mBlockManager\u001b[0m\u001b[0;34m(\u001b[0m\u001b[0mblocks\u001b[0m\u001b[0;34m,\u001b[0m \u001b[0maxes\u001b[0m\u001b[0;34m)\u001b[0m\u001b[0;34m\u001b[0m\u001b[0;34m\u001b[0m\u001b[0m\n\u001b[1;32m   1672\u001b[0m         \u001b[0mmgr\u001b[0m\u001b[0;34m.\u001b[0m\u001b[0m_consolidate_inplace\u001b[0m\u001b[0;34m(\u001b[0m\u001b[0;34m)\u001b[0m\u001b[0;34m\u001b[0m\u001b[0;34m\u001b[0m\u001b[0m\n",
      "\u001b[0;32m~/anaconda3/envs/python3/lib/python3.6/site-packages/pandas/core/internals/managers.py\u001b[0m in \u001b[0;36mform_blocks\u001b[0;34m(arrays, names, axes)\u001b[0m\n\u001b[1;32m   1736\u001b[0m \u001b[0;34m\u001b[0m\u001b[0m\n\u001b[1;32m   1737\u001b[0m     \u001b[0;32mif\u001b[0m \u001b[0mlen\u001b[0m\u001b[0;34m(\u001b[0m\u001b[0mitems_dict\u001b[0m\u001b[0;34m[\u001b[0m\u001b[0;34m\"IntBlock\"\u001b[0m\u001b[0;34m]\u001b[0m\u001b[0;34m)\u001b[0m\u001b[0;34m:\u001b[0m\u001b[0;34m\u001b[0m\u001b[0;34m\u001b[0m\u001b[0m\n\u001b[0;32m-> 1738\u001b[0;31m         \u001b[0mint_blocks\u001b[0m \u001b[0;34m=\u001b[0m \u001b[0m_multi_blockify\u001b[0m\u001b[0;34m(\u001b[0m\u001b[0mitems_dict\u001b[0m\u001b[0;34m[\u001b[0m\u001b[0;34m\"IntBlock\"\u001b[0m\u001b[0;34m]\u001b[0m\u001b[0;34m)\u001b[0m\u001b[0;34m\u001b[0m\u001b[0;34m\u001b[0m\u001b[0m\n\u001b[0m\u001b[1;32m   1739\u001b[0m         \u001b[0mblocks\u001b[0m\u001b[0;34m.\u001b[0m\u001b[0mextend\u001b[0m\u001b[0;34m(\u001b[0m\u001b[0mint_blocks\u001b[0m\u001b[0;34m)\u001b[0m\u001b[0;34m\u001b[0m\u001b[0;34m\u001b[0m\u001b[0m\n\u001b[1;32m   1740\u001b[0m \u001b[0;34m\u001b[0m\u001b[0m\n",
      "\u001b[0;32m~/anaconda3/envs/python3/lib/python3.6/site-packages/pandas/core/internals/managers.py\u001b[0m in \u001b[0;36m_multi_blockify\u001b[0;34m(tuples, dtype)\u001b[0m\n\u001b[1;32m   1818\u001b[0m     \u001b[0;32mfor\u001b[0m \u001b[0mdtype\u001b[0m\u001b[0;34m,\u001b[0m \u001b[0mtup_block\u001b[0m \u001b[0;32min\u001b[0m \u001b[0mgrouper\u001b[0m\u001b[0;34m:\u001b[0m\u001b[0;34m\u001b[0m\u001b[0;34m\u001b[0m\u001b[0m\n\u001b[1;32m   1819\u001b[0m \u001b[0;34m\u001b[0m\u001b[0m\n\u001b[0;32m-> 1820\u001b[0;31m         \u001b[0mvalues\u001b[0m\u001b[0;34m,\u001b[0m \u001b[0mplacement\u001b[0m \u001b[0;34m=\u001b[0m \u001b[0m_stack_arrays\u001b[0m\u001b[0;34m(\u001b[0m\u001b[0mlist\u001b[0m\u001b[0;34m(\u001b[0m\u001b[0mtup_block\u001b[0m\u001b[0;34m)\u001b[0m\u001b[0;34m,\u001b[0m \u001b[0mdtype\u001b[0m\u001b[0;34m)\u001b[0m\u001b[0;34m\u001b[0m\u001b[0;34m\u001b[0m\u001b[0m\n\u001b[0m\u001b[1;32m   1821\u001b[0m \u001b[0;34m\u001b[0m\u001b[0m\n\u001b[1;32m   1822\u001b[0m         \u001b[0mblock\u001b[0m \u001b[0;34m=\u001b[0m \u001b[0mmake_block\u001b[0m\u001b[0;34m(\u001b[0m\u001b[0mvalues\u001b[0m\u001b[0;34m,\u001b[0m \u001b[0mplacement\u001b[0m\u001b[0;34m=\u001b[0m\u001b[0mplacement\u001b[0m\u001b[0;34m)\u001b[0m\u001b[0;34m\u001b[0m\u001b[0;34m\u001b[0m\u001b[0m\n",
      "\u001b[0;32m~/anaconda3/envs/python3/lib/python3.6/site-packages/pandas/core/internals/managers.py\u001b[0m in \u001b[0;36m_stack_arrays\u001b[0;34m(tuples, dtype)\u001b[0m\n\u001b[1;32m   1846\u001b[0m     \u001b[0mshape\u001b[0m \u001b[0;34m=\u001b[0m \u001b[0;34m(\u001b[0m\u001b[0mlen\u001b[0m\u001b[0;34m(\u001b[0m\u001b[0marrays\u001b[0m\u001b[0;34m)\u001b[0m\u001b[0;34m,\u001b[0m\u001b[0;34m)\u001b[0m \u001b[0;34m+\u001b[0m \u001b[0m_shape_compat\u001b[0m\u001b[0;34m(\u001b[0m\u001b[0mfirst\u001b[0m\u001b[0;34m)\u001b[0m\u001b[0;34m\u001b[0m\u001b[0;34m\u001b[0m\u001b[0m\n\u001b[1;32m   1847\u001b[0m \u001b[0;34m\u001b[0m\u001b[0m\n\u001b[0;32m-> 1848\u001b[0;31m     \u001b[0mstacked\u001b[0m \u001b[0;34m=\u001b[0m \u001b[0mnp\u001b[0m\u001b[0;34m.\u001b[0m\u001b[0mempty\u001b[0m\u001b[0;34m(\u001b[0m\u001b[0mshape\u001b[0m\u001b[0;34m,\u001b[0m \u001b[0mdtype\u001b[0m\u001b[0;34m=\u001b[0m\u001b[0mdtype\u001b[0m\u001b[0;34m)\u001b[0m\u001b[0;34m\u001b[0m\u001b[0;34m\u001b[0m\u001b[0m\n\u001b[0m\u001b[1;32m   1849\u001b[0m     \u001b[0;32mfor\u001b[0m \u001b[0mi\u001b[0m\u001b[0;34m,\u001b[0m \u001b[0marr\u001b[0m \u001b[0;32min\u001b[0m \u001b[0menumerate\u001b[0m\u001b[0;34m(\u001b[0m\u001b[0marrays\u001b[0m\u001b[0;34m)\u001b[0m\u001b[0;34m:\u001b[0m\u001b[0;34m\u001b[0m\u001b[0;34m\u001b[0m\u001b[0m\n\u001b[1;32m   1850\u001b[0m         \u001b[0mstacked\u001b[0m\u001b[0;34m[\u001b[0m\u001b[0mi\u001b[0m\u001b[0;34m]\u001b[0m \u001b[0;34m=\u001b[0m \u001b[0m_asarray_compat\u001b[0m\u001b[0;34m(\u001b[0m\u001b[0marr\u001b[0m\u001b[0;34m)\u001b[0m\u001b[0;34m\u001b[0m\u001b[0;34m\u001b[0m\u001b[0m\n",
      "\u001b[0;31mMemoryError\u001b[0m: Unable to allocate 954. MiB for an array with shape (5000, 25000) and data type int64"
     ]
    }
   ],
   "source": [
    "test_X = pd.read_csv(os.path.join(data_dir, 'test.csv'), header=None).values\n",
    "\n",
    "predictions = predict(test_X)\n",
    "predictions = [round(num) for num in predictions]"
   ]
  },
  {
   "cell_type": "markdown",
   "metadata": {},
   "source": [
    "Lastly, we check to see what the accuracy of our model is."
   ]
  },
  {
   "cell_type": "code",
   "execution_count": null,
   "metadata": {},
   "outputs": [],
   "source": [
    "from sklearn.metrics import accuracy_score\n",
    "accuracy_score(test_y, predictions)"
   ]
  },
  {
   "cell_type": "markdown",
   "metadata": {},
   "source": [
    "And the results here should agree with the model testing that we did earlier using the batch transform job.\n",
    "\n",
    "### Cleaning up\n",
    "\n",
    "Now that we've determined that deploying our model works as expected, we are going to shut it down. Remember that the longer the endpoint is left running, the greater the cost and since we have a bit more work to do before we are able to use our endpoint with our simple web app, we should shut everything down."
   ]
  },
  {
   "cell_type": "code",
   "execution_count": null,
   "metadata": {},
   "outputs": [],
   "source": [
    "xgb_predictor.delete_endpoint()"
   ]
  },
  {
   "cell_type": "markdown",
   "metadata": {},
   "source": [
    "## Step 7: Putting our model to work\n",
    "\n",
    "As we've mentioned a few times now, our goal is to have our model deployed and then access it using a very simple web app. The intent is for this web app to take some user submitted data (a review), send it off to our endpoint (the model) and then display the result.\n",
    "\n",
    "However, there is a small catch. Currently the only way we can access the endpoint to send it data is using the SageMaker API. We can, if we wish, expose the actual URL that our model's endpoint is receiving data from, however, if we just send it data ourselves we will not get anything in return. This is because the endpoint created by SageMaker requires the entity accessing it have the correct permissions. So, we would need to somehow authenticate our web app with AWS.\n",
    "\n",
    "Having a website that authenticates to AWS seems a bit beyond the scope of this lesson so we will opt for an alternative approach. Namely, we will create a new endpoint which does not require authentication and which acts as a proxy for the SageMaker endpoint.\n",
    "\n",
    "As an additional constraint, we will try to avoid doing any data processing in the web app itself. Remember that when we constructed and tested our model we started with a movie review, then we simplified it by removing any html formatting and punctuation, then we constructed a bag of words embedding and the resulting vector is what we sent to our model. All of this needs to be done to our user input as well.\n",
    "\n",
    "Fortunately we can do all of this data processing in the backend, using Amazon's Lambda service.\n",
    "\n",
    "<img src=\"Web App Diagram.svg\">\n",
    "\n",
    "The diagram above gives an overview of how the various services will work together. On the far right is the model which we trained above and which will be deployed using SageMaker. On the far left is our web app that collects a user's movie review, sends it off and expects a positive or negative sentiment in return.\n",
    "\n",
    "In the middle is where some of the magic happens. We will construct a Lambda function, which you can think of as a straightforward Python function that can be executed whenever a specified event occurs. This Python function will do the data processing we need to perform on a user submitted review. In addition, we will give this function permission to send and recieve data from a SageMaker endpoint.\n",
    "\n",
    "Lastly, the method we will use to execute the Lambda function is a new endpoint that we will create using API Gateway. This endpoint will be a url that listens for data to be sent to it. Once it gets some data it will pass that data on to the Lambda function and then return whatever the Lambda function returns. Essentially it will act as an interface that lets our web app communicate with the Lambda function.\n",
    "\n",
    "### Processing a single review\n",
    "\n",
    "For now, suppose we are given a movie review by our user in the form of a string, like so:"
   ]
  },
  {
   "cell_type": "code",
   "execution_count": 44,
   "metadata": {},
   "outputs": [],
   "source": [
    "test_review = \"Nothing but a disgusting materialistic pageant of glistening abed remote control greed zombies, totally devoid of any heart or heat. A romantic comedy that has zero romantic chemestry and zero laughs!\""
   ]
  },
  {
   "cell_type": "markdown",
   "metadata": {},
   "source": [
    "How do we go from this string to the bag of words feature vector that is expected by our model?\n",
    "\n",
    "If we recall at the beginning of this notebook, the first step is to remove any unnecessary characters using the `review_to_words` method. Remember that we intentionally did this in a very simplistic way. This is because we are going to have to copy this method to our (eventual) Lambda function (we will go into more detail later) and this means it needs to be rather simplistic."
   ]
  },
  {
   "cell_type": "code",
   "execution_count": 45,
   "metadata": {},
   "outputs": [
    {
     "name": "stdout",
     "output_type": "stream",
     "text": [
      "nothing but a disgusting materialistic pageant of glistening abed remote control greed zombies totally devoid of any heart or heat a romantic comedy that has zero romantic chemestry and zero laughs\n"
     ]
    }
   ],
   "source": [
    "test_words = review_to_words(test_review)\n",
    "print(test_words)"
   ]
  },
  {
   "cell_type": "markdown",
   "metadata": {},
   "source": [
    "Next, we need to construct a bag of words embedding of the `test_words` string. To do this, remember that a bag of words embedding uses a `vocabulary` consisting of the most frequently appearing words in a set of documents. Then, for each word in the vocabulary we record the number of times that word appears in `test_words`. We constructed the `vocabulary` earlier using the training set for our problem so encoding `test_words` is relatively straightforward."
   ]
  },
  {
   "cell_type": "code",
   "execution_count": 46,
   "metadata": {},
   "outputs": [],
   "source": [
    "def bow_encoding(words, vocabulary):\n",
    "    bow = [0] * len(vocabulary) # Start by setting the count for each word in the vocabulary to zero.\n",
    "    for word in words.split():  # For each word in the string\n",
    "        if word in vocabulary:  # If the word is one that occurs in the vocabulary, increase its count.\n",
    "            bow[vocabulary[word]] += 1\n",
    "    return bow"
   ]
  },
  {
   "cell_type": "code",
   "execution_count": 47,
   "metadata": {},
   "outputs": [
    {
     "name": "stdout",
     "output_type": "stream",
     "text": [
      "[0, 0, 0, 0, 0, 0, 0, 0, 0, 0, 0, 0, 0, 0, 0, 0, 0, 0, 0, 0, 0, 0, 0, 0, 0, 0, 0, 0, 0, 0, 0, 0, 0, 0, 0, 0, 0, 0, 0, 0, 0, 0, 0, 0, 0, 0, 0, 0, 0, 0, 0, 0, 0, 0, 0, 0, 0, 0, 0, 0, 0, 0, 0, 0, 0, 0, 0, 0, 0, 0, 0, 0, 0, 0, 0, 0, 0, 0, 0, 0, 0, 0, 0, 0, 0, 0, 0, 0, 0, 0, 0, 0, 0, 0, 0, 0, 0, 0, 0, 0, 0, 0, 0, 0, 0, 0, 0, 0, 0, 0, 0, 0, 0, 0, 0, 0, 0, 0, 0, 0, 0, 0, 0, 0, 0, 0, 0, 0, 0, 0, 0, 0, 0, 0, 0, 0, 0, 0, 0, 0, 0, 0, 0, 0, 0, 0, 0, 0, 0, 0, 0, 0, 0, 0, 0, 0, 0, 0, 0, 0, 0, 0, 0, 0, 0, 0, 0, 0, 0, 0, 0, 0, 0, 0, 0, 0, 0, 0, 0, 0, 0, 0, 0, 0, 0, 0, 0, 0, 0, 0, 0, 0, 0, 0, 0, 0, 0, 0, 0, 0, 0, 0, 0, 0, 0, 0, 0, 0, 0, 0, 0, 0, 0, 0, 0, 0, 0, 0, 0, 0, 0, 0, 0, 0, 0, 0, 1, 0, 0, 0, 0, 0, 0, 0, 0, 0, 0, 0, 0, 0, 0, 0, 0, 0, 0, 0, 0, 0, 0, 0, 0, 0, 0, 0, 0, 0, 1, 0, 0, 0, 0, 0, 0, 0, 0, 0, 0, 0, 0, 0, 0, 0, 0, 0, 0, 0, 0, 0, 0, 0, 0, 0, 0, 0, 0, 0, 0, 0, 0, 0, 0, 0, 0, 0, 0, 0, 0, 0, 0, 0, 0, 0, 0, 0, 0, 0, 0, 0, 0, 0, 0, 0, 0, 0, 0, 0, 0, 0, 0, 0, 0, 0, 0, 0, 0, 0, 0, 0, 0, 0, 0, 0, 0, 0, 0, 0, 0, 0, 0, 0, 0, 0, 0, 0, 0, 0, 0, 0, 0, 0, 0, 0, 0, 0, 0, 0, 0, 0, 0, 0, 0, 0, 0, 0, 0, 0, 0, 0, 0, 0, 0, 0, 0, 0, 0, 0, 0, 0, 0, 0, 0, 0, 0, 0, 0, 0, 0, 0, 0, 0, 0, 0, 0, 0, 0, 0, 0, 0, 0, 0, 0, 0, 0, 0, 0, 0, 0, 0, 0, 0, 0, 0, 0, 0, 0, 0, 0, 0, 0, 0, 0, 0, 0, 0, 0, 0, 0, 0, 0, 0, 0, 0, 0, 0, 0, 0, 0, 0, 0, 0, 0, 0, 0, 0, 0, 0, 0, 0, 0, 0, 0, 0, 0, 0, 0, 0, 0, 0, 0, 0, 0, 0, 0, 0, 0, 0, 0, 0, 0, 0, 0, 0, 0, 0, 0, 0, 0, 0, 0, 0, 0, 0, 0, 0, 0, 0, 0, 0, 0, 0, 0, 0, 0, 0, 0, 0, 0, 0, 0, 0, 0, 0, 0, 0, 0, 0, 0, 0, 0, 0, 0, 0, 0, 0, 0, 0, 0, 0, 0, 0, 0, 0, 0, 0, 0, 0, 0, 0, 0, 0, 0, 0, 0, 0, 0, 0, 0, 0, 0, 0, 0, 0, 0, 0, 0, 0, 0, 0, 0, 0, 0, 0, 0, 0, 0, 0, 0, 0, 0, 0, 0, 0, 0, 0, 0, 0, 0, 0, 0, 0, 0, 0, 0, 0, 0, 0, 0, 0, 0, 0, 0, 0, 0, 0, 0, 0, 0, 0, 0, 0, 0, 0, 0, 0, 0, 0, 0, 0, 0, 0, 0, 0, 0, 0, 0, 0, 0, 0, 0, 0, 0, 0, 0, 0, 0, 0, 0, 0, 0, 0, 0, 0, 0, 0, 0, 0, 0, 0, 0, 0, 0, 0, 0, 0, 0, 0, 1, 0, 0, 0, 0, 0, 0, 0, 0, 0, 0, 0, 0, 0, 0, 0, 0, 0, 0, 0, 0, 0, 0, 0, 0, 0, 0, 0, 0, 0, 0, 0, 0, 0, 0, 0, 0, 0, 0, 0, 0, 0, 0, 0, 0, 0, 0, 0, 0, 0, 0, 0, 0, 0, 0, 0, 0, 0, 0, 0, 0, 0, 0, 0, 0, 0, 0, 0, 0, 0, 0, 0, 0, 0, 0, 0, 0, 0, 0, 0, 0, 0, 0, 0, 0, 0, 0, 0, 0, 0, 0, 0, 0, 0, 0, 0, 0, 0, 0, 0, 0, 0, 0, 0, 0, 0, 0, 0, 0, 0, 0, 0, 0, 0, 0, 0, 0, 0, 0, 0, 0, 0, 0, 0, 0, 0, 0, 0, 0, 0, 0, 0, 0, 0, 0, 0, 0, 0, 0, 0, 0, 0, 0, 0, 0, 0, 0, 0, 0, 0, 0, 0, 0, 0, 0, 0, 0, 0, 0, 0, 0, 0, 0, 0, 0, 0, 0, 0, 0, 0, 0, 0, 0, 0, 0, 0, 0, 0, 0, 0, 0, 0, 0, 0, 0, 0, 0, 0, 0, 0, 0, 0, 0, 0, 0, 0, 0, 0, 0, 0, 0, 0, 0, 0, 0, 0, 0, 0, 0, 0, 0, 0, 0, 0, 0, 0, 0, 0, 0, 0, 0, 0, 0, 0, 0, 0, 0, 0, 0, 0, 0, 0, 0, 0, 0, 0, 0, 0, 0, 0, 0, 0, 0, 0, 0, 0, 0, 0, 0, 0, 0, 0, 0, 0, 1, 0, 0, 0, 0, 0, 0, 0, 0, 0, 0, 0, 0, 0, 0, 0, 0, 0, 0, 0, 0, 0, 0, 0, 0, 0, 0, 0, 0, 0, 0, 0, 0, 0, 0, 0, 0, 0, 0, 0, 0, 0, 0, 0, 0, 0, 0, 0, 0, 0, 0, 0, 0, 0, 0, 0, 0, 0, 0, 0, 0, 0, 0, 0, 0, 0, 0, 0, 0, 0, 0, 0, 0, 0, 0, 0, 0, 0, 0, 0, 0, 0, 0, 0, 0, 0, 0, 1, 0, 0, 0, 0, 0, 0, 0, 0, 0, 0, 0, 0, 0, 0, 0, 0, 0, 0, 0, 0, 0, 0, 0, 0, 0, 0, 0, 0, 0, 0, 0, 0, 0, 0, 0, 0, 0, 0, 0, 0, 0, 0, 0, 0, 0, 0, 0, 0, 0, 0, 0, 0, 0, 0, 0, 0, 0, 0, 0, 0, 0, 0, 0, 0, 0, 0, 0, 0, 0, 0, 0, 0, 0, 0, 0, 0, 0, 0, 0, 0, 0, 0, 0, 0, 0, 0, 0, 0, 0, 0, 0, 0, 0, 0, 0, 0, 0, 0, 0, 0, 0, 0, 0, 0, 0, 0, 0, 0, 0, 0, 0, 0, 0, 0, 0, 0, 0, 0, 0, 0, 0, 0, 0, 0, 0, 0, 0, 0, 0, 0, 0, 0, 0, 0, 0, 0, 0, 0, 0, 0, 0, 0, 0, 0, 0, 0, 0, 0, 0, 0, 0, 0, 0, 0, 0, 0, 0, 0, 0, 0, 0, 0, 0, 0, 0, 0, 0, 0, 0, 0, 0, 0, 0, 0, 0, 0, 0, 0, 0, 0, 0, 0, 0, 0, 0, 0, 0, 0, 0, 0, 0, 0, 0, 0, 0, 0, 0, 0, 0, 0, 0, 0, 0, 0, 0, 0, 0, 0, 0, 0, 0, 0, 0, 0, 0, 0, 0, 0, 0, 0, 0, 0, 0, 0, 0, 0, 0, 0, 0, 0, 0, 0, 0, 0, 0, 0, 0, 0, 0, 0, 0, 0, 0, 0, 0, 0, 0, 0, 0, 0, 0, 0, 1, 0, 0, 0, 0, 0, 0, 0, 0, 0, 0, 0, 0, 0, 0, 0, 0, 0, 0, 0, 0, 0, 0, 0, 0, 0, 0, 0, 0, 0, 0, 0, 0, 0, 0, 0, 0, 0, 0, 0, 0, 0, 0, 0, 0, 0, 0, 0, 0, 0, 0, 0, 0, 0, 0, 0, 1, 0, 0, 0, 0, 0, 0, 0, 0, 0, 0, 0, 0, 0, 0, 0, 0, 0, 0, 0, 0, 0, 0, 0, 0, 0, 0, 0, 0, 0, 0, 0, 0, 0, 0, 0, 0, 0, 0, 0, 0, 0, 0, 0, 0, 0, 0, 0, 0, 0, 0, 0, 0, 0, 0, 0, 0, 0, 0, 0, 0, 0, 0, 0, 0, 0, 0, 0, 0, 0, 0, 0, 0, 0, 0, 0, 0, 0, 0, 0, 0, 0, 0, 0, 0, 0, 0, 0, 0, 0, 0, 0, 0, 0, 0, 0, 0, 0, 0, 0, 0, 0, 0, 0, 0, 0, 0, 0, 0, 0, 0, 0, 0, 0, 0, 0, 0, 0, 0, 0, 0, 0, 0, 0, 0, 0, 0, 0, 0, 0, 0, 0, 0, 0, 0, 0, 0, 0, 0, 0, 0, 0, 0, 0, 0, 0, 0, 0, 0, 0, 0, 0, 0, 0, 0, 0, 0, 0, 0, 0, 0, 0, 0, 0, 0, 0, 0, 0, 0, 0, 0, 0, 0, 0, 0, 0, 0, 0, 0, 0, 0, 0, 0, 0, 0, 0, 0, 0, 0, 0, 0, 0, 0, 0, 0, 0, 0, 0, 0, 0, 0, 0, 0, 0, 0, 0, 0, 0, 0, 0, 0, 0, 0, 0, 0, 0, 0, 0, 0, 0, 0, 0, 0, 0, 0, 0, 0, 0, 0, 0, 0, 0, 0, 0, 0, 0, 0, 0, 0, 0, 0, 0, 0, 0, 0, 0, 0, 0, 0, 0, 0, 0, 0, 0, 0, 0, 0, 0, 0, 0, 0, 0, 0, 0, 0, 0, 0, 0, 0, 0, 0, 0, 0, 0, 0, 0, 0, 0, 0, 0, 0, 0, 0, 0, 0, 0, 0, 0, 0, 0, 0, 0, 0, 0, 0, 0, 0, 0, 0, 0, 0, 0, 0, 0, 0, 0, 0, 0, 0, 0, 0, 0, 0, 0, 0, 0, 0, 0, 0, 0, 0, 0, 0, 0, 0, 0, 0, 0, 0, 0, 0, 0, 0, 0, 0, 0, 0, 0, 0, 0, 0, 0, 0, 0, 0, 0, 0, 0, 0, 0, 0, 0, 0, 0, 0, 0, 0, 0, 0, 0, 0, 0, 0, 0, 0, 0, 0, 0, 0, 0, 0, 0, 0, 0, 0, 0, 0, 0, 0, 0, 0, 0, 0, 0, 0, 0, 0, 0, 0, 0, 0, 0, 0, 0, 0, 0, 0, 0, 0, 0, 0, 0, 0, 0, 0, 0, 0, 0, 0, 0, 0, 0, 0, 0, 0, 0, 0, 0, 0, 0, 0, 0, 0, 0, 0, 0, 0, 0, 0, 0, 0, 0, 0, 0, 0, 0, 0, 0, 0, 0, 0, 0, 0, 0, 0, 0, 0, 0, 0, 0, 0, 0, 0, 0, 0, 0, 0, 0, 0, 0, 0, 0, 0, 0, 0, 0, 0, 0, 0, 0, 0, 0, 0, 0, 0, 0, 0, 0, 0, 0, 0, 0, 0, 0, 0, 0, 0, 0, 0, 0, 0, 0, 0, 0, 0, 0, 0, 0, 0, 0, 0, 0, 0, 0, 0, 0, 0, 0, 0, 0, 0, 0, 0, 0, 0, 0, 0, 0, 0, 0, 0, 0, 0, 0, 0, 0, 0, 0, 0, 0, 0, 0, 0, 0, 0, 0, 0, 0, 0, 0, 0, 0, 0, 0, 0, 0, 0, 0, 0, 0, 0, 0, 0, 0, 0, 0, 0, 0, 0, 0, 0, 0, 0, 0, 0, 0, 0, 0, 0, 0, 0, 0, 0, 0, 0, 0, 0, 0, 0, 0, 0, 0, 0, 0, 0, 0, 0, 0, 0, 0, 0, 0, 0, 0, 0, 0, 0, 0, 0, 0, 0, 0, 0, 0, 0, 0, 0, 0, 0, 0, 0, 0, 0, 0, 0, 0, 0, 0, 0, 0, 0, 0, 0, 0, 0, 0, 0, 0, 0, 0, 0, 0, 0, 0, 0, 0, 0, 0, 0, 0, 0, 0, 0, 0, 0, 0, 0, 0, 0, 0, 0, 0, 0, 0, 0, 0, 0, 0, 0, 0, 0, 0, 0, 0, 0, 0, 0, 0, 0, 0, 0, 0, 0, 0, 0, 0, 0, 0, 0, 0, 0, 0, 1, 0, 0, 0, 0, 0, 0, 0, 0, 0, 0, 0, 0, 0, 0, 0, 0, 0, 0, 0, 0, 0, 0, 0, 0, 0, 0, 0, 0, 0, 0, 0, 0, 0, 0, 0, 0, 0, 0, 0, 0, 0, 0, 0, 0, 0, 0, 0, 0, 0, 0, 0, 0, 0, 0, 0, 0, 0, 0, 0, 0, 0, 0, 0, 0, 0, 0, 0, 0, 0, 0, 0, 0, 0, 0, 1, 0, 0, 0, 0, 0, 0, 0, 0, 0, 0, 0, 0, 0, 0, 0, 0, 0, 0, 0, 0, 1, 0, 0, 1, 0, 0, 0, 0, 0, 0, 0, 0, 0, 0, 0, 0, 0, 0, 0, 0, 0, 0, 0, 0, 0, 0, 0, 0, 0, 0, 0, 0, 0, 0, 0, 0, 0, 0, 0, 0, 0, 0, 0, 0, 0, 0, 0, 0, 0, 0, 0, 0, 0, 0, 0, 0, 0, 0, 0, 0, 0, 0, 0, 0, 0, 0, 0, 0, 0, 0, 0, 0, 0, 0, 0, 0, 0, 0, 0, 0, 0, 0, 0, 0, 0, 0, 0, 0, 0, 0, 0, 0, 0, 0, 0, 0, 0, 0, 0, 0, 0, 0, 0, 0, 0, 0, 0, 0, 0, 0, 0, 0, 0, 0, 0, 0, 0, 0, 0, 0, 0, 0, 0, 0, 0, 0, 0, 0, 0, 0, 0, 0, 0, 0, 0, 0, 0, 0, 0, 0, 0, 0, 0, 0, 0, 0, 0, 0, 0, 0, 0, 0, 0, 0, 0, 0, 0, 0, 0, 0, 0, 0, 0, 0, 0, 0, 0, 0, 0, 0, 0, 0, 0, 0, 0, 0, 0, 0, 0, 0, 0, 0, 0, 0, 0, 0, 0, 0, 0, 0, 0, 0, 0, 0, 0, 0, 0, 0, 0, 0, 0, 0, 0, 0, 0, 0, 0, 0, 0, 0, 0, 0, 0, 0, 0, 0, 0, 0, 0, 0, 0, 0, 0, 0, 0, 0, 0, 0, 0, 0, 0, 0, 0, 0, 0, 0, 0, 0, 0, 0, 0, 0, 0, 0, 0, 0, 0, 0, 0, 0, 0, 0, 0, 0, 0, 0, 0, 0, 0, 0, 0, 0, 0, 0, 0, 0, 0, 0, 0, 0, 0, 0, 0, 0, 0, 0, 0, 0, 0, 0, 0, 0, 0, 0, 0, 0, 0, 0, 0, 0, 0, 0, 0, 0, 0, 0, 0, 0, 0, 0, 0, 0, 0, 0, 0, 0, 0, 0, 0, 0, 0, 0, 0, 0, 0, 0, 0, 0, 0, 0, 0, 0, 0, 0, 0, 0, 0, 0, 0, 0, 0, 0, 0, 0, 0, 0, 0, 0, 0, 0, 0, 0, 0, 0, 0, 0, 0, 0, 0, 0, 0, 0, 0, 0, 0, 0, 0, 0, 0, 0, 0, 0, 0, 0, 0, 0, 0, 0, 0, 0, 0, 0, 0, 0, 0, 0, 0, 0, 0, 0, 0, 0, 0, 0, 0, 0, 0, 0, 0, 0, 0, 0, 0, 0, 0, 0, 0, 0, 0, 0, 0, 0, 0, 0, 0, 0, 0, 0, 0, 0, 0, 0, 0, 0, 0, 0, 0, 0, 0, 0, 0, 0, 0, 0, 0, 0, 0, 0, 0, 0, 0, 0, 0, 0, 0, 0, 0, 0, 0, 0, 0, 0, 0, 0, 0, 0, 0, 0, 0, 0, 0, 0, 0, 0, 0, 0, 0, 0, 0, 0, 0, 0, 0, 0, 0, 0, 0, 0, 0, 0, 1, 0, 0, 0, 0, 0, 0, 0, 0, 0, 0, 0, 0, 0, 0, 0, 0, 0, 0, 0, 0, 0, 0, 0, 0, 0, 0, 0, 0, 0, 0, 0, 0, 0, 0, 0, 0, 0, 0, 0, 0, 0, 0, 0, 0, 0, 0, 0, 0, 0, 0, 0, 0, 0, 0, 0, 0, 0, 0, 0, 0, 0, 0, 0, 0, 0, 0, 0, 0, 0, 0, 0, 0, 0, 0, 0, 0, 0, 0, 0, 0, 0, 0, 0, 0, 0, 0, 0, 0, 0, 0, 0, 0, 0, 0, 0, 0, 0, 0, 0, 0, 0, 0, 0, 0, 0, 0, 0, 0, 0, 0, 0, 0, 0, 0, 0, 0, 0, 0, 0, 0, 0, 0, 0, 0, 0, 0, 0, 0, 0, 0, 0, 0, 0, 0, 0, 0, 0, 0, 0, 0, 0, 0, 0, 0, 0, 0, 0, 0, 0, 0, 0, 0, 0, 0, 0, 0, 0, 0, 0, 0, 0, 0, 0, 0, 0, 0, 0, 0, 0, 0, 0, 0, 0, 0, 0, 0, 0, 0, 0, 0, 0, 0, 0, 0, 0, 0, 0, 0, 0, 0, 0, 0, 0, 0, 0, 0, 0, 0, 0, 0, 0, 0, 0, 0, 0, 0, 0, 0, 0, 0, 0, 0, 0, 0, 0, 0, 0, 0, 0, 0, 0, 0, 0, 0, 0, 0, 0, 0, 0, 0, 0, 0, 0, 0, 0, 0, 0, 0, 0, 0, 0, 0, 0, 0, 0, 0, 0, 0, 0, 0, 0, 0, 0, 0, 0, 0, 0, 0, 0, 0, 0, 0, 0, 0, 0, 0, 0, 0, 0, 0, 0, 0, 0, 0, 0, 0, 0, 0, 0, 0, 0, 0, 0, 0, 0, 0, 0, 0, 0, 0, 0, 0, 0, 0, 0, 0, 0, 0, 0, 0, 0, 0, 0, 0, 0, 0, 0, 0, 0, 0, 0, 0, 0, 0, 0, 0, 0, 0, 0, 0, 0, 0, 0, 0, 0, 0, 0, 0, 0, 0, 0, 0, 0, 0, 0, 0, 0, 0, 0, 0, 0, 0, 0, 0, 0, 0, 0, 0, 0, 0, 0, 0, 0, 0, 0, 0, 0, 0, 0, 0, 0, 0, 0, 0, 0, 0, 0, 0, 0, 0, 0, 0, 0, 0, 0, 0, 0, 0, 0, 0, 0, 0, 0, 0, 0, 0, 0, 0, 0, 0, 0, 0, 0, 0, 0, 0, 0, 0, 0, 0, 0, 0, 0, 0, 0, 0, 0, 0, 0, 0, 0, 0, 0, 0, 0, 0, 0, 0, 0, 0, 0, 0, 0, 0, 0, 0, 0, 0, 0, 0, 0, 0, 0, 0, 0, 0, 0, 0, 0, 0, 0, 0, 0, 0, 0, 0, 0, 0, 0, 0, 0, 0, 0, 0, 0, 0, 0, 0, 0, 0, 0, 0, 0, 0, 0, 0, 0, 0, 0, 0, 0, 0, 0, 0, 0, 0, 0, 0, 0, 0, 0, 0, 0, 0, 0, 0, 0, 0, 0, 0, 0, 0, 0, 0, 0, 0, 0, 0, 0, 0, 0, 0, 0, 0, 0, 0, 0, 0, 0, 0, 0, 0, 1, 0, 0, 0, 0, 0, 0, 0, 0, 0, 0, 0, 0, 0, 0, 0, 0, 0, 0, 0, 0, 0, 0, 0, 0, 0, 0, 0, 0, 0, 0, 0, 0, 0, 0, 0, 2, 0, 0, 0, 0, 0, 0, 0, 0, 0, 0, 0, 0, 0, 0, 0, 0, 0, 0, 0, 0, 0, 0, 0, 0, 0, 0, 0, 0, 0, 0, 0, 0, 0, 0, 0, 0, 0, 0, 0, 0, 1, 0, 0, 0, 0, 0, 0, 0, 0, 0, 0, 0, 0, 0, 0, 0, 0, 0, 0, 0, 0, 0, 0, 0, 0, 0, 0, 0, 0, 0, 0, 0, 0, 0, 0, 0, 0, 0, 0, 0, 0, 0, 0, 0, 0, 0, 0, 0, 0, 0, 0, 0, 0, 0, 0, 0, 0, 0, 0, 0, 0, 0, 0, 0, 0, 0, 0, 0, 0, 0, 0, 0, 0, 0, 0, 0, 0, 0, 0, 0, 0, 0, 0, 0, 0, 0, 0, 0, 0, 0, 0, 0, 0, 0, 0, 0, 0, 0, 0, 0, 0, 0, 0, 0, 0, 0, 0, 0, 0, 0, 0, 0, 0, 0, 0, 0, 0, 0, 0, 0, 0, 0, 0, 0, 0, 0, 0, 0, 0, 0, 0, 0, 0, 0, 0, 0, 0, 0, 0, 0, 0, 0, 0, 0, 0, 0, 0, 0, 0, 0, 0, 0, 0, 0, 0, 0, 0, 0, 0, 0, 0, 0, 0, 0, 0, 0, 0, 0, 0, 0, 0, 0, 0, 0, 0, 0, 0, 0, 0, 0, 0, 0, 0, 0, 0, 0, 0, 0, 0, 0, 0, 0, 0, 0, 0, 0, 0, 0, 0, 0, 0, 0, 0, 0, 0, 0, 0, 0, 0, 0, 0, 0, 0, 0, 0, 0, 0, 0, 0, 0, 0, 0, 0, 0, 0, 0, 0, 0, 0, 0, 0, 0, 0, 0, 0, 0, 0, 0, 0, 0, 0, 0, 0, 0, 0, 0, 0, 0, 0, 0, 0, 0, 0, 0, 0, 0, 0, 0, 0, 0, 0, 0, 0, 0, 0, 0, 0, 0, 0, 0, 0, 0, 0, 0, 0, 0, 0, 0, 0, 0, 0, 0, 0, 0, 0, 0, 0, 0, 0, 0, 0, 0, 0, 0, 0, 0, 0, 0, 0, 0, 0, 0, 0, 0, 0, 0, 0, 0, 0, 0, 0, 0, 0, 0, 0, 0, 0, 0, 0, 0, 0, 0, 0, 0, 0, 0, 0, 0, 0, 0, 0, 0, 0, 0, 0, 0, 0, 0, 0, 0, 0, 0, 0, 0, 0, 0, 0, 0, 0, 0, 0, 0, 0, 0, 0, 0, 0, 0, 0, 0, 0, 0, 0, 0, 0, 0, 0, 0, 0, 0, 0, 0, 0, 0, 0, 0, 0, 0, 0, 0, 0, 0, 0, 0, 0, 0, 0, 0, 0, 0, 0, 0, 0, 0, 0, 0, 0, 0, 0, 0, 0, 0, 0, 0, 0, 0, 0, 0, 0, 0, 0, 0, 0, 0, 0, 0, 0, 0, 0, 0, 0, 0, 0, 0, 0, 0, 0, 0, 0, 0, 0, 0, 0, 0, 0, 0, 0, 0, 0, 0, 0, 0, 0, 0, 0, 0, 0, 0, 0, 0, 0, 0, 0, 0, 0, 0, 0, 0, 0, 0, 0, 0, 0, 0, 0, 0, 0, 0, 0, 0, 0, 0, 0, 0, 0, 0, 0, 0, 0, 0, 0, 0, 0, 0, 0, 0, 0, 0, 0, 0, 0, 0, 0, 0, 0, 0, 0, 0, 1, 0, 0, 0, 0, 0, 0, 0, 0, 0, 0, 0, 0, 0, 0, 0, 0, 0, 0, 0, 0, 0, 0, 0, 0, 0, 0, 0, 0, 0, 0, 0, 0, 0, 0, 0, 0, 0, 0, 0, 0, 0, 0, 0, 0, 0, 0, 0, 0, 0, 0, 0, 0, 0, 0, 0, 0, 0, 0, 0, 0, 0, 0, 0, 0, 0, 0, 0, 0, 0, 0, 0, 0, 0, 0, 0, 0, 0, 0, 0, 0, 0, 0, 0, 0, 0, 0, 0, 0, 0, 0, 0, 0, 0, 0, 0, 0, 0, 0, 0, 0, 0, 0, 0, 0, 0, 0, 0, 0, 0, 0, 2, 0, 0, 0, 0, 0, 0, 0, 0, 0, 0, 0, 0, 0, 0, 0, 0, 0, 0, 0, 0, 0, 0, 0, 0, 0, 0, 0, 0, 0, 0, 0, 0, 0, 0, 0, 0, 0, 0, 0, 0, 0, 0, 0, 0, 0, 0, 0, 0, 0, 0, 0, 0, 0, 0, 0, 0, 0, 0, 0, 0, 0, 0, 0, 0, 0, 0, 0, 0, 0, 0, 0, 0, 0, 0, 0, 0, 0, 0, 0, 0, 0, 0, 0, 0, 0, 0, 0, 0, 0, 0, 0, 0, 0, 0, 0, 0, 0, 0, 0, 0, 0, 0, 0, 0, 0, 0, 0, 0, 0, 0, 0, 0, 0, 0, 0, 0, 0, 0, 0, 0, 0, 0, 0, 0, 0, 0, 0, 0, 0, 0, 0, 0, 0, 0, 0, 0, 0, 0, 0, 0, 0, 0, 0, 0, 0, 0, 0, 0, 0, 0, 0, 0, 0, 0, 0, 0, 0, 0, 0, 0, 0, 0, 0, 0, 0, 0, 0, 0, 0, 0, 0, 0, 0, 0, 0, 0, 0, 0, 0, 0, 0, 0, 0, 0, 0, 0, 0, 0, 0, 0, 0, 0, 0, 0, 0, 0, 0, 0, 0, 0, 0, 0, 0, 0, 0, 0, 0, 0, 0, 0, 0, 0, 0, 0, 0, 0, 0, 0, 0, 0, 0, 0, 0, 0, 0, 0, 0, 0, 0, 0, 0, 0, 0, 0, 0, 0, 0, 0, 0, 0, 0, 0, 0, 0, 0, 0, 0, 0, 0, 0, 0, 0, 0, 0, 0, 0, 0, 0, 0, 0, 0, 0, 0, 0, 0, 0, 0, 0, 0, 0, 0, 0, 0, 0, 0, 0, 0, 0, 0, 0, 0, 0, 0, 0, 0, 0, 0, 0, 0, 0, 0, 0, 0, 0, 0, 0, 0, 0, 0, 0, 0, 0, 0, 0, 0, 0, 0, 0, 0, 0, 0, 0, 0, 0, 0, 0, 0, 0, 0, 0, 0, 0, 0, 0, 0, 0, 0, 0, 0, 0, 0, 0, 0, 0, 0, 0, 0, 0, 0, 0, 0, 0, 0, 0, 0, 0, 0, 0, 0, 0, 0, 0, 0, 0, 0, 0, 0, 0, 0, 0, 0, 0, 0, 0, 0, 0, 0, 0, 0, 0, 0, 0, 0, 0, 0, 0, 0, 0, 0, 0, 0, 0, 0, 0, 0, 0, 0, 0, 0, 0, 0, 0, 0, 0, 0, 0, 0, 0, 0, 0, 0, 0, 0, 0, 0, 0, 0, 0, 0, 0, 0, 0, 0, 0, 0, 0, 0, 0, 0, 0, 0, 0, 0, 0, 0, 0, 0, 0, 0, 0, 0, 0, 0, 0, 0, 0, 0, 0, 0, 0, 0, 0, 0, 0, 0, 0, 0, 0, 0, 0, 0, 0, 0, 0, 0, 0, 0, 0, 0, 0, 0, 0, 0, 0, 0, 0, 0, 0, 0, 0, 0, 0, 0, 0, 0, 0, 0, 0, 0, 0, 0, 0, 0, 0, 0, 0, 0, 0, 0, 0, 0, 0, 0, 0, 0, 0, 0, 0, 0, 0, 0, 0, 0, 0, 0, 0, 0, 0, 0, 0, 0, 0, 0, 0, 0, 0, 0, 0, 0, 0, 0, 0, 0, 0, 0, 0, 0, 0, 0, 0, 0, 0, 0, 0, 0, 0, 0, 0, 0, 0, 0, 0, 0, 0, 0, 0, 0, 0, 0, 0, 0, 0, 0, 0, 0, 0, 0, 0, 0, 0, 0, 0, 0, 0, 0, 0, 0, 0, 0, 0, 0, 0, 0, 0, 0, 0, 0, 0, 0, 0, 0, 0, 0, 0, 0, 0, 0, 0, 0, 0, 0, 0, 0, 0, 0, 0, 0, 0, 0, 0, 0, 0, 0, 0, 0, 0, 0, 0, 0, 0, 0, 0, 0, 0, 0, 0, 0, 0, 0, 0, 0, 0, 0, 0, 0, 0, 0, 0, 0, 0, 0, 0, 0, 0, 0, 0, 0, 0, 0, 0, 0, 0, 0, 0, 0, 0, 0, 0, 0, 0, 0, 0, 0, 0, 0, 0, 0, 0, 0, 0, 0, 0, 0, 0, 0, 0, 0, 0, 0, 0, 0, 0, 0, 0, 0, 0, 0, 0, 0, 0, 0, 0, 0, 0, 0, 0, 0, 0, 0, 0, 1, 0, 0, 0, 0, 0, 0, 0, 0, 0, 0, 0, 0, 0, 0, 0, 0, 0, 0, 0, 0, 0, 0, 0, 0, 0, 0, 0, 0, 0, 0, 0, 0, 0, 0, 0, 0, 0, 0, 0, 0, 0, 0, 0, 0, 0, 0, 0, 0, 0, 0, 0, 0, 0, 0, 0, 0, 0, 0, 0, 0, 0, 0, 0, 0, 0, 0, 0, 0, 0, 0, 0, 0, 0, 0, 0, 0, 0, 0, 0, 0, 0, 0, 0, 0, 0, 0, 0, 0, 0, 0, 0, 0, 0, 0, 0, 0, 0, 0, 0, 0, 0, 0, 0, 0, 0, 0, 0, 1, 0, 0, 0, 0, 0, 0, 0, 0, 0, 0, 0, 0, 0, 0, 0, 0, 0, 0, 0, 0, 0, 0, 0, 0, 0, 0, 0, 0, 0, 0, 0, 0, 0, 0, 0, 0, 0, 0, 0, 0, 0, 0, 0, 0, 0, 0, 0, 0, 0, 0, 0, 0, 0, 0, 0, 0, 0, 0, 0, 0, 0, 0, 0, 0, 0, 0, 0, 0, 0, 0, 0, 0, 0, 0, 0, 0, 0, 0, 0, 0, 0, 0, 0, 0, 0, 0, 0, 0, 0, 0, 0, 0, 0, 0, 0, 0, 0, 0, 0, 0, 0, 0, 0, 0, 0, 0, 0, 0, 0, 0, 0, 0, 0, 0, 0, 0, 0, 0, 0, 0, 0, 0, 0, 0, 0, 0, 0, 0, 0, 0, 0, 0, 0, 0, 0, 0, 0, 0, 0, 0, 0, 0, 0, 0, 0, 0, 0, 0, 0, 0, 0, 0, 0, 0, 0, 0, 0, 0, 0, 0, 0, 0, 0, 0, 0, 0, 0, 0, 0, 0, 0, 0, 0, 0, 0, 0, 0, 0, 0, 0, 0, 0, 0, 0, 0, 0, 0, 0, 0, 0, 0, 0, 0, 0, 0, 0, 0, 0, 0, 0, 0, 0, 0, 0, 0, 0, 0, 0, 0, 0, 0, 0, 0, 0, 0, 0, 0, 0, 0, 0, 0, 0, 0, 0, 0, 0, 0, 0, 0, 0, 0, 0, 0, 0, 0, 0, 0, 0, 0, 0, 0, 0, 0, 0, 0, 0, 0, 0, 0, 0, 0, 0, 0, 0, 0, 0, 0, 0, 0, 0, 0, 0, 0, 0, 0, 0, 0, 0, 0, 0, 0, 0, 0, 0, 0, 0, 0, 0, 0, 0, 0, 0, 0, 0, 0, 0, 0, 0, 0, 0, 0, 0, 0, 0, 0, 0, 0, 0, 0, 0, 0, 0, 0, 0, 0, 0, 0, 0, 0, 0, 0, 0, 0, 0, 0, 0, 0, 0, 0, 0, 0, 0, 0, 0, 0, 0, 0, 0, 0, 0, 0, 0, 0, 0, 0, 0, 0, 0, 0, 0, 0, 0, 0, 0, 0, 0, 0, 0, 0, 0, 0, 0, 0, 0, 0, 0, 0, 0, 0, 0, 0, 0, 0, 0, 0, 0, 0, 0, 0, 0, 0, 0, 0, 0, 0, 0, 0, 0, 0, 0, 0, 0, 0, 0, 0, 0, 0, 0, 0, 0, 0, 0, 0, 0, 0, 0, 0, 0, 0, 0, 0, 0, 0, 0, 0, 0, 0, 0, 0, 0, 0, 0, 0, 0, 0, 0, 0, 0, 0, 0, 0, 0, 0, 0, 0, 0, 0, 0, 0, 0, 0, 0, 0, 0, 0, 0, 0, 0, 0, 0, 0, 0, 0, 0, 0, 0, 0, 0, 0, 0, 0, 0, 0, 0, 0, 0, 0, 0, 0, 0, 0, 0, 0, 2, 0, 1, 0]\n"
     ]
    }
   ],
   "source": [
    "test_bow = bow_encoding(test_words, vocabulary)\n",
    "print(test_bow)"
   ]
  },
  {
   "cell_type": "code",
   "execution_count": 48,
   "metadata": {},
   "outputs": [
    {
     "data": {
      "text/plain": [
       "5000"
      ]
     },
     "execution_count": 48,
     "metadata": {},
     "output_type": "execute_result"
    }
   ],
   "source": [
    "len(test_bow)"
   ]
  },
  {
   "cell_type": "markdown",
   "metadata": {},
   "source": [
    "So now we know how to construct a bag of words encoding of a user provided review, how to we send it to our endpoint? First, we need to start the endpoint back up."
   ]
  },
  {
   "cell_type": "code",
   "execution_count": null,
   "metadata": {},
   "outputs": [],
   "source": [
    "xgb_predictor = xgb.deploy(initial_instance_count = 1, instance_type = 'ml.m4.xlarge')"
   ]
  },
  {
   "cell_type": "markdown",
   "metadata": {},
   "source": [
    "At this point we could just do the same thing that we did earlier when we tested our deployed model and send `test_bow` to our endpoint using the `xgb_predictor` object. However, when we eventually construct our Lambda function we won't have access to this object, so how do we call a SageMaker endpoint?\n",
    "\n",
    "It turns out that Python functions that are used in Lambda have access to another Amazon library called `boto3`. This library provides an API for working with Amazon services, including SageMaker. To start with, we need to get a handle to the SageMaker runtime."
   ]
  },
  {
   "cell_type": "code",
   "execution_count": 49,
   "metadata": {},
   "outputs": [],
   "source": [
    "import boto3\n",
    "\n",
    "runtime = boto3.Session().client('sagemaker-runtime')"
   ]
  },
  {
   "cell_type": "markdown",
   "metadata": {},
   "source": [
    "And now that we have access to the SageMaker runtime, we can ask it to make use of (invoke) an endpoint that has already been created. However, we need to provide SageMaker with the name of the deployed endpoint. To find this out we can print it out using the `xgb_predictor` object."
   ]
  },
  {
   "cell_type": "code",
   "execution_count": 50,
   "metadata": {},
   "outputs": [
    {
     "data": {
      "text/plain": [
       "'xgboost-2020-12-30-05-11-13-164'"
      ]
     },
     "execution_count": 50,
     "metadata": {},
     "output_type": "execute_result"
    }
   ],
   "source": [
    "xgb_predictor.endpoint"
   ]
  },
  {
   "cell_type": "markdown",
   "metadata": {},
   "source": [
    "Using the SageMaker runtime and the name of our endpoint, we can invoke the endpoint and send it the `test_bow` data."
   ]
  },
  {
   "cell_type": "code",
   "execution_count": 51,
   "metadata": {},
   "outputs": [
    {
     "ename": "ParamValidationError",
     "evalue": "Parameter validation failed:\nInvalid type for parameter Body, value: [0, 0, 0, 0, 0, 0, 0, 0, 0, 0, 0, 0, 0, 0, 0, 0, 0, 0, 0, 0, 0, 0, 0, 0, 0, 0, 0, 0, 0, 0, 0, 0, 0, 0, 0, 0, 0, 0, 0, 0, 0, 0, 0, 0, 0, 0, 0, 0, 0, 0, 0, 0, 0, 0, 0, 0, 0, 0, 0, 0, 0, 0, 0, 0, 0, 0, 0, 0, 0, 0, 0, 0, 0, 0, 0, 0, 0, 0, 0, 0, 0, 0, 0, 0, 0, 0, 0, 0, 0, 0, 0, 0, 0, 0, 0, 0, 0, 0, 0, 0, 0, 0, 0, 0, 0, 0, 0, 0, 0, 0, 0, 0, 0, 0, 0, 0, 0, 0, 0, 0, 0, 0, 0, 0, 0, 0, 0, 0, 0, 0, 0, 0, 0, 0, 0, 0, 0, 0, 0, 0, 0, 0, 0, 0, 0, 0, 0, 0, 0, 0, 0, 0, 0, 0, 0, 0, 0, 0, 0, 0, 0, 0, 0, 0, 0, 0, 0, 0, 0, 0, 0, 0, 0, 0, 0, 0, 0, 0, 0, 0, 0, 0, 0, 0, 0, 0, 0, 0, 0, 0, 0, 0, 0, 0, 0, 0, 0, 0, 0, 0, 0, 0, 0, 0, 0, 0, 0, 0, 0, 0, 0, 0, 0, 0, 0, 0, 0, 0, 0, 0, 0, 0, 0, 0, 0, 0, 1, 0, 0, 0, 0, 0, 0, 0, 0, 0, 0, 0, 0, 0, 0, 0, 0, 0, 0, 0, 0, 0, 0, 0, 0, 0, 0, 0, 0, 0, 1, 0, 0, 0, 0, 0, 0, 0, 0, 0, 0, 0, 0, 0, 0, 0, 0, 0, 0, 0, 0, 0, 0, 0, 0, 0, 0, 0, 0, 0, 0, 0, 0, 0, 0, 0, 0, 0, 0, 0, 0, 0, 0, 0, 0, 0, 0, 0, 0, 0, 0, 0, 0, 0, 0, 0, 0, 0, 0, 0, 0, 0, 0, 0, 0, 0, 0, 0, 0, 0, 0, 0, 0, 0, 0, 0, 0, 0, 0, 0, 0, 0, 0, 0, 0, 0, 0, 0, 0, 0, 0, 0, 0, 0, 0, 0, 0, 0, 0, 0, 0, 0, 0, 0, 0, 0, 0, 0, 0, 0, 0, 0, 0, 0, 0, 0, 0, 0, 0, 0, 0, 0, 0, 0, 0, 0, 0, 0, 0, 0, 0, 0, 0, 0, 0, 0, 0, 0, 0, 0, 0, 0, 0, 0, 0, 0, 0, 0, 0, 0, 0, 0, 0, 0, 0, 0, 0, 0, 0, 0, 0, 0, 0, 0, 0, 0, 0, 0, 0, 0, 0, 0, 0, 0, 0, 0, 0, 0, 0, 0, 0, 0, 0, 0, 0, 0, 0, 0, 0, 0, 0, 0, 0, 0, 0, 0, 0, 0, 0, 0, 0, 0, 0, 0, 0, 0, 0, 0, 0, 0, 0, 0, 0, 0, 0, 0, 0, 0, 0, 0, 0, 0, 0, 0, 0, 0, 0, 0, 0, 0, 0, 0, 0, 0, 0, 0, 0, 0, 0, 0, 0, 0, 0, 0, 0, 0, 0, 0, 0, 0, 0, 0, 0, 0, 0, 0, 0, 0, 0, 0, 0, 0, 0, 0, 0, 0, 0, 0, 0, 0, 0, 0, 0, 0, 0, 0, 0, 0, 0, 0, 0, 0, 0, 0, 0, 0, 0, 0, 0, 0, 0, 0, 0, 0, 0, 0, 0, 0, 0, 0, 0, 0, 0, 0, 0, 0, 0, 0, 0, 0, 0, 0, 0, 0, 0, 0, 0, 0, 0, 0, 0, 0, 0, 0, 0, 0, 0, 0, 0, 0, 0, 0, 0, 0, 0, 0, 0, 0, 0, 0, 0, 0, 0, 0, 0, 0, 0, 0, 0, 0, 0, 0, 0, 0, 0, 0, 0, 0, 0, 0, 0, 0, 0, 0, 0, 0, 0, 0, 0, 0, 0, 0, 0, 0, 0, 0, 0, 0, 0, 0, 1, 0, 0, 0, 0, 0, 0, 0, 0, 0, 0, 0, 0, 0, 0, 0, 0, 0, 0, 0, 0, 0, 0, 0, 0, 0, 0, 0, 0, 0, 0, 0, 0, 0, 0, 0, 0, 0, 0, 0, 0, 0, 0, 0, 0, 0, 0, 0, 0, 0, 0, 0, 0, 0, 0, 0, 0, 0, 0, 0, 0, 0, 0, 0, 0, 0, 0, 0, 0, 0, 0, 0, 0, 0, 0, 0, 0, 0, 0, 0, 0, 0, 0, 0, 0, 0, 0, 0, 0, 0, 0, 0, 0, 0, 0, 0, 0, 0, 0, 0, 0, 0, 0, 0, 0, 0, 0, 0, 0, 0, 0, 0, 0, 0, 0, 0, 0, 0, 0, 0, 0, 0, 0, 0, 0, 0, 0, 0, 0, 0, 0, 0, 0, 0, 0, 0, 0, 0, 0, 0, 0, 0, 0, 0, 0, 0, 0, 0, 0, 0, 0, 0, 0, 0, 0, 0, 0, 0, 0, 0, 0, 0, 0, 0, 0, 0, 0, 0, 0, 0, 0, 0, 0, 0, 0, 0, 0, 0, 0, 0, 0, 0, 0, 0, 0, 0, 0, 0, 0, 0, 0, 0, 0, 0, 0, 0, 0, 0, 0, 0, 0, 0, 0, 0, 0, 0, 0, 0, 0, 0, 0, 0, 0, 0, 0, 0, 0, 0, 0, 0, 0, 0, 0, 0, 0, 0, 0, 0, 0, 0, 0, 0, 0, 0, 0, 0, 0, 0, 0, 0, 0, 0, 0, 0, 0, 0, 0, 0, 0, 0, 0, 0, 0, 0, 1, 0, 0, 0, 0, 0, 0, 0, 0, 0, 0, 0, 0, 0, 0, 0, 0, 0, 0, 0, 0, 0, 0, 0, 0, 0, 0, 0, 0, 0, 0, 0, 0, 0, 0, 0, 0, 0, 0, 0, 0, 0, 0, 0, 0, 0, 0, 0, 0, 0, 0, 0, 0, 0, 0, 0, 0, 0, 0, 0, 0, 0, 0, 0, 0, 0, 0, 0, 0, 0, 0, 0, 0, 0, 0, 0, 0, 0, 0, 0, 0, 0, 0, 0, 0, 0, 0, 1, 0, 0, 0, 0, 0, 0, 0, 0, 0, 0, 0, 0, 0, 0, 0, 0, 0, 0, 0, 0, 0, 0, 0, 0, 0, 0, 0, 0, 0, 0, 0, 0, 0, 0, 0, 0, 0, 0, 0, 0, 0, 0, 0, 0, 0, 0, 0, 0, 0, 0, 0, 0, 0, 0, 0, 0, 0, 0, 0, 0, 0, 0, 0, 0, 0, 0, 0, 0, 0, 0, 0, 0, 0, 0, 0, 0, 0, 0, 0, 0, 0, 0, 0, 0, 0, 0, 0, 0, 0, 0, 0, 0, 0, 0, 0, 0, 0, 0, 0, 0, 0, 0, 0, 0, 0, 0, 0, 0, 0, 0, 0, 0, 0, 0, 0, 0, 0, 0, 0, 0, 0, 0, 0, 0, 0, 0, 0, 0, 0, 0, 0, 0, 0, 0, 0, 0, 0, 0, 0, 0, 0, 0, 0, 0, 0, 0, 0, 0, 0, 0, 0, 0, 0, 0, 0, 0, 0, 0, 0, 0, 0, 0, 0, 0, 0, 0, 0, 0, 0, 0, 0, 0, 0, 0, 0, 0, 0, 0, 0, 0, 0, 0, 0, 0, 0, 0, 0, 0, 0, 0, 0, 0, 0, 0, 0, 0, 0, 0, 0, 0, 0, 0, 0, 0, 0, 0, 0, 0, 0, 0, 0, 0, 0, 0, 0, 0, 0, 0, 0, 0, 0, 0, 0, 0, 0, 0, 0, 0, 0, 0, 0, 0, 0, 0, 0, 0, 0, 0, 0, 0, 0, 0, 0, 0, 0, 0, 0, 0, 0, 0, 0, 0, 1, 0, 0, 0, 0, 0, 0, 0, 0, 0, 0, 0, 0, 0, 0, 0, 0, 0, 0, 0, 0, 0, 0, 0, 0, 0, 0, 0, 0, 0, 0, 0, 0, 0, 0, 0, 0, 0, 0, 0, 0, 0, 0, 0, 0, 0, 0, 0, 0, 0, 0, 0, 0, 0, 0, 0, 1, 0, 0, 0, 0, 0, 0, 0, 0, 0, 0, 0, 0, 0, 0, 0, 0, 0, 0, 0, 0, 0, 0, 0, 0, 0, 0, 0, 0, 0, 0, 0, 0, 0, 0, 0, 0, 0, 0, 0, 0, 0, 0, 0, 0, 0, 0, 0, 0, 0, 0, 0, 0, 0, 0, 0, 0, 0, 0, 0, 0, 0, 0, 0, 0, 0, 0, 0, 0, 0, 0, 0, 0, 0, 0, 0, 0, 0, 0, 0, 0, 0, 0, 0, 0, 0, 0, 0, 0, 0, 0, 0, 0, 0, 0, 0, 0, 0, 0, 0, 0, 0, 0, 0, 0, 0, 0, 0, 0, 0, 0, 0, 0, 0, 0, 0, 0, 0, 0, 0, 0, 0, 0, 0, 0, 0, 0, 0, 0, 0, 0, 0, 0, 0, 0, 0, 0, 0, 0, 0, 0, 0, 0, 0, 0, 0, 0, 0, 0, 0, 0, 0, 0, 0, 0, 0, 0, 0, 0, 0, 0, 0, 0, 0, 0, 0, 0, 0, 0, 0, 0, 0, 0, 0, 0, 0, 0, 0, 0, 0, 0, 0, 0, 0, 0, 0, 0, 0, 0, 0, 0, 0, 0, 0, 0, 0, 0, 0, 0, 0, 0, 0, 0, 0, 0, 0, 0, 0, 0, 0, 0, 0, 0, 0, 0, 0, 0, 0, 0, 0, 0, 0, 0, 0, 0, 0, 0, 0, 0, 0, 0, 0, 0, 0, 0, 0, 0, 0, 0, 0, 0, 0, 0, 0, 0, 0, 0, 0, 0, 0, 0, 0, 0, 0, 0, 0, 0, 0, 0, 0, 0, 0, 0, 0, 0, 0, 0, 0, 0, 0, 0, 0, 0, 0, 0, 0, 0, 0, 0, 0, 0, 0, 0, 0, 0, 0, 0, 0, 0, 0, 0, 0, 0, 0, 0, 0, 0, 0, 0, 0, 0, 0, 0, 0, 0, 0, 0, 0, 0, 0, 0, 0, 0, 0, 0, 0, 0, 0, 0, 0, 0, 0, 0, 0, 0, 0, 0, 0, 0, 0, 0, 0, 0, 0, 0, 0, 0, 0, 0, 0, 0, 0, 0, 0, 0, 0, 0, 0, 0, 0, 0, 0, 0, 0, 0, 0, 0, 0, 0, 0, 0, 0, 0, 0, 0, 0, 0, 0, 0, 0, 0, 0, 0, 0, 0, 0, 0, 0, 0, 0, 0, 0, 0, 0, 0, 0, 0, 0, 0, 0, 0, 0, 0, 0, 0, 0, 0, 0, 0, 0, 0, 0, 0, 0, 0, 0, 0, 0, 0, 0, 0, 0, 0, 0, 0, 0, 0, 0, 0, 0, 0, 0, 0, 0, 0, 0, 0, 0, 0, 0, 0, 0, 0, 0, 0, 0, 0, 0, 0, 0, 0, 0, 0, 0, 0, 0, 0, 0, 0, 0, 0, 0, 0, 0, 0, 0, 0, 0, 0, 0, 0, 0, 0, 0, 0, 0, 0, 0, 0, 0, 0, 0, 0, 0, 0, 0, 0, 0, 0, 0, 0, 0, 0, 0, 0, 0, 0, 0, 0, 0, 0, 0, 0, 0, 0, 0, 0, 0, 0, 0, 0, 0, 0, 0, 0, 0, 0, 0, 0, 0, 0, 0, 0, 0, 0, 0, 0, 0, 0, 0, 0, 0, 0, 0, 0, 0, 0, 0, 0, 0, 0, 0, 0, 0, 0, 0, 0, 0, 0, 0, 0, 0, 0, 0, 0, 0, 0, 0, 0, 0, 0, 0, 0, 0, 0, 0, 0, 0, 0, 0, 0, 0, 0, 0, 0, 0, 0, 0, 0, 0, 0, 0, 0, 0, 0, 0, 0, 0, 0, 0, 0, 0, 0, 0, 0, 0, 0, 0, 0, 0, 0, 0, 0, 0, 0, 0, 0, 0, 0, 0, 0, 0, 0, 0, 0, 0, 0, 0, 0, 0, 0, 0, 0, 0, 0, 0, 0, 0, 0, 0, 0, 0, 0, 0, 0, 0, 0, 0, 0, 0, 0, 0, 0, 0, 0, 0, 0, 0, 0, 0, 0, 0, 0, 0, 0, 0, 0, 0, 0, 0, 0, 0, 0, 0, 0, 0, 0, 0, 0, 0, 0, 0, 0, 0, 0, 0, 0, 0, 0, 0, 0, 0, 0, 0, 0, 0, 0, 0, 0, 0, 0, 0, 1, 0, 0, 0, 0, 0, 0, 0, 0, 0, 0, 0, 0, 0, 0, 0, 0, 0, 0, 0, 0, 0, 0, 0, 0, 0, 0, 0, 0, 0, 0, 0, 0, 0, 0, 0, 0, 0, 0, 0, 0, 0, 0, 0, 0, 0, 0, 0, 0, 0, 0, 0, 0, 0, 0, 0, 0, 0, 0, 0, 0, 0, 0, 0, 0, 0, 0, 0, 0, 0, 0, 0, 0, 0, 0, 1, 0, 0, 0, 0, 0, 0, 0, 0, 0, 0, 0, 0, 0, 0, 0, 0, 0, 0, 0, 0, 1, 0, 0, 1, 0, 0, 0, 0, 0, 0, 0, 0, 0, 0, 0, 0, 0, 0, 0, 0, 0, 0, 0, 0, 0, 0, 0, 0, 0, 0, 0, 0, 0, 0, 0, 0, 0, 0, 0, 0, 0, 0, 0, 0, 0, 0, 0, 0, 0, 0, 0, 0, 0, 0, 0, 0, 0, 0, 0, 0, 0, 0, 0, 0, 0, 0, 0, 0, 0, 0, 0, 0, 0, 0, 0, 0, 0, 0, 0, 0, 0, 0, 0, 0, 0, 0, 0, 0, 0, 0, 0, 0, 0, 0, 0, 0, 0, 0, 0, 0, 0, 0, 0, 0, 0, 0, 0, 0, 0, 0, 0, 0, 0, 0, 0, 0, 0, 0, 0, 0, 0, 0, 0, 0, 0, 0, 0, 0, 0, 0, 0, 0, 0, 0, 0, 0, 0, 0, 0, 0, 0, 0, 0, 0, 0, 0, 0, 0, 0, 0, 0, 0, 0, 0, 0, 0, 0, 0, 0, 0, 0, 0, 0, 0, 0, 0, 0, 0, 0, 0, 0, 0, 0, 0, 0, 0, 0, 0, 0, 0, 0, 0, 0, 0, 0, 0, 0, 0, 0, 0, 0, 0, 0, 0, 0, 0, 0, 0, 0, 0, 0, 0, 0, 0, 0, 0, 0, 0, 0, 0, 0, 0, 0, 0, 0, 0, 0, 0, 0, 0, 0, 0, 0, 0, 0, 0, 0, 0, 0, 0, 0, 0, 0, 0, 0, 0, 0, 0, 0, 0, 0, 0, 0, 0, 0, 0, 0, 0, 0, 0, 0, 0, 0, 0, 0, 0, 0, 0, 0, 0, 0, 0, 0, 0, 0, 0, 0, 0, 0, 0, 0, 0, 0, 0, 0, 0, 0, 0, 0, 0, 0, 0, 0, 0, 0, 0, 0, 0, 0, 0, 0, 0, 0, 0, 0, 0, 0, 0, 0, 0, 0, 0, 0, 0, 0, 0, 0, 0, 0, 0, 0, 0, 0, 0, 0, 0, 0, 0, 0, 0, 0, 0, 0, 0, 0, 0, 0, 0, 0, 0, 0, 0, 0, 0, 0, 0, 0, 0, 0, 0, 0, 0, 0, 0, 0, 0, 0, 0, 0, 0, 0, 0, 0, 0, 0, 0, 0, 0, 0, 0, 0, 0, 0, 0, 0, 0, 0, 0, 0, 0, 0, 0, 0, 0, 0, 0, 0, 0, 0, 0, 0, 0, 0, 0, 0, 0, 0, 0, 0, 0, 0, 0, 0, 0, 0, 0, 0, 0, 0, 0, 0, 0, 0, 0, 0, 0, 0, 0, 0, 0, 0, 0, 0, 0, 0, 0, 0, 0, 0, 0, 0, 0, 0, 0, 0, 0, 0, 0, 0, 0, 0, 0, 0, 0, 0, 0, 0, 0, 0, 0, 0, 0, 0, 0, 0, 0, 0, 0, 0, 0, 0, 0, 0, 0, 0, 0, 0, 0, 0, 0, 0, 0, 0, 0, 0, 0, 0, 0, 0, 0, 1, 0, 0, 0, 0, 0, 0, 0, 0, 0, 0, 0, 0, 0, 0, 0, 0, 0, 0, 0, 0, 0, 0, 0, 0, 0, 0, 0, 0, 0, 0, 0, 0, 0, 0, 0, 0, 0, 0, 0, 0, 0, 0, 0, 0, 0, 0, 0, 0, 0, 0, 0, 0, 0, 0, 0, 0, 0, 0, 0, 0, 0, 0, 0, 0, 0, 0, 0, 0, 0, 0, 0, 0, 0, 0, 0, 0, 0, 0, 0, 0, 0, 0, 0, 0, 0, 0, 0, 0, 0, 0, 0, 0, 0, 0, 0, 0, 0, 0, 0, 0, 0, 0, 0, 0, 0, 0, 0, 0, 0, 0, 0, 0, 0, 0, 0, 0, 0, 0, 0, 0, 0, 0, 0, 0, 0, 0, 0, 0, 0, 0, 0, 0, 0, 0, 0, 0, 0, 0, 0, 0, 0, 0, 0, 0, 0, 0, 0, 0, 0, 0, 0, 0, 0, 0, 0, 0, 0, 0, 0, 0, 0, 0, 0, 0, 0, 0, 0, 0, 0, 0, 0, 0, 0, 0, 0, 0, 0, 0, 0, 0, 0, 0, 0, 0, 0, 0, 0, 0, 0, 0, 0, 0, 0, 0, 0, 0, 0, 0, 0, 0, 0, 0, 0, 0, 0, 0, 0, 0, 0, 0, 0, 0, 0, 0, 0, 0, 0, 0, 0, 0, 0, 0, 0, 0, 0, 0, 0, 0, 0, 0, 0, 0, 0, 0, 0, 0, 0, 0, 0, 0, 0, 0, 0, 0, 0, 0, 0, 0, 0, 0, 0, 0, 0, 0, 0, 0, 0, 0, 0, 0, 0, 0, 0, 0, 0, 0, 0, 0, 0, 0, 0, 0, 0, 0, 0, 0, 0, 0, 0, 0, 0, 0, 0, 0, 0, 0, 0, 0, 0, 0, 0, 0, 0, 0, 0, 0, 0, 0, 0, 0, 0, 0, 0, 0, 0, 0, 0, 0, 0, 0, 0, 0, 0, 0, 0, 0, 0, 0, 0, 0, 0, 0, 0, 0, 0, 0, 0, 0, 0, 0, 0, 0, 0, 0, 0, 0, 0, 0, 0, 0, 0, 0, 0, 0, 0, 0, 0, 0, 0, 0, 0, 0, 0, 0, 0, 0, 0, 0, 0, 0, 0, 0, 0, 0, 0, 0, 0, 0, 0, 0, 0, 0, 0, 0, 0, 0, 0, 0, 0, 0, 0, 0, 0, 0, 0, 0, 0, 0, 0, 0, 0, 0, 0, 0, 0, 0, 0, 0, 0, 0, 0, 0, 0, 0, 0, 0, 0, 0, 0, 0, 0, 0, 0, 0, 0, 0, 0, 0, 0, 0, 0, 0, 0, 0, 0, 0, 0, 0, 0, 0, 0, 0, 0, 0, 0, 0, 0, 0, 0, 0, 0, 0, 0, 0, 0, 0, 0, 0, 0, 0, 0, 0, 0, 0, 0, 0, 0, 0, 0, 0, 0, 0, 0, 0, 0, 0, 0, 0, 0, 0, 0, 0, 0, 0, 0, 0, 0, 0, 0, 0, 0, 0, 0, 0, 0, 0, 0, 0, 0, 0, 0, 0, 0, 0, 0, 0, 0, 0, 0, 0, 0, 0, 0, 0, 0, 0, 0, 0, 0, 0, 0, 0, 1, 0, 0, 0, 0, 0, 0, 0, 0, 0, 0, 0, 0, 0, 0, 0, 0, 0, 0, 0, 0, 0, 0, 0, 0, 0, 0, 0, 0, 0, 0, 0, 0, 0, 0, 0, 2, 0, 0, 0, 0, 0, 0, 0, 0, 0, 0, 0, 0, 0, 0, 0, 0, 0, 0, 0, 0, 0, 0, 0, 0, 0, 0, 0, 0, 0, 0, 0, 0, 0, 0, 0, 0, 0, 0, 0, 0, 1, 0, 0, 0, 0, 0, 0, 0, 0, 0, 0, 0, 0, 0, 0, 0, 0, 0, 0, 0, 0, 0, 0, 0, 0, 0, 0, 0, 0, 0, 0, 0, 0, 0, 0, 0, 0, 0, 0, 0, 0, 0, 0, 0, 0, 0, 0, 0, 0, 0, 0, 0, 0, 0, 0, 0, 0, 0, 0, 0, 0, 0, 0, 0, 0, 0, 0, 0, 0, 0, 0, 0, 0, 0, 0, 0, 0, 0, 0, 0, 0, 0, 0, 0, 0, 0, 0, 0, 0, 0, 0, 0, 0, 0, 0, 0, 0, 0, 0, 0, 0, 0, 0, 0, 0, 0, 0, 0, 0, 0, 0, 0, 0, 0, 0, 0, 0, 0, 0, 0, 0, 0, 0, 0, 0, 0, 0, 0, 0, 0, 0, 0, 0, 0, 0, 0, 0, 0, 0, 0, 0, 0, 0, 0, 0, 0, 0, 0, 0, 0, 0, 0, 0, 0, 0, 0, 0, 0, 0, 0, 0, 0, 0, 0, 0, 0, 0, 0, 0, 0, 0, 0, 0, 0, 0, 0, 0, 0, 0, 0, 0, 0, 0, 0, 0, 0, 0, 0, 0, 0, 0, 0, 0, 0, 0, 0, 0, 0, 0, 0, 0, 0, 0, 0, 0, 0, 0, 0, 0, 0, 0, 0, 0, 0, 0, 0, 0, 0, 0, 0, 0, 0, 0, 0, 0, 0, 0, 0, 0, 0, 0, 0, 0, 0, 0, 0, 0, 0, 0, 0, 0, 0, 0, 0, 0, 0, 0, 0, 0, 0, 0, 0, 0, 0, 0, 0, 0, 0, 0, 0, 0, 0, 0, 0, 0, 0, 0, 0, 0, 0, 0, 0, 0, 0, 0, 0, 0, 0, 0, 0, 0, 0, 0, 0, 0, 0, 0, 0, 0, 0, 0, 0, 0, 0, 0, 0, 0, 0, 0, 0, 0, 0, 0, 0, 0, 0, 0, 0, 0, 0, 0, 0, 0, 0, 0, 0, 0, 0, 0, 0, 0, 0, 0, 0, 0, 0, 0, 0, 0, 0, 0, 0, 0, 0, 0, 0, 0, 0, 0, 0, 0, 0, 0, 0, 0, 0, 0, 0, 0, 0, 0, 0, 0, 0, 0, 0, 0, 0, 0, 0, 0, 0, 0, 0, 0, 0, 0, 0, 0, 0, 0, 0, 0, 0, 0, 0, 0, 0, 0, 0, 0, 0, 0, 0, 0, 0, 0, 0, 0, 0, 0, 0, 0, 0, 0, 0, 0, 0, 0, 0, 0, 0, 0, 0, 0, 0, 0, 0, 0, 0, 0, 0, 0, 0, 0, 0, 0, 0, 0, 0, 0, 0, 0, 0, 0, 0, 0, 0, 0, 0, 0, 0, 0, 0, 0, 0, 0, 0, 0, 0, 0, 0, 0, 0, 0, 0, 0, 0, 0, 0, 0, 0, 0, 0, 0, 0, 0, 0, 0, 0, 0, 0, 0, 0, 0, 0, 0, 0, 0, 0, 0, 0, 0, 0, 0, 0, 0, 0, 0, 0, 0, 0, 0, 0, 0, 0, 0, 0, 0, 0, 0, 0, 0, 0, 0, 0, 0, 0, 1, 0, 0, 0, 0, 0, 0, 0, 0, 0, 0, 0, 0, 0, 0, 0, 0, 0, 0, 0, 0, 0, 0, 0, 0, 0, 0, 0, 0, 0, 0, 0, 0, 0, 0, 0, 0, 0, 0, 0, 0, 0, 0, 0, 0, 0, 0, 0, 0, 0, 0, 0, 0, 0, 0, 0, 0, 0, 0, 0, 0, 0, 0, 0, 0, 0, 0, 0, 0, 0, 0, 0, 0, 0, 0, 0, 0, 0, 0, 0, 0, 0, 0, 0, 0, 0, 0, 0, 0, 0, 0, 0, 0, 0, 0, 0, 0, 0, 0, 0, 0, 0, 0, 0, 0, 0, 0, 0, 0, 0, 0, 2, 0, 0, 0, 0, 0, 0, 0, 0, 0, 0, 0, 0, 0, 0, 0, 0, 0, 0, 0, 0, 0, 0, 0, 0, 0, 0, 0, 0, 0, 0, 0, 0, 0, 0, 0, 0, 0, 0, 0, 0, 0, 0, 0, 0, 0, 0, 0, 0, 0, 0, 0, 0, 0, 0, 0, 0, 0, 0, 0, 0, 0, 0, 0, 0, 0, 0, 0, 0, 0, 0, 0, 0, 0, 0, 0, 0, 0, 0, 0, 0, 0, 0, 0, 0, 0, 0, 0, 0, 0, 0, 0, 0, 0, 0, 0, 0, 0, 0, 0, 0, 0, 0, 0, 0, 0, 0, 0, 0, 0, 0, 0, 0, 0, 0, 0, 0, 0, 0, 0, 0, 0, 0, 0, 0, 0, 0, 0, 0, 0, 0, 0, 0, 0, 0, 0, 0, 0, 0, 0, 0, 0, 0, 0, 0, 0, 0, 0, 0, 0, 0, 0, 0, 0, 0, 0, 0, 0, 0, 0, 0, 0, 0, 0, 0, 0, 0, 0, 0, 0, 0, 0, 0, 0, 0, 0, 0, 0, 0, 0, 0, 0, 0, 0, 0, 0, 0, 0, 0, 0, 0, 0, 0, 0, 0, 0, 0, 0, 0, 0, 0, 0, 0, 0, 0, 0, 0, 0, 0, 0, 0, 0, 0, 0, 0, 0, 0, 0, 0, 0, 0, 0, 0, 0, 0, 0, 0, 0, 0, 0, 0, 0, 0, 0, 0, 0, 0, 0, 0, 0, 0, 0, 0, 0, 0, 0, 0, 0, 0, 0, 0, 0, 0, 0, 0, 0, 0, 0, 0, 0, 0, 0, 0, 0, 0, 0, 0, 0, 0, 0, 0, 0, 0, 0, 0, 0, 0, 0, 0, 0, 0, 0, 0, 0, 0, 0, 0, 0, 0, 0, 0, 0, 0, 0, 0, 0, 0, 0, 0, 0, 0, 0, 0, 0, 0, 0, 0, 0, 0, 0, 0, 0, 0, 0, 0, 0, 0, 0, 0, 0, 0, 0, 0, 0, 0, 0, 0, 0, 0, 0, 0, 0, 0, 0, 0, 0, 0, 0, 0, 0, 0, 0, 0, 0, 0, 0, 0, 0, 0, 0, 0, 0, 0, 0, 0, 0, 0, 0, 0, 0, 0, 0, 0, 0, 0, 0, 0, 0, 0, 0, 0, 0, 0, 0, 0, 0, 0, 0, 0, 0, 0, 0, 0, 0, 0, 0, 0, 0, 0, 0, 0, 0, 0, 0, 0, 0, 0, 0, 0, 0, 0, 0, 0, 0, 0, 0, 0, 0, 0, 0, 0, 0, 0, 0, 0, 0, 0, 0, 0, 0, 0, 0, 0, 0, 0, 0, 0, 0, 0, 0, 0, 0, 0, 0, 0, 0, 0, 0, 0, 0, 0, 0, 0, 0, 0, 0, 0, 0, 0, 0, 0, 0, 0, 0, 0, 0, 0, 0, 0, 0, 0, 0, 0, 0, 0, 0, 0, 0, 0, 0, 0, 0, 0, 0, 0, 0, 0, 0, 0, 0, 0, 0, 0, 0, 0, 0, 0, 0, 0, 0, 0, 0, 0, 0, 0, 0, 0, 0, 0, 0, 0, 0, 0, 0, 0, 0, 0, 0, 0, 0, 0, 0, 0, 0, 0, 0, 0, 0, 0, 0, 0, 0, 0, 0, 0, 0, 0, 0, 0, 0, 0, 0, 0, 0, 0, 0, 0, 0, 0, 0, 0, 0, 0, 0, 0, 0, 0, 0, 0, 0, 0, 0, 0, 0, 0, 0, 0, 0, 0, 0, 0, 0, 0, 0, 0, 0, 0, 0, 0, 0, 0, 0, 0, 0, 0, 0, 0, 0, 0, 0, 0, 0, 0, 0, 0, 0, 0, 0, 0, 0, 0, 0, 0, 0, 0, 0, 0, 0, 0, 0, 0, 0, 0, 0, 0, 0, 0, 0, 0, 0, 0, 0, 0, 0, 0, 0, 0, 0, 0, 0, 0, 0, 0, 0, 0, 0, 0, 0, 0, 0, 0, 0, 0, 0, 0, 0, 0, 0, 0, 0, 0, 0, 0, 0, 0, 0, 0, 0, 0, 0, 0, 0, 0, 0, 0, 0, 0, 0, 0, 0, 0, 0, 0, 0, 0, 0, 0, 0, 0, 0, 0, 0, 0, 0, 0, 0, 0, 0, 0, 0, 0, 0, 0, 0, 0, 0, 0, 0, 0, 0, 0, 1, 0, 0, 0, 0, 0, 0, 0, 0, 0, 0, 0, 0, 0, 0, 0, 0, 0, 0, 0, 0, 0, 0, 0, 0, 0, 0, 0, 0, 0, 0, 0, 0, 0, 0, 0, 0, 0, 0, 0, 0, 0, 0, 0, 0, 0, 0, 0, 0, 0, 0, 0, 0, 0, 0, 0, 0, 0, 0, 0, 0, 0, 0, 0, 0, 0, 0, 0, 0, 0, 0, 0, 0, 0, 0, 0, 0, 0, 0, 0, 0, 0, 0, 0, 0, 0, 0, 0, 0, 0, 0, 0, 0, 0, 0, 0, 0, 0, 0, 0, 0, 0, 0, 0, 0, 0, 0, 0, 1, 0, 0, 0, 0, 0, 0, 0, 0, 0, 0, 0, 0, 0, 0, 0, 0, 0, 0, 0, 0, 0, 0, 0, 0, 0, 0, 0, 0, 0, 0, 0, 0, 0, 0, 0, 0, 0, 0, 0, 0, 0, 0, 0, 0, 0, 0, 0, 0, 0, 0, 0, 0, 0, 0, 0, 0, 0, 0, 0, 0, 0, 0, 0, 0, 0, 0, 0, 0, 0, 0, 0, 0, 0, 0, 0, 0, 0, 0, 0, 0, 0, 0, 0, 0, 0, 0, 0, 0, 0, 0, 0, 0, 0, 0, 0, 0, 0, 0, 0, 0, 0, 0, 0, 0, 0, 0, 0, 0, 0, 0, 0, 0, 0, 0, 0, 0, 0, 0, 0, 0, 0, 0, 0, 0, 0, 0, 0, 0, 0, 0, 0, 0, 0, 0, 0, 0, 0, 0, 0, 0, 0, 0, 0, 0, 0, 0, 0, 0, 0, 0, 0, 0, 0, 0, 0, 0, 0, 0, 0, 0, 0, 0, 0, 0, 0, 0, 0, 0, 0, 0, 0, 0, 0, 0, 0, 0, 0, 0, 0, 0, 0, 0, 0, 0, 0, 0, 0, 0, 0, 0, 0, 0, 0, 0, 0, 0, 0, 0, 0, 0, 0, 0, 0, 0, 0, 0, 0, 0, 0, 0, 0, 0, 0, 0, 0, 0, 0, 0, 0, 0, 0, 0, 0, 0, 0, 0, 0, 0, 0, 0, 0, 0, 0, 0, 0, 0, 0, 0, 0, 0, 0, 0, 0, 0, 0, 0, 0, 0, 0, 0, 0, 0, 0, 0, 0, 0, 0, 0, 0, 0, 0, 0, 0, 0, 0, 0, 0, 0, 0, 0, 0, 0, 0, 0, 0, 0, 0, 0, 0, 0, 0, 0, 0, 0, 0, 0, 0, 0, 0, 0, 0, 0, 0, 0, 0, 0, 0, 0, 0, 0, 0, 0, 0, 0, 0, 0, 0, 0, 0, 0, 0, 0, 0, 0, 0, 0, 0, 0, 0, 0, 0, 0, 0, 0, 0, 0, 0, 0, 0, 0, 0, 0, 0, 0, 0, 0, 0, 0, 0, 0, 0, 0, 0, 0, 0, 0, 0, 0, 0, 0, 0, 0, 0, 0, 0, 0, 0, 0, 0, 0, 0, 0, 0, 0, 0, 0, 0, 0, 0, 0, 0, 0, 0, 0, 0, 0, 0, 0, 0, 0, 0, 0, 0, 0, 0, 0, 0, 0, 0, 0, 0, 0, 0, 0, 0, 0, 0, 0, 0, 0, 0, 0, 0, 0, 0, 0, 0, 0, 0, 0, 0, 0, 0, 0, 0, 0, 0, 0, 0, 0, 0, 0, 0, 0, 0, 0, 0, 0, 0, 0, 0, 0, 0, 0, 0, 0, 0, 0, 0, 0, 0, 0, 0, 0, 0, 0, 0, 0, 0, 0, 0, 0, 0, 0, 0, 0, 0, 0, 0, 0, 0, 0, 0, 2, 0, 1, 0], type: <class 'list'>, valid types: <class 'bytes'>, <class 'bytearray'>, file-like object",
     "output_type": "error",
     "traceback": [
      "\u001b[0;31m---------------------------------------------------------------------------\u001b[0m",
      "\u001b[0;31mParamValidationError\u001b[0m                      Traceback (most recent call last)",
      "\u001b[0;32m<ipython-input-51-c9ab54ae3a48>\u001b[0m in \u001b[0;36m<module>\u001b[0;34m\u001b[0m\n\u001b[1;32m      1\u001b[0m response = runtime.invoke_endpoint(EndpointName = xgb_predictor.endpoint, # The name of the endpoint we created\n\u001b[1;32m      2\u001b[0m                                        \u001b[0mContentType\u001b[0m \u001b[0;34m=\u001b[0m \u001b[0;34m'text/csv'\u001b[0m\u001b[0;34m,\u001b[0m                     \u001b[0;31m# The data format that is expected\u001b[0m\u001b[0;34m\u001b[0m\u001b[0;34m\u001b[0m\u001b[0m\n\u001b[0;32m----> 3\u001b[0;31m                                        Body = test_bow)\n\u001b[0m",
      "\u001b[0;32m~/anaconda3/envs/python3/lib/python3.6/site-packages/botocore/client.py\u001b[0m in \u001b[0;36m_api_call\u001b[0;34m(self, *args, **kwargs)\u001b[0m\n\u001b[1;32m    355\u001b[0m                     \"%s() only accepts keyword arguments.\" % py_operation_name)\n\u001b[1;32m    356\u001b[0m             \u001b[0;31m# The \"self\" in this scope is referring to the BaseClient.\u001b[0m\u001b[0;34m\u001b[0m\u001b[0;34m\u001b[0m\u001b[0;34m\u001b[0m\u001b[0m\n\u001b[0;32m--> 357\u001b[0;31m             \u001b[0;32mreturn\u001b[0m \u001b[0mself\u001b[0m\u001b[0;34m.\u001b[0m\u001b[0m_make_api_call\u001b[0m\u001b[0;34m(\u001b[0m\u001b[0moperation_name\u001b[0m\u001b[0;34m,\u001b[0m \u001b[0mkwargs\u001b[0m\u001b[0;34m)\u001b[0m\u001b[0;34m\u001b[0m\u001b[0;34m\u001b[0m\u001b[0m\n\u001b[0m\u001b[1;32m    358\u001b[0m \u001b[0;34m\u001b[0m\u001b[0m\n\u001b[1;32m    359\u001b[0m         \u001b[0m_api_call\u001b[0m\u001b[0;34m.\u001b[0m\u001b[0m__name__\u001b[0m \u001b[0;34m=\u001b[0m \u001b[0mstr\u001b[0m\u001b[0;34m(\u001b[0m\u001b[0mpy_operation_name\u001b[0m\u001b[0;34m)\u001b[0m\u001b[0;34m\u001b[0m\u001b[0;34m\u001b[0m\u001b[0m\n",
      "\u001b[0;32m~/anaconda3/envs/python3/lib/python3.6/site-packages/botocore/client.py\u001b[0m in \u001b[0;36m_make_api_call\u001b[0;34m(self, operation_name, api_params)\u001b[0m\n\u001b[1;32m    647\u001b[0m         }\n\u001b[1;32m    648\u001b[0m         request_dict = self._convert_to_request_dict(\n\u001b[0;32m--> 649\u001b[0;31m             api_params, operation_model, context=request_context)\n\u001b[0m\u001b[1;32m    650\u001b[0m \u001b[0;34m\u001b[0m\u001b[0m\n\u001b[1;32m    651\u001b[0m         \u001b[0mservice_id\u001b[0m \u001b[0;34m=\u001b[0m \u001b[0mself\u001b[0m\u001b[0;34m.\u001b[0m\u001b[0m_service_model\u001b[0m\u001b[0;34m.\u001b[0m\u001b[0mservice_id\u001b[0m\u001b[0;34m.\u001b[0m\u001b[0mhyphenize\u001b[0m\u001b[0;34m(\u001b[0m\u001b[0;34m)\u001b[0m\u001b[0;34m\u001b[0m\u001b[0;34m\u001b[0m\u001b[0m\n",
      "\u001b[0;32m~/anaconda3/envs/python3/lib/python3.6/site-packages/botocore/client.py\u001b[0m in \u001b[0;36m_convert_to_request_dict\u001b[0;34m(self, api_params, operation_model, context)\u001b[0m\n\u001b[1;32m    695\u001b[0m             api_params, operation_model, context)\n\u001b[1;32m    696\u001b[0m         request_dict = self._serializer.serialize_to_request(\n\u001b[0;32m--> 697\u001b[0;31m             api_params, operation_model)\n\u001b[0m\u001b[1;32m    698\u001b[0m         \u001b[0;32mif\u001b[0m \u001b[0;32mnot\u001b[0m \u001b[0mself\u001b[0m\u001b[0;34m.\u001b[0m\u001b[0m_client_config\u001b[0m\u001b[0;34m.\u001b[0m\u001b[0minject_host_prefix\u001b[0m\u001b[0;34m:\u001b[0m\u001b[0;34m\u001b[0m\u001b[0;34m\u001b[0m\u001b[0m\n\u001b[1;32m    699\u001b[0m             \u001b[0mrequest_dict\u001b[0m\u001b[0;34m.\u001b[0m\u001b[0mpop\u001b[0m\u001b[0;34m(\u001b[0m\u001b[0;34m'host_prefix'\u001b[0m\u001b[0;34m,\u001b[0m \u001b[0;32mNone\u001b[0m\u001b[0;34m)\u001b[0m\u001b[0;34m\u001b[0m\u001b[0;34m\u001b[0m\u001b[0m\n",
      "\u001b[0;32m~/anaconda3/envs/python3/lib/python3.6/site-packages/botocore/validate.py\u001b[0m in \u001b[0;36mserialize_to_request\u001b[0;34m(self, parameters, operation_model)\u001b[0m\n\u001b[1;32m    295\u001b[0m                                                     operation_model.input_shape)\n\u001b[1;32m    296\u001b[0m             \u001b[0;32mif\u001b[0m \u001b[0mreport\u001b[0m\u001b[0;34m.\u001b[0m\u001b[0mhas_errors\u001b[0m\u001b[0;34m(\u001b[0m\u001b[0;34m)\u001b[0m\u001b[0;34m:\u001b[0m\u001b[0;34m\u001b[0m\u001b[0;34m\u001b[0m\u001b[0m\n\u001b[0;32m--> 297\u001b[0;31m                 \u001b[0;32mraise\u001b[0m \u001b[0mParamValidationError\u001b[0m\u001b[0;34m(\u001b[0m\u001b[0mreport\u001b[0m\u001b[0;34m=\u001b[0m\u001b[0mreport\u001b[0m\u001b[0;34m.\u001b[0m\u001b[0mgenerate_report\u001b[0m\u001b[0;34m(\u001b[0m\u001b[0;34m)\u001b[0m\u001b[0;34m)\u001b[0m\u001b[0;34m\u001b[0m\u001b[0;34m\u001b[0m\u001b[0m\n\u001b[0m\u001b[1;32m    298\u001b[0m         return self._serializer.serialize_to_request(parameters,\n\u001b[1;32m    299\u001b[0m                                                      operation_model)\n",
      "\u001b[0;31mParamValidationError\u001b[0m: Parameter validation failed:\nInvalid type for parameter Body, value: [0, 0, 0, 0, 0, 0, 0, 0, 0, 0, 0, 0, 0, 0, 0, 0, 0, 0, 0, 0, 0, 0, 0, 0, 0, 0, 0, 0, 0, 0, 0, 0, 0, 0, 0, 0, 0, 0, 0, 0, 0, 0, 0, 0, 0, 0, 0, 0, 0, 0, 0, 0, 0, 0, 0, 0, 0, 0, 0, 0, 0, 0, 0, 0, 0, 0, 0, 0, 0, 0, 0, 0, 0, 0, 0, 0, 0, 0, 0, 0, 0, 0, 0, 0, 0, 0, 0, 0, 0, 0, 0, 0, 0, 0, 0, 0, 0, 0, 0, 0, 0, 0, 0, 0, 0, 0, 0, 0, 0, 0, 0, 0, 0, 0, 0, 0, 0, 0, 0, 0, 0, 0, 0, 0, 0, 0, 0, 0, 0, 0, 0, 0, 0, 0, 0, 0, 0, 0, 0, 0, 0, 0, 0, 0, 0, 0, 0, 0, 0, 0, 0, 0, 0, 0, 0, 0, 0, 0, 0, 0, 0, 0, 0, 0, 0, 0, 0, 0, 0, 0, 0, 0, 0, 0, 0, 0, 0, 0, 0, 0, 0, 0, 0, 0, 0, 0, 0, 0, 0, 0, 0, 0, 0, 0, 0, 0, 0, 0, 0, 0, 0, 0, 0, 0, 0, 0, 0, 0, 0, 0, 0, 0, 0, 0, 0, 0, 0, 0, 0, 0, 0, 0, 0, 0, 0, 0, 1, 0, 0, 0, 0, 0, 0, 0, 0, 0, 0, 0, 0, 0, 0, 0, 0, 0, 0, 0, 0, 0, 0, 0, 0, 0, 0, 0, 0, 0, 1, 0, 0, 0, 0, 0, 0, 0, 0, 0, 0, 0, 0, 0, 0, 0, 0, 0, 0, 0, 0, 0, 0, 0, 0, 0, 0, 0, 0, 0, 0, 0, 0, 0, 0, 0, 0, 0, 0, 0, 0, 0, 0, 0, 0, 0, 0, 0, 0, 0, 0, 0, 0, 0, 0, 0, 0, 0, 0, 0, 0, 0, 0, 0, 0, 0, 0, 0, 0, 0, 0, 0, 0, 0, 0, 0, 0, 0, 0, 0, 0, 0, 0, 0, 0, 0, 0, 0, 0, 0, 0, 0, 0, 0, 0, 0, 0, 0, 0, 0, 0, 0, 0, 0, 0, 0, 0, 0, 0, 0, 0, 0, 0, 0, 0, 0, 0, 0, 0, 0, 0, 0, 0, 0, 0, 0, 0, 0, 0, 0, 0, 0, 0, 0, 0, 0, 0, 0, 0, 0, 0, 0, 0, 0, 0, 0, 0, 0, 0, 0, 0, 0, 0, 0, 0, 0, 0, 0, 0, 0, 0, 0, 0, 0, 0, 0, 0, 0, 0, 0, 0, 0, 0, 0, 0, 0, 0, 0, 0, 0, 0, 0, 0, 0, 0, 0, 0, 0, 0, 0, 0, 0, 0, 0, 0, 0, 0, 0, 0, 0, 0, 0, 0, 0, 0, 0, 0, 0, 0, 0, 0, 0, 0, 0, 0, 0, 0, 0, 0, 0, 0, 0, 0, 0, 0, 0, 0, 0, 0, 0, 0, 0, 0, 0, 0, 0, 0, 0, 0, 0, 0, 0, 0, 0, 0, 0, 0, 0, 0, 0, 0, 0, 0, 0, 0, 0, 0, 0, 0, 0, 0, 0, 0, 0, 0, 0, 0, 0, 0, 0, 0, 0, 0, 0, 0, 0, 0, 0, 0, 0, 0, 0, 0, 0, 0, 0, 0, 0, 0, 0, 0, 0, 0, 0, 0, 0, 0, 0, 0, 0, 0, 0, 0, 0, 0, 0, 0, 0, 0, 0, 0, 0, 0, 0, 0, 0, 0, 0, 0, 0, 0, 0, 0, 0, 0, 0, 0, 0, 0, 0, 0, 0, 0, 0, 0, 0, 0, 0, 0, 0, 0, 0, 0, 0, 0, 0, 0, 0, 0, 0, 0, 0, 0, 0, 0, 0, 0, 0, 0, 0, 0, 0, 0, 0, 0, 0, 0, 0, 0, 0, 0, 0, 0, 0, 0, 0, 0, 0, 0, 0, 1, 0, 0, 0, 0, 0, 0, 0, 0, 0, 0, 0, 0, 0, 0, 0, 0, 0, 0, 0, 0, 0, 0, 0, 0, 0, 0, 0, 0, 0, 0, 0, 0, 0, 0, 0, 0, 0, 0, 0, 0, 0, 0, 0, 0, 0, 0, 0, 0, 0, 0, 0, 0, 0, 0, 0, 0, 0, 0, 0, 0, 0, 0, 0, 0, 0, 0, 0, 0, 0, 0, 0, 0, 0, 0, 0, 0, 0, 0, 0, 0, 0, 0, 0, 0, 0, 0, 0, 0, 0, 0, 0, 0, 0, 0, 0, 0, 0, 0, 0, 0, 0, 0, 0, 0, 0, 0, 0, 0, 0, 0, 0, 0, 0, 0, 0, 0, 0, 0, 0, 0, 0, 0, 0, 0, 0, 0, 0, 0, 0, 0, 0, 0, 0, 0, 0, 0, 0, 0, 0, 0, 0, 0, 0, 0, 0, 0, 0, 0, 0, 0, 0, 0, 0, 0, 0, 0, 0, 0, 0, 0, 0, 0, 0, 0, 0, 0, 0, 0, 0, 0, 0, 0, 0, 0, 0, 0, 0, 0, 0, 0, 0, 0, 0, 0, 0, 0, 0, 0, 0, 0, 0, 0, 0, 0, 0, 0, 0, 0, 0, 0, 0, 0, 0, 0, 0, 0, 0, 0, 0, 0, 0, 0, 0, 0, 0, 0, 0, 0, 0, 0, 0, 0, 0, 0, 0, 0, 0, 0, 0, 0, 0, 0, 0, 0, 0, 0, 0, 0, 0, 0, 0, 0, 0, 0, 0, 0, 0, 0, 0, 0, 0, 0, 0, 1, 0, 0, 0, 0, 0, 0, 0, 0, 0, 0, 0, 0, 0, 0, 0, 0, 0, 0, 0, 0, 0, 0, 0, 0, 0, 0, 0, 0, 0, 0, 0, 0, 0, 0, 0, 0, 0, 0, 0, 0, 0, 0, 0, 0, 0, 0, 0, 0, 0, 0, 0, 0, 0, 0, 0, 0, 0, 0, 0, 0, 0, 0, 0, 0, 0, 0, 0, 0, 0, 0, 0, 0, 0, 0, 0, 0, 0, 0, 0, 0, 0, 0, 0, 0, 0, 0, 1, 0, 0, 0, 0, 0, 0, 0, 0, 0, 0, 0, 0, 0, 0, 0, 0, 0, 0, 0, 0, 0, 0, 0, 0, 0, 0, 0, 0, 0, 0, 0, 0, 0, 0, 0, 0, 0, 0, 0, 0, 0, 0, 0, 0, 0, 0, 0, 0, 0, 0, 0, 0, 0, 0, 0, 0, 0, 0, 0, 0, 0, 0, 0, 0, 0, 0, 0, 0, 0, 0, 0, 0, 0, 0, 0, 0, 0, 0, 0, 0, 0, 0, 0, 0, 0, 0, 0, 0, 0, 0, 0, 0, 0, 0, 0, 0, 0, 0, 0, 0, 0, 0, 0, 0, 0, 0, 0, 0, 0, 0, 0, 0, 0, 0, 0, 0, 0, 0, 0, 0, 0, 0, 0, 0, 0, 0, 0, 0, 0, 0, 0, 0, 0, 0, 0, 0, 0, 0, 0, 0, 0, 0, 0, 0, 0, 0, 0, 0, 0, 0, 0, 0, 0, 0, 0, 0, 0, 0, 0, 0, 0, 0, 0, 0, 0, 0, 0, 0, 0, 0, 0, 0, 0, 0, 0, 0, 0, 0, 0, 0, 0, 0, 0, 0, 0, 0, 0, 0, 0, 0, 0, 0, 0, 0, 0, 0, 0, 0, 0, 0, 0, 0, 0, 0, 0, 0, 0, 0, 0, 0, 0, 0, 0, 0, 0, 0, 0, 0, 0, 0, 0, 0, 0, 0, 0, 0, 0, 0, 0, 0, 0, 0, 0, 0, 0, 0, 0, 0, 0, 0, 0, 0, 0, 0, 0, 0, 0, 0, 0, 0, 0, 0, 1, 0, 0, 0, 0, 0, 0, 0, 0, 0, 0, 0, 0, 0, 0, 0, 0, 0, 0, 0, 0, 0, 0, 0, 0, 0, 0, 0, 0, 0, 0, 0, 0, 0, 0, 0, 0, 0, 0, 0, 0, 0, 0, 0, 0, 0, 0, 0, 0, 0, 0, 0, 0, 0, 0, 0, 1, 0, 0, 0, 0, 0, 0, 0, 0, 0, 0, 0, 0, 0, 0, 0, 0, 0, 0, 0, 0, 0, 0, 0, 0, 0, 0, 0, 0, 0, 0, 0, 0, 0, 0, 0, 0, 0, 0, 0, 0, 0, 0, 0, 0, 0, 0, 0, 0, 0, 0, 0, 0, 0, 0, 0, 0, 0, 0, 0, 0, 0, 0, 0, 0, 0, 0, 0, 0, 0, 0, 0, 0, 0, 0, 0, 0, 0, 0, 0, 0, 0, 0, 0, 0, 0, 0, 0, 0, 0, 0, 0, 0, 0, 0, 0, 0, 0, 0, 0, 0, 0, 0, 0, 0, 0, 0, 0, 0, 0, 0, 0, 0, 0, 0, 0, 0, 0, 0, 0, 0, 0, 0, 0, 0, 0, 0, 0, 0, 0, 0, 0, 0, 0, 0, 0, 0, 0, 0, 0, 0, 0, 0, 0, 0, 0, 0, 0, 0, 0, 0, 0, 0, 0, 0, 0, 0, 0, 0, 0, 0, 0, 0, 0, 0, 0, 0, 0, 0, 0, 0, 0, 0, 0, 0, 0, 0, 0, 0, 0, 0, 0, 0, 0, 0, 0, 0, 0, 0, 0, 0, 0, 0, 0, 0, 0, 0, 0, 0, 0, 0, 0, 0, 0, 0, 0, 0, 0, 0, 0, 0, 0, 0, 0, 0, 0, 0, 0, 0, 0, 0, 0, 0, 0, 0, 0, 0, 0, 0, 0, 0, 0, 0, 0, 0, 0, 0, 0, 0, 0, 0, 0, 0, 0, 0, 0, 0, 0, 0, 0, 0, 0, 0, 0, 0, 0, 0, 0, 0, 0, 0, 0, 0, 0, 0, 0, 0, 0, 0, 0, 0, 0, 0, 0, 0, 0, 0, 0, 0, 0, 0, 0, 0, 0, 0, 0, 0, 0, 0, 0, 0, 0, 0, 0, 0, 0, 0, 0, 0, 0, 0, 0, 0, 0, 0, 0, 0, 0, 0, 0, 0, 0, 0, 0, 0, 0, 0, 0, 0, 0, 0, 0, 0, 0, 0, 0, 0, 0, 0, 0, 0, 0, 0, 0, 0, 0, 0, 0, 0, 0, 0, 0, 0, 0, 0, 0, 0, 0, 0, 0, 0, 0, 0, 0, 0, 0, 0, 0, 0, 0, 0, 0, 0, 0, 0, 0, 0, 0, 0, 0, 0, 0, 0, 0, 0, 0, 0, 0, 0, 0, 0, 0, 0, 0, 0, 0, 0, 0, 0, 0, 0, 0, 0, 0, 0, 0, 0, 0, 0, 0, 0, 0, 0, 0, 0, 0, 0, 0, 0, 0, 0, 0, 0, 0, 0, 0, 0, 0, 0, 0, 0, 0, 0, 0, 0, 0, 0, 0, 0, 0, 0, 0, 0, 0, 0, 0, 0, 0, 0, 0, 0, 0, 0, 0, 0, 0, 0, 0, 0, 0, 0, 0, 0, 0, 0, 0, 0, 0, 0, 0, 0, 0, 0, 0, 0, 0, 0, 0, 0, 0, 0, 0, 0, 0, 0, 0, 0, 0, 0, 0, 0, 0, 0, 0, 0, 0, 0, 0, 0, 0, 0, 0, 0, 0, 0, 0, 0, 0, 0, 0, 0, 0, 0, 0, 0, 0, 0, 0, 0, 0, 0, 0, 0, 0, 0, 0, 0, 0, 0, 0, 0, 0, 0, 0, 0, 0, 0, 0, 0, 0, 0, 0, 0, 0, 0, 0, 0, 0, 0, 0, 0, 0, 0, 0, 0, 0, 0, 0, 0, 0, 0, 0, 0, 0, 0, 0, 0, 0, 0, 0, 0, 0, 0, 0, 0, 0, 0, 0, 0, 0, 0, 0, 0, 0, 0, 0, 0, 0, 0, 0, 0, 0, 0, 0, 0, 0, 0, 0, 0, 0, 0, 0, 0, 0, 0, 0, 0, 0, 0, 0, 0, 0, 0, 0, 0, 0, 0, 0, 0, 0, 0, 0, 0, 0, 0, 0, 0, 0, 0, 0, 0, 0, 0, 0, 0, 0, 0, 0, 0, 0, 0, 0, 0, 0, 0, 0, 0, 0, 0, 0, 0, 0, 0, 0, 0, 0, 0, 0, 0, 0, 0, 0, 0, 0, 0, 0, 0, 0, 0, 0, 0, 0, 0, 0, 0, 0, 0, 0, 0, 0, 0, 0, 0, 0, 0, 0, 0, 0, 0, 0, 0, 0, 1, 0, 0, 0, 0, 0, 0, 0, 0, 0, 0, 0, 0, 0, 0, 0, 0, 0, 0, 0, 0, 0, 0, 0, 0, 0, 0, 0, 0, 0, 0, 0, 0, 0, 0, 0, 0, 0, 0, 0, 0, 0, 0, 0, 0, 0, 0, 0, 0, 0, 0, 0, 0, 0, 0, 0, 0, 0, 0, 0, 0, 0, 0, 0, 0, 0, 0, 0, 0, 0, 0, 0, 0, 0, 0, 1, 0, 0, 0, 0, 0, 0, 0, 0, 0, 0, 0, 0, 0, 0, 0, 0, 0, 0, 0, 0, 1, 0, 0, 1, 0, 0, 0, 0, 0, 0, 0, 0, 0, 0, 0, 0, 0, 0, 0, 0, 0, 0, 0, 0, 0, 0, 0, 0, 0, 0, 0, 0, 0, 0, 0, 0, 0, 0, 0, 0, 0, 0, 0, 0, 0, 0, 0, 0, 0, 0, 0, 0, 0, 0, 0, 0, 0, 0, 0, 0, 0, 0, 0, 0, 0, 0, 0, 0, 0, 0, 0, 0, 0, 0, 0, 0, 0, 0, 0, 0, 0, 0, 0, 0, 0, 0, 0, 0, 0, 0, 0, 0, 0, 0, 0, 0, 0, 0, 0, 0, 0, 0, 0, 0, 0, 0, 0, 0, 0, 0, 0, 0, 0, 0, 0, 0, 0, 0, 0, 0, 0, 0, 0, 0, 0, 0, 0, 0, 0, 0, 0, 0, 0, 0, 0, 0, 0, 0, 0, 0, 0, 0, 0, 0, 0, 0, 0, 0, 0, 0, 0, 0, 0, 0, 0, 0, 0, 0, 0, 0, 0, 0, 0, 0, 0, 0, 0, 0, 0, 0, 0, 0, 0, 0, 0, 0, 0, 0, 0, 0, 0, 0, 0, 0, 0, 0, 0, 0, 0, 0, 0, 0, 0, 0, 0, 0, 0, 0, 0, 0, 0, 0, 0, 0, 0, 0, 0, 0, 0, 0, 0, 0, 0, 0, 0, 0, 0, 0, 0, 0, 0, 0, 0, 0, 0, 0, 0, 0, 0, 0, 0, 0, 0, 0, 0, 0, 0, 0, 0, 0, 0, 0, 0, 0, 0, 0, 0, 0, 0, 0, 0, 0, 0, 0, 0, 0, 0, 0, 0, 0, 0, 0, 0, 0, 0, 0, 0, 0, 0, 0, 0, 0, 0, 0, 0, 0, 0, 0, 0, 0, 0, 0, 0, 0, 0, 0, 0, 0, 0, 0, 0, 0, 0, 0, 0, 0, 0, 0, 0, 0, 0, 0, 0, 0, 0, 0, 0, 0, 0, 0, 0, 0, 0, 0, 0, 0, 0, 0, 0, 0, 0, 0, 0, 0, 0, 0, 0, 0, 0, 0, 0, 0, 0, 0, 0, 0, 0, 0, 0, 0, 0, 0, 0, 0, 0, 0, 0, 0, 0, 0, 0, 0, 0, 0, 0, 0, 0, 0, 0, 0, 0, 0, 0, 0, 0, 0, 0, 0, 0, 0, 0, 0, 0, 0, 0, 0, 0, 0, 0, 0, 0, 0, 0, 0, 0, 0, 0, 0, 0, 0, 0, 0, 0, 0, 0, 0, 0, 0, 0, 0, 0, 0, 0, 0, 0, 0, 0, 0, 0, 0, 0, 0, 0, 0, 0, 0, 0, 0, 0, 0, 0, 0, 0, 0, 0, 0, 0, 0, 0, 0, 0, 0, 0, 0, 0, 0, 0, 0, 0, 0, 0, 0, 0, 0, 0, 0, 0, 0, 0, 0, 0, 0, 0, 0, 0, 0, 0, 0, 0, 0, 0, 0, 0, 0, 0, 0, 0, 0, 0, 0, 1, 0, 0, 0, 0, 0, 0, 0, 0, 0, 0, 0, 0, 0, 0, 0, 0, 0, 0, 0, 0, 0, 0, 0, 0, 0, 0, 0, 0, 0, 0, 0, 0, 0, 0, 0, 0, 0, 0, 0, 0, 0, 0, 0, 0, 0, 0, 0, 0, 0, 0, 0, 0, 0, 0, 0, 0, 0, 0, 0, 0, 0, 0, 0, 0, 0, 0, 0, 0, 0, 0, 0, 0, 0, 0, 0, 0, 0, 0, 0, 0, 0, 0, 0, 0, 0, 0, 0, 0, 0, 0, 0, 0, 0, 0, 0, 0, 0, 0, 0, 0, 0, 0, 0, 0, 0, 0, 0, 0, 0, 0, 0, 0, 0, 0, 0, 0, 0, 0, 0, 0, 0, 0, 0, 0, 0, 0, 0, 0, 0, 0, 0, 0, 0, 0, 0, 0, 0, 0, 0, 0, 0, 0, 0, 0, 0, 0, 0, 0, 0, 0, 0, 0, 0, 0, 0, 0, 0, 0, 0, 0, 0, 0, 0, 0, 0, 0, 0, 0, 0, 0, 0, 0, 0, 0, 0, 0, 0, 0, 0, 0, 0, 0, 0, 0, 0, 0, 0, 0, 0, 0, 0, 0, 0, 0, 0, 0, 0, 0, 0, 0, 0, 0, 0, 0, 0, 0, 0, 0, 0, 0, 0, 0, 0, 0, 0, 0, 0, 0, 0, 0, 0, 0, 0, 0, 0, 0, 0, 0, 0, 0, 0, 0, 0, 0, 0, 0, 0, 0, 0, 0, 0, 0, 0, 0, 0, 0, 0, 0, 0, 0, 0, 0, 0, 0, 0, 0, 0, 0, 0, 0, 0, 0, 0, 0, 0, 0, 0, 0, 0, 0, 0, 0, 0, 0, 0, 0, 0, 0, 0, 0, 0, 0, 0, 0, 0, 0, 0, 0, 0, 0, 0, 0, 0, 0, 0, 0, 0, 0, 0, 0, 0, 0, 0, 0, 0, 0, 0, 0, 0, 0, 0, 0, 0, 0, 0, 0, 0, 0, 0, 0, 0, 0, 0, 0, 0, 0, 0, 0, 0, 0, 0, 0, 0, 0, 0, 0, 0, 0, 0, 0, 0, 0, 0, 0, 0, 0, 0, 0, 0, 0, 0, 0, 0, 0, 0, 0, 0, 0, 0, 0, 0, 0, 0, 0, 0, 0, 0, 0, 0, 0, 0, 0, 0, 0, 0, 0, 0, 0, 0, 0, 0, 0, 0, 0, 0, 0, 0, 0, 0, 0, 0, 0, 0, 0, 0, 0, 0, 0, 0, 0, 0, 0, 0, 0, 0, 0, 0, 0, 0, 0, 0, 0, 0, 0, 0, 0, 0, 0, 0, 0, 0, 0, 0, 0, 0, 0, 0, 0, 0, 0, 0, 0, 0, 0, 0, 0, 0, 0, 0, 0, 0, 0, 0, 0, 0, 0, 0, 0, 0, 0, 0, 0, 0, 0, 0, 0, 0, 0, 0, 0, 0, 0, 0, 0, 0, 0, 0, 0, 0, 0, 0, 0, 0, 0, 0, 0, 0, 0, 0, 0, 0, 0, 0, 0, 0, 0, 0, 0, 0, 0, 0, 0, 0, 0, 0, 0, 0, 0, 0, 0, 0, 0, 0, 0, 0, 0, 0, 0, 0, 0, 0, 0, 1, 0, 0, 0, 0, 0, 0, 0, 0, 0, 0, 0, 0, 0, 0, 0, 0, 0, 0, 0, 0, 0, 0, 0, 0, 0, 0, 0, 0, 0, 0, 0, 0, 0, 0, 0, 2, 0, 0, 0, 0, 0, 0, 0, 0, 0, 0, 0, 0, 0, 0, 0, 0, 0, 0, 0, 0, 0, 0, 0, 0, 0, 0, 0, 0, 0, 0, 0, 0, 0, 0, 0, 0, 0, 0, 0, 0, 1, 0, 0, 0, 0, 0, 0, 0, 0, 0, 0, 0, 0, 0, 0, 0, 0, 0, 0, 0, 0, 0, 0, 0, 0, 0, 0, 0, 0, 0, 0, 0, 0, 0, 0, 0, 0, 0, 0, 0, 0, 0, 0, 0, 0, 0, 0, 0, 0, 0, 0, 0, 0, 0, 0, 0, 0, 0, 0, 0, 0, 0, 0, 0, 0, 0, 0, 0, 0, 0, 0, 0, 0, 0, 0, 0, 0, 0, 0, 0, 0, 0, 0, 0, 0, 0, 0, 0, 0, 0, 0, 0, 0, 0, 0, 0, 0, 0, 0, 0, 0, 0, 0, 0, 0, 0, 0, 0, 0, 0, 0, 0, 0, 0, 0, 0, 0, 0, 0, 0, 0, 0, 0, 0, 0, 0, 0, 0, 0, 0, 0, 0, 0, 0, 0, 0, 0, 0, 0, 0, 0, 0, 0, 0, 0, 0, 0, 0, 0, 0, 0, 0, 0, 0, 0, 0, 0, 0, 0, 0, 0, 0, 0, 0, 0, 0, 0, 0, 0, 0, 0, 0, 0, 0, 0, 0, 0, 0, 0, 0, 0, 0, 0, 0, 0, 0, 0, 0, 0, 0, 0, 0, 0, 0, 0, 0, 0, 0, 0, 0, 0, 0, 0, 0, 0, 0, 0, 0, 0, 0, 0, 0, 0, 0, 0, 0, 0, 0, 0, 0, 0, 0, 0, 0, 0, 0, 0, 0, 0, 0, 0, 0, 0, 0, 0, 0, 0, 0, 0, 0, 0, 0, 0, 0, 0, 0, 0, 0, 0, 0, 0, 0, 0, 0, 0, 0, 0, 0, 0, 0, 0, 0, 0, 0, 0, 0, 0, 0, 0, 0, 0, 0, 0, 0, 0, 0, 0, 0, 0, 0, 0, 0, 0, 0, 0, 0, 0, 0, 0, 0, 0, 0, 0, 0, 0, 0, 0, 0, 0, 0, 0, 0, 0, 0, 0, 0, 0, 0, 0, 0, 0, 0, 0, 0, 0, 0, 0, 0, 0, 0, 0, 0, 0, 0, 0, 0, 0, 0, 0, 0, 0, 0, 0, 0, 0, 0, 0, 0, 0, 0, 0, 0, 0, 0, 0, 0, 0, 0, 0, 0, 0, 0, 0, 0, 0, 0, 0, 0, 0, 0, 0, 0, 0, 0, 0, 0, 0, 0, 0, 0, 0, 0, 0, 0, 0, 0, 0, 0, 0, 0, 0, 0, 0, 0, 0, 0, 0, 0, 0, 0, 0, 0, 0, 0, 0, 0, 0, 0, 0, 0, 0, 0, 0, 0, 0, 0, 0, 0, 0, 0, 0, 0, 0, 0, 0, 0, 0, 0, 0, 0, 0, 0, 0, 0, 0, 0, 0, 0, 0, 0, 0, 0, 0, 0, 0, 0, 0, 0, 0, 0, 0, 0, 0, 0, 0, 0, 0, 0, 0, 0, 0, 0, 0, 0, 0, 0, 0, 0, 0, 0, 0, 0, 0, 0, 0, 0, 0, 0, 0, 0, 0, 0, 0, 0, 0, 0, 0, 0, 0, 0, 0, 0, 0, 0, 0, 0, 0, 0, 0, 0, 0, 0, 0, 0, 0, 0, 0, 0, 1, 0, 0, 0, 0, 0, 0, 0, 0, 0, 0, 0, 0, 0, 0, 0, 0, 0, 0, 0, 0, 0, 0, 0, 0, 0, 0, 0, 0, 0, 0, 0, 0, 0, 0, 0, 0, 0, 0, 0, 0, 0, 0, 0, 0, 0, 0, 0, 0, 0, 0, 0, 0, 0, 0, 0, 0, 0, 0, 0, 0, 0, 0, 0, 0, 0, 0, 0, 0, 0, 0, 0, 0, 0, 0, 0, 0, 0, 0, 0, 0, 0, 0, 0, 0, 0, 0, 0, 0, 0, 0, 0, 0, 0, 0, 0, 0, 0, 0, 0, 0, 0, 0, 0, 0, 0, 0, 0, 0, 0, 0, 2, 0, 0, 0, 0, 0, 0, 0, 0, 0, 0, 0, 0, 0, 0, 0, 0, 0, 0, 0, 0, 0, 0, 0, 0, 0, 0, 0, 0, 0, 0, 0, 0, 0, 0, 0, 0, 0, 0, 0, 0, 0, 0, 0, 0, 0, 0, 0, 0, 0, 0, 0, 0, 0, 0, 0, 0, 0, 0, 0, 0, 0, 0, 0, 0, 0, 0, 0, 0, 0, 0, 0, 0, 0, 0, 0, 0, 0, 0, 0, 0, 0, 0, 0, 0, 0, 0, 0, 0, 0, 0, 0, 0, 0, 0, 0, 0, 0, 0, 0, 0, 0, 0, 0, 0, 0, 0, 0, 0, 0, 0, 0, 0, 0, 0, 0, 0, 0, 0, 0, 0, 0, 0, 0, 0, 0, 0, 0, 0, 0, 0, 0, 0, 0, 0, 0, 0, 0, 0, 0, 0, 0, 0, 0, 0, 0, 0, 0, 0, 0, 0, 0, 0, 0, 0, 0, 0, 0, 0, 0, 0, 0, 0, 0, 0, 0, 0, 0, 0, 0, 0, 0, 0, 0, 0, 0, 0, 0, 0, 0, 0, 0, 0, 0, 0, 0, 0, 0, 0, 0, 0, 0, 0, 0, 0, 0, 0, 0, 0, 0, 0, 0, 0, 0, 0, 0, 0, 0, 0, 0, 0, 0, 0, 0, 0, 0, 0, 0, 0, 0, 0, 0, 0, 0, 0, 0, 0, 0, 0, 0, 0, 0, 0, 0, 0, 0, 0, 0, 0, 0, 0, 0, 0, 0, 0, 0, 0, 0, 0, 0, 0, 0, 0, 0, 0, 0, 0, 0, 0, 0, 0, 0, 0, 0, 0, 0, 0, 0, 0, 0, 0, 0, 0, 0, 0, 0, 0, 0, 0, 0, 0, 0, 0, 0, 0, 0, 0, 0, 0, 0, 0, 0, 0, 0, 0, 0, 0, 0, 0, 0, 0, 0, 0, 0, 0, 0, 0, 0, 0, 0, 0, 0, 0, 0, 0, 0, 0, 0, 0, 0, 0, 0, 0, 0, 0, 0, 0, 0, 0, 0, 0, 0, 0, 0, 0, 0, 0, 0, 0, 0, 0, 0, 0, 0, 0, 0, 0, 0, 0, 0, 0, 0, 0, 0, 0, 0, 0, 0, 0, 0, 0, 0, 0, 0, 0, 0, 0, 0, 0, 0, 0, 0, 0, 0, 0, 0, 0, 0, 0, 0, 0, 0, 0, 0, 0, 0, 0, 0, 0, 0, 0, 0, 0, 0, 0, 0, 0, 0, 0, 0, 0, 0, 0, 0, 0, 0, 0, 0, 0, 0, 0, 0, 0, 0, 0, 0, 0, 0, 0, 0, 0, 0, 0, 0, 0, 0, 0, 0, 0, 0, 0, 0, 0, 0, 0, 0, 0, 0, 0, 0, 0, 0, 0, 0, 0, 0, 0, 0, 0, 0, 0, 0, 0, 0, 0, 0, 0, 0, 0, 0, 0, 0, 0, 0, 0, 0, 0, 0, 0, 0, 0, 0, 0, 0, 0, 0, 0, 0, 0, 0, 0, 0, 0, 0, 0, 0, 0, 0, 0, 0, 0, 0, 0, 0, 0, 0, 0, 0, 0, 0, 0, 0, 0, 0, 0, 0, 0, 0, 0, 0, 0, 0, 0, 0, 0, 0, 0, 0, 0, 0, 0, 0, 0, 0, 0, 0, 0, 0, 0, 0, 0, 0, 0, 0, 0, 0, 0, 0, 0, 0, 0, 0, 0, 0, 0, 0, 0, 0, 0, 0, 0, 0, 0, 0, 0, 0, 0, 0, 0, 0, 0, 0, 0, 0, 0, 0, 0, 0, 0, 0, 0, 0, 0, 0, 0, 0, 0, 0, 0, 0, 0, 0, 0, 0, 0, 0, 0, 0, 0, 0, 0, 0, 0, 0, 0, 0, 0, 0, 0, 0, 0, 0, 0, 0, 0, 0, 0, 0, 0, 0, 0, 0, 0, 0, 0, 0, 0, 0, 0, 0, 0, 0, 0, 0, 0, 0, 0, 0, 0, 0, 0, 0, 0, 0, 0, 0, 0, 0, 0, 0, 0, 0, 0, 0, 0, 0, 0, 0, 0, 0, 0, 0, 0, 0, 0, 0, 0, 0, 0, 0, 0, 0, 0, 0, 0, 0, 0, 0, 0, 0, 0, 0, 0, 0, 0, 0, 0, 0, 0, 0, 0, 0, 0, 0, 0, 0, 0, 0, 0, 0, 0, 1, 0, 0, 0, 0, 0, 0, 0, 0, 0, 0, 0, 0, 0, 0, 0, 0, 0, 0, 0, 0, 0, 0, 0, 0, 0, 0, 0, 0, 0, 0, 0, 0, 0, 0, 0, 0, 0, 0, 0, 0, 0, 0, 0, 0, 0, 0, 0, 0, 0, 0, 0, 0, 0, 0, 0, 0, 0, 0, 0, 0, 0, 0, 0, 0, 0, 0, 0, 0, 0, 0, 0, 0, 0, 0, 0, 0, 0, 0, 0, 0, 0, 0, 0, 0, 0, 0, 0, 0, 0, 0, 0, 0, 0, 0, 0, 0, 0, 0, 0, 0, 0, 0, 0, 0, 0, 0, 0, 1, 0, 0, 0, 0, 0, 0, 0, 0, 0, 0, 0, 0, 0, 0, 0, 0, 0, 0, 0, 0, 0, 0, 0, 0, 0, 0, 0, 0, 0, 0, 0, 0, 0, 0, 0, 0, 0, 0, 0, 0, 0, 0, 0, 0, 0, 0, 0, 0, 0, 0, 0, 0, 0, 0, 0, 0, 0, 0, 0, 0, 0, 0, 0, 0, 0, 0, 0, 0, 0, 0, 0, 0, 0, 0, 0, 0, 0, 0, 0, 0, 0, 0, 0, 0, 0, 0, 0, 0, 0, 0, 0, 0, 0, 0, 0, 0, 0, 0, 0, 0, 0, 0, 0, 0, 0, 0, 0, 0, 0, 0, 0, 0, 0, 0, 0, 0, 0, 0, 0, 0, 0, 0, 0, 0, 0, 0, 0, 0, 0, 0, 0, 0, 0, 0, 0, 0, 0, 0, 0, 0, 0, 0, 0, 0, 0, 0, 0, 0, 0, 0, 0, 0, 0, 0, 0, 0, 0, 0, 0, 0, 0, 0, 0, 0, 0, 0, 0, 0, 0, 0, 0, 0, 0, 0, 0, 0, 0, 0, 0, 0, 0, 0, 0, 0, 0, 0, 0, 0, 0, 0, 0, 0, 0, 0, 0, 0, 0, 0, 0, 0, 0, 0, 0, 0, 0, 0, 0, 0, 0, 0, 0, 0, 0, 0, 0, 0, 0, 0, 0, 0, 0, 0, 0, 0, 0, 0, 0, 0, 0, 0, 0, 0, 0, 0, 0, 0, 0, 0, 0, 0, 0, 0, 0, 0, 0, 0, 0, 0, 0, 0, 0, 0, 0, 0, 0, 0, 0, 0, 0, 0, 0, 0, 0, 0, 0, 0, 0, 0, 0, 0, 0, 0, 0, 0, 0, 0, 0, 0, 0, 0, 0, 0, 0, 0, 0, 0, 0, 0, 0, 0, 0, 0, 0, 0, 0, 0, 0, 0, 0, 0, 0, 0, 0, 0, 0, 0, 0, 0, 0, 0, 0, 0, 0, 0, 0, 0, 0, 0, 0, 0, 0, 0, 0, 0, 0, 0, 0, 0, 0, 0, 0, 0, 0, 0, 0, 0, 0, 0, 0, 0, 0, 0, 0, 0, 0, 0, 0, 0, 0, 0, 0, 0, 0, 0, 0, 0, 0, 0, 0, 0, 0, 0, 0, 0, 0, 0, 0, 0, 0, 0, 0, 0, 0, 0, 0, 0, 0, 0, 0, 0, 0, 0, 0, 0, 0, 0, 0, 0, 0, 0, 0, 0, 0, 0, 0, 0, 0, 0, 0, 0, 0, 0, 0, 0, 0, 0, 0, 0, 0, 0, 0, 0, 0, 0, 0, 0, 0, 0, 0, 0, 0, 0, 0, 0, 0, 0, 0, 0, 0, 0, 0, 0, 0, 0, 0, 0, 0, 0, 0, 0, 0, 0, 0, 0, 0, 0, 0, 0, 0, 0, 0, 0, 0, 0, 0, 0, 0, 0, 0, 0, 0, 0, 0, 2, 0, 1, 0], type: <class 'list'>, valid types: <class 'bytes'>, <class 'bytearray'>, file-like object"
     ]
    }
   ],
   "source": [
    "response = runtime.invoke_endpoint(EndpointName = xgb_predictor.endpoint, # The name of the endpoint we created\n",
    "                                       ContentType = 'text/csv',                     # The data format that is expected\n",
    "                                       Body = test_bow)"
   ]
  },
  {
   "cell_type": "markdown",
   "metadata": {},
   "source": [
    "So why did we get an error?\n",
    "\n",
    "Because we tried to send the endpoint a list of integers but it expected us to send data of type `text/csv`. So, we need to convert it."
   ]
  },
  {
   "cell_type": "code",
   "execution_count": 52,
   "metadata": {},
   "outputs": [],
   "source": [
    "response = runtime.invoke_endpoint(EndpointName = xgb_predictor.endpoint, # The name of the endpoint we created\n",
    "                                       ContentType = 'text/csv',                     # The data format that is expected\n",
    "                                       Body = ','.join([str(val) for val in test_bow]).encode('utf-8'))"
   ]
  },
  {
   "cell_type": "code",
   "execution_count": 53,
   "metadata": {},
   "outputs": [
    {
     "name": "stdout",
     "output_type": "stream",
     "text": [
      "{'ResponseMetadata': {'RequestId': '107e3d44-765f-483e-9a1b-45f570f8808d', 'HTTPStatusCode': 200, 'HTTPHeaders': {'x-amzn-requestid': '107e3d44-765f-483e-9a1b-45f570f8808d', 'x-amzn-invoked-production-variant': 'AllTraffic', 'date': 'Wed, 30 Dec 2020 05:32:32 GMT', 'content-type': 'text/csv; charset=utf-8', 'content-length': '14'}, 'RetryAttempts': 0}, 'ContentType': 'text/csv; charset=utf-8', 'InvokedProductionVariant': 'AllTraffic', 'Body': <botocore.response.StreamingBody object at 0x7fb924c8c7b8>}\n"
     ]
    }
   ],
   "source": [
    "print(response)"
   ]
  },
  {
   "cell_type": "markdown",
   "metadata": {},
   "source": [
    "As we can see, the response from our model is a somewhat complicated looking dict that contains a bunch of information. The bit that we are most interested in is `'Body'` object which is a streaming object that we need to `read` in order to make use of."
   ]
  },
  {
   "cell_type": "code",
   "execution_count": 54,
   "metadata": {},
   "outputs": [
    {
     "name": "stdout",
     "output_type": "stream",
     "text": [
      "0.349961340427\n"
     ]
    }
   ],
   "source": [
    "response = response['Body'].read().decode('utf-8')\n",
    "print(response)"
   ]
  },
  {
   "cell_type": "markdown",
   "metadata": {},
   "source": [
    "Now that we know how to process the incoming user data we can start setting up the infrastructure to make our simple web app work. To do this we will make use of two different services. Amazon's Lambda and API Gateway services.\n",
    "\n",
    "Lambda is a service which allows someone to write some relatively simple code and have it executed whenever a chosen trigger occurs. For example, you may want to update a database whenever new data is uploaded to a folder stored on S3.\n",
    "\n",
    "API Gateway is a service that allows you to create HTTP endpoints (url addresses) which are connected to other AWS services. One of the benefits to this is that you get to decide what credentials, if any, are required to access these endpoints.\n",
    "\n",
    "In our case we are going to set up an HTTP endpoint through API Gateway which is open to the public. Then, whenever anyone sends data to our public endpoint we will trigger a Lambda function which will send the input (in our case a review) to our model's endpoint and then return the result."
   ]
  },
  {
   "cell_type": "markdown",
   "metadata": {},
   "source": [
    "### Setting up a Lambda function\n",
    "\n",
    "The first thing we are going to do is set up a Lambda function. This Lambda function will be executed whenever our public API has data sent to it. When it is executed it will receive the data, perform any sort of processing that is required, send the data (the review) to the SageMaker endpoint we've created and then return the result.\n",
    "\n",
    "#### Part A: Create an IAM Role for the Lambda function\n",
    "\n",
    "Since we want the Lambda function to call a SageMaker endpoint, we need to make sure that it has permission to do so. To do this, we will construct a role that we can later give the Lambda function.\n",
    "\n",
    "Using the AWS Console, navigate to the **IAM** page and click on **Roles**. Then, click on **Create role**. Make sure that the **AWS service** is the type of trusted entity selected and choose **Lambda** as the service that will use this role, then click **Next: Permissions**.\n",
    "\n",
    "In the search box type `sagemaker` and select the check box next to the **AmazonSageMakerFullAccess** policy. Then, click on **Next: Review**.\n",
    "\n",
    "Lastly, give this role a name. Make sure you use a name that you will remember later on, for example `LambdaSageMakerRole`. Then, click on **Create role**."
   ]
  },
  {
   "cell_type": "markdown",
   "metadata": {},
   "source": [
    "#### Part B: Create a Lambda function\n",
    "\n",
    "Now it is time to actually create the Lambda function. Remember from earlier that in order to process the user provided input and send it to our endpoint we need to gather two pieces of information:\n",
    "\n",
    " - The name of the endpoint, and\n",
    " - the vocabulary object.\n",
    "\n",
    "We will copy these pieces of information to our Lambda function after we create it.\n",
    "\n",
    "To start, using the AWS Console, navigate to the AWS Lambda page and click on **Create a function**. When you get to the next page, make sure that **Author from scratch** is selected. Now, name your Lambda function, using a name that you will remember later on, for example `sentiment_analysis_xgboost_func`. Make sure that the **Python 3.6** runtime is selected and then choose the role that you created in the previous part. Then, click on **Create Function**.\n",
    "\n",
    "On the next page you will see some information about the Lambda function you've just created. If you scroll down you should see an editor in which you can write the code that will be executed when your Lambda function is triggered. Collecting the code we wrote above to process a single review and adding it to the provided example `lambda_handler` we arrive at the following.\n",
    "\n",
    "```python\n",
    "# We need to use the low-level library to interact with SageMaker since the SageMaker API\n",
    "# is not available natively through Lambda.\n",
    "import boto3\n",
    "\n",
    "# And we need the regular expression library to do some of the data processing\n",
    "import re\n",
    "\n",
    "REPLACE_NO_SPACE = re.compile(\"(\\.)|(\\;)|(\\:)|(\\!)|(\\')|(\\?)|(\\,)|(\\\")|(\\()|(\\))|(\\[)|(\\])\")\n",
    "REPLACE_WITH_SPACE = re.compile(\"(<br\\s*/><br\\s*/>)|(\\-)|(\\/)\")\n",
    "\n",
    "def review_to_words(review):\n",
    "    words = REPLACE_NO_SPACE.sub(\"\", review.lower())\n",
    "    words = REPLACE_WITH_SPACE.sub(\" \", words)\n",
    "    return words\n",
    "    \n",
    "def bow_encoding(words, vocabulary):\n",
    "    bow = [0] * len(vocabulary) # Start by setting the count for each word in the vocabulary to zero.\n",
    "    for word in words.split():  # For each word in the string\n",
    "        if word in vocabulary:  # If the word is one that occurs in the vocabulary, increase its count.\n",
    "            bow[vocabulary[word]] += 1\n",
    "    return bow\n",
    "\n",
    "\n",
    "def lambda_handler(event, context):\n",
    "    \n",
    "    vocab = \"*** ACTUAL VOCABULARY GOES HERE ***\"\n",
    "    \n",
    "    words = review_to_words(event['body'])\n",
    "    bow = bow_encoding(words, vocab)\n",
    "\n",
    "    # The SageMaker runtime is what allows us to invoke the endpoint that we've created.\n",
    "    runtime = boto3.Session().client('sagemaker-runtime')\n",
    "\n",
    "    # Now we use the SageMaker runtime to invoke our endpoint, sending the review we were given\n",
    "    response = runtime.invoke_endpoint(EndpointName = '***ENDPOINT NAME HERE***',# The name of the endpoint we created\n",
    "                                       ContentType = 'text/csv',                 # The data format that is expected\n",
    "                                       Body = ','.join([str(val) for val in bow]).encode('utf-8')) # The actual review\n",
    "\n",
    "    # The response is an HTTP response whose body contains the result of our inference\n",
    "    result = response['Body'].read().decode('utf-8')\n",
    "    \n",
    "    # Round the result so that our web app only gets '1' or '0' as a response.\n",
    "    result = round(float(result))\n",
    "\n",
    "    return {\n",
    "        'statusCode' : 200,\n",
    "        'headers' : { 'Content-Type' : 'text/plain', 'Access-Control-Allow-Origin' : '*' },\n",
    "        'body' : str(result)\n",
    "    }\n",
    "```"
   ]
  },
  {
   "cell_type": "markdown",
   "metadata": {},
   "source": [
    "Once you have copy and pasted the code above into the Lambda code editor, replace the `**ENDPOINT NAME HERE**` portion with the name of the endpoint that we deployed earlier. You can determine the name of the endpoint using the code cell below."
   ]
  },
  {
   "cell_type": "code",
   "execution_count": 55,
   "metadata": {},
   "outputs": [
    {
     "data": {
      "text/plain": [
       "'xgboost-2020-12-30-05-11-13-164'"
      ]
     },
     "execution_count": 55,
     "metadata": {},
     "output_type": "execute_result"
    }
   ],
   "source": [
    "xgb_predictor.endpoint"
   ]
  },
  {
   "cell_type": "markdown",
   "metadata": {},
   "source": [
    "In addition, you will need to copy the vocabulary dict to the appropriate place in the code at the beginning of the `lambda_handler` method. The cell below prints out the vocabulary dict in a way that is easy to copy and paste."
   ]
  },
  {
   "cell_type": "code",
   "execution_count": 56,
   "metadata": {
    "scrolled": true
   },
   "outputs": [
    {
     "name": "stdout",
     "output_type": "stream",
     "text": [
      "{'terrible': 4407, 'story': 4207, 'poor': 3328, 'acting': 99, 'and': 226, 'no': 3020, 'humour': 2194, 'at': 331, 'all': 187, 'apart': 264, 'from': 1840, 'the': 4426, 'final': 1722, 'joke': 2414, 'end': 1468, 'some': 4061, 'sort': 4077, 'of': 3083, 'ugly': 4625, 'angel': 231, 'is': 2360, 'sent': 3880, 'to': 4507, 'earth': 1403, 'save': 3794, 'boy': 557, 'his': 2118, 'being': 448, 'thrown': 4481, 'out': 3141, 'their': 4431, 'home': 2142, 'supposed': 4306, 'be': 418, 'movie': 2926, 'but': 636, 'even': 1533, 'they': 4442, 'will': 4886, 'not': 3040, 'by': 642, 'this': 4457, 'film': 1716, 'bergman': 466, 'in': 2257, 'paris': 3189, 'who': 4871, 'finds': 1728, 'herself': 2092, 'most': 2909, 'popular': 3333, 'general': 1880, 'count': 1010, 'thats': 4425, 'on': 3105, 'top': 4525, 'engaged': 1480, 'such': 4268, 'premise': 3370, 'that': 4424, 'one': 3107, 'plots': 3310, 'history': 2121, 'there': 4438, 'are': 285, 'political': 3324, 'day': 1129, 'heart': 2064, 'photographed': 3258, 'involving': 2349, 'only': 3110, 'slightly': 4029, 'more': 2904, 'yes': 4982, 'its': 2370, 'rules': 3754, 'game': 1864, 'before': 440, 'over': 3148, 'jealous': 2388, 'puts': 3481, 'an': 223, 'appearance': 274, 'as': 311, 'less': 2575, 'things': 4451, 'happen': 2026, 'little': 2624, 'too': 4522, 'thick': 4447, 'fast': 1661, 'toward': 4539, 'resulting': 3661, 'confusion': 943, 'for': 1784, 'non': 3027, 'french': 1830, 'what': 4858, 'heck': 2071, 'her': 2085, 'men': 2805, 'another': 250, 'deeply': 1156, 'masterpiece': 2759, 'anthony': 253, 'classic': 835, 'play': 3296, 'did': 1241, 'last': 2521, 'long': 2644, 'cinemas': 817, 'having': 2054, 'recently': 3567, 'suffered': 4276, 'through': 4477, 'it': 2366, 'cable': 644, 'still': 4188, 'myself': 2953, 'wasting': 4810, 'money': 2888, 'ticket': 4487, 'director': 1264, 'kenneth': 2455, 'branagh': 564, 'writer': 4968, 'star': 4150, 'producer': 3415, 'law': 2538, 'themselves': 4435, 'alone': 194, 'could': 1007, 'travesty': 4570, 'minutes': 2859, 'without': 4913, 'fun': 1848, 'or': 3124, 'class': 833, 'longer': 2645, 'original': 3129, 'michael': 2829, 'caine': 647, 'reputation': 3640, 'playing': 3300, 'second': 3846, 'lead': 2545, 'marvelous': 2750, '1972': 18, 'he': 2056, 'now': 3054, 'seems': 3864, 'intent': 2318, 'destroying': 1215, 'attempting': 342, 'played': 3297, 'version': 4720, 'olivier': 3103, 'both': 547, 'were': 4848, 'nominated': 3025, 'best': 469, 'actor': 103, 'oscars': 3134, 'lost': 2660, 'brando': 566, 'godfather': 1927, 'looking': 2648, 'part': 3193, 'with': 4911, 'depth': 1190, 'than': 4420, 'displays': 1293, 'butler': 637, 'had': 2003, 'already': 197, 'himself': 2111, 'guest': 1992, 'atrocious': 335, 'remake': 3612, 'get': 1899, 'carter': 703, 'whats': 4860, 'next': 3007, 'ii': 2226, 'son': 4070, 'man': 2721, 'would': 4957, 'king': 2479, 'then': 4436, 'inane': 2258, 'adaptation': 113, 'thinks': 4454, 'frequent': 1831, 'added': 116, 'sexual': 3908, 'angle': 236, 'can': 665, 'absence': 70, 'witty': 4917, 'character': 758, 'direction': 1261, 'relies': 3606, 'lighting': 2596, 'set': 3898, 'design': 1202, 'wouldnt': 4958, 'hold': 2129, 'up': 4683, 'rate': 3526, 'neither': 2996, 'shadows': 3913, 'nor': 3032, 'tight': 4492, 'close': 853, 'ups': 4686, 'help': 2079, 'overcome': 3151, 'dull': 1384, 'screen': 3829, 'persona': 3239, 'result': 3660, 'failure': 1629, 'straight': 4210, 'drama': 1346, 'detective': 1220, 'thriller': 4472, 'almost': 193, 'making': 2718, 'you': 4986, 'forget': 1793, 'purpose': 3474, 'behind': 447, 'title': 4504, 'fans': 1650, 'stage': 4139, 'production': 3419, 'do': 1302, 'well': 4843, 'regard': 3588, 'enterprise': 1495, 'bad': 382, 'dream': 1354, 'late': 2523, 'mr': 2929, 'wrote': 4974, 'screenplay': 3831, 'several': 3905, 'must': 2950, 'turning': 4608, 'grave': 1962, 'wishing': 4907, 'plan': 3287, 'real': 3547, 'murder': 2939, 'two': 4620, 'bound': 553, 'beautiful': 428, 'where': 4864, 'shadow': 3912, 'falls': 1640, 'down': 1335, 'cried': 1054, 'considering': 952, 'was': 4805, 'six': 4010, 'takes': 4351, 'lot': 2661, 'make': 2713, 'me': 2778, 'cry': 1073, 'dogs': 1311, 'cat': 713, 'trained': 4557, 'nice': 3008, 'family': 1645, 'completely': 922, 'people': 3221, 'animal': 239, 'soft': 4051, 'crap': 1031, 'aka': 168, 'like': 2599, 'good': 1937, 'overall': 3150, '10': 0, 'likely': 2601, 'bitter': 491, 'seriously': 3892, 'love': 2669, 'great': 1964, 'anyone': 259, 'capable': 672, 'understanding': 4645, 'johnny': 2410, 'song': 4071, 'any': 256, 'era': 1513, 'bobby': 525, 'beyond': 476, 'sea': 3838, 'stan': 4142, 'girl': 1909, 'et': 1526, 'al': 170, 'measure': 2786, 'films': 1721, 'how': 2181, 'many': 2732, 'times': 4497, 'have': 2052, 'watch': 4811, 'them': 4432, 'im': 2232, 'satisfied': 3789, 'chances': 748, 'back': 378, 'few': 1700, 'also': 199, 'between': 475, 'cast': 710, 'thought': 4462, 'worked': 4941, 'together': 4511, 'open': 3112, 'your': 4991, 'let': 2579, 'comedic': 888, 'magic': 2703, 'alan': 171, 'liked': 2600, 'found': 1811, 'when': 4862, 'made': 2697, 'references': 3583, 'new': 3003, 'york': 4985, 'red': 3576, 'nation': 2969, 'understand': 4643, 'dirty': 1268, 'say': 3799, 'recommend': 3571, 'picture': 3269, 'entire': 1502, 'course': 1019, 'typical': 4623, 'comedy': 890, 'moment': 2886, 'makes': 2716, 'slapstick': 4019, 'shows': 3960, 'moments': 2887, 'felt': 1692, 'about': 67, 'years': 4979, 'always': 203, 'season': 3843, 'human': 2188, 'go': 1924, 'hand': 2015, 'seeing': 3857, 'ive': 2372, 'cinema': 816, 'time': 4495, 'however': 2183, 'am': 204, 'able': 66, 'whether': 4866, 'because': 432, 'simple': 3983, 'simply': 3986, 'cannot': 670, 'has': 2043, 'everything': 1544, 'ever': 1538, 'romantic': 3733, 'commentary': 899, 'action': 100, 'musical': 2947, 'self': 3869, 'art': 304, 'adding': 117, 'basic': 406, 'indian': 2274, 'couple': 1016, 'kapoor': 2443, 'happily': 2030, 'living': 2629, 'canada': 666, 'rush': 3759, 'india': 2273, 'visit': 4755, 'husbands': 2205, 'parents': 3188, 'after': 143, 'disturbing': 1300, 'news': 3005, 'report': 3635, 'rest': 3657, 'place': 3282, 'find': 1726, 'plot': 3309, 'violence': 4747, 'point': 3316, 'my': 2951, 'baby': 376, 'call': 651, 'anything': 260, 'line': 2610, 'number': 3060, 'including': 2264, 'which': 4867, 'comes': 891, 'if': 2222, 'fact': 1621, 'stars': 4155, 'appear': 273, 'really': 3556, 'ends': 1474, 'yet': 4984, 'spirited': 4114, 'truly': 4597, 'unexpected': 4650, 'performance': 3228, 'work': 4940, 'she': 3923, 'does': 1308, 'job': 2405, 'link': 2613, 'twists': 4619, 'turns': 4609, 'show': 3953, 'believable': 453, 'emotion': 1458, 'notable': 3041, 'presence': 3373, 'plays': 3301, 'father': 1666, 'husband': 2204, 'every': 1539, 'scene': 3809, 'hes': 2093, 'scary': 3807, 'share': 3920, 'realism': 3549, 'abuse': 74, 'received': 3564, 'female': 1693, 'characters': 760, 'getting': 1901, 'beaten': 424, 'clearly': 840, 'ultimately': 4628, 'becomes': 434, 'surreal': 4317, 'dramatic': 1348, 'sequence': 3887, 'usually': 4700, 'followed': 1773, 'comic': 893, 'spectacular': 4101, 'effect': 1428, 'nothing': 3047, 'seen': 3865, 'bollywood': 530, 'genres': 1889, 'incredible': 2269, 'certainly': 738, 'bar': 396, 'greater': 1965, 'becoming': 435, 'ridiculous': 3693, 'tragedy': 4551, 'audience': 352, 'equally': 1510, 'entertained': 1498, 'pure': 3471, 'gratuitous': 1961, 'throwing': 4480, 'trick': 4582, 'book': 535, 'perhaps': 3235, 'important': 2247, 'message': 2819, 'inspiring': 2302, 'thoughts': 4464, 'mind': 2849, 'came': 656, 'watching': 4815, 'movies': 2927, 'world': 4946, 'wasnt': 4807, 'impressed': 2251, 'though': 4461, 'admit': 122, 'technically': 4382, 'very': 4723, 'high': 2100, 'values': 4710, 'entertainment': 1500, 'rather': 3528, 'consider': 949, 'overrated': 3156, '50s': 52, 'won': 4925, 'oscar': 3133, 'just': 2437, 'boring': 543, 'so': 4046, 'much': 2934, 'dancing': 1107, 'unlike': 4670, 'musicals': 2948, 'reasonable': 3558, 'songs': 4072, 'along': 195, 'strong': 4229, 'meet': 2793, 'st': 4137, 'louis': 2665, 'singing': 3995, 'dance': 1103, 'arent': 288, 'into': 2332, 'quickly': 3491, 'bore': 540, 'give': 1912, 'numbers': 3061, 'weak': 4824, 'doesnt': 1309, 'satisfy': 3790, 'run': 3755, 'beat': 423, 'named': 2961, 'desire': 1205, 'sun': 4292, 'matters': 2770, 'worse': 4951, 'african': 142, 'queen': 3485, 'hole': 2132, 'werent': 4849, 'category': 718, 'amazing': 209, 'writing': 4971, 'american': 213, 'hardly': 2036, 'speak': 4094, 'mostly': 2910, 'driven': 1365, 'sorry': 4076, 'may': 2775, 'been': 438, 'modern': 2882, 'interesting': 2325, 'opening': 3114, 'kills': 2474, 'sister': 4001, 'wearing': 4831, 'halloween': 2010, 'mask': 2752, 'whole': 4873, 'rip': 3700, 'off': 3084, 'see': 3855, 'killed': 2469, 'daughter': 1121, 'goes': 1930, 'downhill': 1336, 'pick': 3265, 'until': 4680, 'fifteen': 1706, 'we': 4823, 'interest': 2323, 'barely': 399, 'development': 1225, 'exceptional': 1558, 'heroine': 2091, 'isnt': 2362, 'disagree': 1269, 'everyone': 1542, 'want': 4788, 'horror': 2168, 'shining': 3933, 'those': 4460, 'ranks': 3519, 'cant': 671, 'believe': 454, 'roger': 3724, 'gave': 1875, 'four': 1812, 'way': 4820, 'deserve': 1199, 'rating': 3529, 'decent': 1147, 'business': 633, 'except': 1556, 'low': 2676, 'budget': 610, 'charisma': 762, 'sadly': 3769, 'main': 2707, 'faced': 1617, 'harris': 2038, 'cute': 1090, 'entertaining': 1499, 'written': 4972, 'smart': 4035, 'dumb': 1385, 'mistakes': 2873, 'gets': 1900, 'fred': 1825, 'stephen': 4176, 'here': 2086, 'roles': 3727, 'happens': 2029, 'these': 4441, 'priceless': 3390, 'vincent': 4746, 'local': 2634, 'mafia': 2700, 'hard': 2033, 'tell': 4395, 'working': 4944, 'tim': 4494, 'extremely': 1610, 'direct': 1258, 'video': 4733, 'comedies': 889, 'actors': 104, 'feel': 1684, 'spoof': 4127, 'parody': 3192, 'points': 3319, 'supporting': 4304, 'thugs': 4484, 'menacing': 2807, 'kinds': 2478, 'look': 2646, 'store': 4204, 'stock': 4193, 'boys': 559, 'uneven': 4649, 'other': 3135, 'works': 4945, 'zero': 4996, 'humble': 2191, 'opinion': 3118, 'improved': 2255, 'corny': 997, 'broadway': 592, 'music': 2946, 'apparently': 270, 'come': 886, 'own': 3158, 'think': 4452, 'literature': 2623, 'oliver': 3102, 'twist': 4617, 'similar': 3978, 'stories': 4205, 'favorites': 1672, 'true': 4596, 'dickens': 1240, 'often': 3095, 'leave': 2555, 'example': 1553, 'take': 4349, 'serious': 3891, 'tale': 4353, 'add': 115, 'camp': 662, 'suddenly': 4273, 'casting': 711, 'fair': 1630, 'lady': 2507, 'each': 1395, 'proud': 3444, 'sing': 3992, 'complaint': 920, 'above': 68, 'actually': 109, 'us': 4690, 'voice': 4761, 'reed': 3580, 'mistaken': 2872, 'while': 4868, 'biggest': 480, 'stated': 4161, 'why': 4878, 'putting': 3482, 'silly': 3976, 'perfectly': 3226, 'done': 1322, 'generally': 1881, 'ruins': 3752, 'worth': 4953, 'saving': 3797, 'impossible': 2249, 'audiences': 353, 'today': 4508, 'probably': 3407, 'during': 1387, 'structure': 4233, 'happy': 2032, 'hollywood': 2137, 'major': 2711, 'theatrical': 4430, 'elements': 1443, 'upon': 4684, 'depicting': 1184, 'reality': 3551, 'grim': 1974, 'light': 2595, 'nature': 2975, 'neo': 2998, 'reflect': 3584, 'darkness': 1117, 'post': 3352, 'war': 4792, 'fairly': 1631, 'issues': 2365, 'unseen': 4678, 'prior': 3400, 'conspiracy': 956, 'etc': 1527, 'aside': 315, 'shot': 3949, 'certain': 737, 'raw': 3532, 'gritty': 1977, 'location': 2635, 'uses': 4697, 'natural': 2973, 'helped': 2080, 'convey': 982, 'explored': 1595, 'following': 1774, 'theme': 4433, 'negative': 2991, 'deliberately': 1166, 'act': 97, 'leads': 2548, 'carry': 700, 'bored': 541, 'lone': 2642, 'life': 2592, 'constant': 957, 'house': 2178, 'wife': 4884, 'remain': 3609, 'lifestyle': 2593, 'represents': 3639, 'ideal': 2214, 'difference': 1246, 'shes': 3930, 'afraid': 140, 'live': 2625, 'wants': 4791, 'courage': 1018, 'free': 1827, 'perfect': 3224, 'affair': 135, 'ensues': 1493, 'left': 2561, '40s': 49, 'feeling': 1685, 'somewhat': 4068, 'mean': 2779, 'age': 148, 'never': 3001, 'showed': 3956, 'behavior': 446, 'least': 2554, 'bit': 488, 'style': 4249, 'helps': 2082, 'put': 3480, 'shown': 3959, 'depressing': 1188, 'lives': 2628, 'plague': 3285, 'return': 3665, 'atmosphere': 333, 'dark': 1115, 'expected': 1577, 'theyre': 4445, 'depressed': 1187, 'theyd': 4443, 'death': 1141, 'satisfying': 3791, 'ending': 1471, 'reasons': 3560, 'heres': 2087, 'theres': 4440, 'talk': 4358, 'evil': 1548, 'should': 3951, 'depicted': 1183, 'extent': 1605, 'necessary': 2984, 'consequences': 947, 'actions': 101, 'asks': 319, 'reveals': 3673, 'unhappy': 4656, 'ironically': 2356, 'towards': 4540, 'seem': 3861, 'depression': 1189, 'others': 3136, 'arms': 294, 'inside': 2297, 'car': 680, 'author': 359, 'happiness': 2031, 'cliff': 847, 'river': 3707, 'killing': 2472, 'police': 3322, 'intention': 2319, 'sometimes': 4067, 'try': 4600, 'justify': 2439, 'agree': 155, 'got': 1944, 'coming': 896, 'incredibly': 2270, 'selfish': 3870, 'wanting': 4790, 'instant': 2305, 'willing': 4889, 'endure': 1475, 'especially': 1520, 'clear': 839, 'first': 1736, 'sign': 3970, 'experience': 1580, 'relationship': 3597, 'handle': 2018, 'leaves': 2556, 'personality': 3242, 'seemed': 3862, 'prepared': 3371, 'brought': 600, 'pre': 3365, 'lucky': 2683, 'believed': 455, 'going': 1931, 'ready': 3546, 'difficult': 1249, 'complex': 923, 'wanted': 4789, 'whose': 4877, 'called': 652, 'sin': 3988, 'reflection': 3585, 'problems': 3409, 'acts': 107, 'future': 1856, 'pieces': 3273, 'said': 3774, 'influenced': 2287, 'movement': 2923, '2006': 36, 'period': 3236, '100': 1, 'sad': 3767, 'reviews': 3679, 'popularity': 3334, 'once': 3106, 'again': 146, 'achievement': 94, 'pulled': 3462, 'brilliant': 583, 'year': 4978, 'don': 1320, 'later': 2525, 'matter': 2769, 'finally': 1724, 'culture': 1079, 'dont': 1324, 'know': 2489, 'moving': 2928, 'away': 369, 'system': 4345, 'marriage': 2743, 'our': 3139, 'follow': 1772, 'brilliantly': 584, 'force': 1786, 'partner': 3198, 'brief': 579, 'meeting': 2794, 'decide': 1148, 'journey': 2421, 'guy': 2000, 'meets': 2795, 'seven': 3903, 'generations': 1884, 'says': 3801, 'various': 4715, 'occur': 3076, 'awesome': 371, 'believes': 456, 'tradition': 4549, 'word': 4937, 'crappy': 1032, 'forgettable': 1794, 'sean': 3840, 'vehicle': 4718, 'performances': 3229, 'solid': 4057, 'ed': 1415, 'miscast': 2862, 'absolutely': 72, 'third': 4455, 'mystery': 2956, 'contrived': 976, 'excellent': 1555, 'george': 1893, 'minor': 2857, 'role': 3726, 'highest': 2102, 'degree': 1164, 'manipulative': 2727, 'violent': 4748, 'avoid': 363, 'maria': 2736, 'care': 684, 'choices': 798, 'chooses': 800, 'maybe': 2776, 'needs': 2990, 'ones': 3108, 'mummy': 2937, 'fails': 1628, 'achieve': 92, 'sets': 3899, 'wont': 4932, 'spoil': 4121, 'independent': 2272, 'small': 4033, 'combined': 885, 'strange': 4211, 'subject': 4253, 'overlook': 3153, 'flaws': 1752, 'pacing': 3163, 'impressive': 2253, 'ellen': 1446, 'old': 3100, 'actress': 105, 'tv': 4610, 'awards': 367, 'peter': 3247, 'april': 284, '2001': 31, 'young': 4989, 'artist': 307, 'studio': 4240, 'city': 825, 'something': 4066, 'blockbuster': 509, 'glad': 1916, 'loved': 2670, 'met': 2822, 'expectations': 1576, 'went': 4847, 'humor': 2192, 'randomly': 3515, 'jim': 2402, 'carrey': 696, 'seasons': 3844, 'highly': 2105, 'engaging': 1481, 'exciting': 1563, 'combination': 883, '16': 8, 'week': 4837, 'interview': 2329, 'innovative': 2295, 'producers': 3416, 'managed': 2723, 'keep': 2449, 'relevant': 3604, 'big': 478, 'earlier': 1399, 'used': 4693, 'emphasis': 1463, 'related': 3594, 'focus': 1766, 'means': 2783, 'lying': 2690, 'trash': 4565, 'talking': 4360, 'wonder': 4926, 'repeat': 3630, 'jerry': 2396, 'episode': 1507, 'showcase': 3954, 'enough': 1491, 'pay': 3216, 'deal': 1135, 'half': 2007, 'plain': 3286, 'stupid': 4247, 'respect': 3652, 'idiots': 2220, 'integrity': 2311, 'kill': 2468, 'mother': 2911, 'donald': 1321, 'massive': 2756, 'ego': 1435, 'bigger': 479, 'pass': 3201, 'honest': 2146, 'common': 906, 'sense': 3877, 'him': 2110, 'please': 3304, 'gods': 1928, 'sake': 3775, 'air': 164, 'soon': 4074, 'possible': 3350, 'embarrassing': 1454, 'fat': 1663, 'funny': 1852, 'sweet': 4336, 'morgan': 2905, 'freeman': 1829, 'spanish': 4092, 'whilst': 4869, 'potential': 3355, 'ten': 4399, 'started': 4157, 'enjoy': 1484, 'positive': 3346, 'attitude': 346, 'change': 749, 'contain': 962, 'easy': 1410, 'smile': 4036, 'need': 2987, 'petty': 3249, 'cliché': 844, 'romance': 3732, 'includes': 2263, 'scenes': 3811, 'sides': 3967, 'laughter': 2535, 'rare': 3523, 'likes': 2602, 'naked': 2959, 'someone': 4064, 'state': 4160, 'truth': 4599, 'locked': 2637, 'mans': 2730, 'body': 527, 'nude': 3058, 'artistic': 308, 'whatsoever': 4861, 'visual': 4757, 'kicks': 2463, 'strip': 4228, 'buff': 611, 'front': 1841, 'might': 2835, 'eve': 1532, 'telling': 4396, 'oh': 3096, 'wanna': 4786, 'sensitive': 3879, 'became': 431, 'ashamed': 312, 'lack': 2502, 'education': 1424, 'saw': 3798, 'friend': 1835, 'nyc': 3065, '30': 42, 'youve': 4995, 'kidding': 2465, 'told': 4513, 'asked': 317, 'propaganda': 3435, 'children': 792, 'worst': 4952, 'frankly': 1823, 'offers': 3090, 'idiotic': 2219, 'tries': 4585, 'stick': 4185, 'dvd': 1391, 'player': 3298, 'virus': 4752, 'introduced': 2337, 'destroy': 1213, 'evening': 1534, 'ps': 3453, 'under': 4639, 'heaven': 2068, 'mgm': 2828, 'idea': 2213, 'clark': 832, 'army': 295, 'worker': 4942, 'handsome': 2021, 'cary': 706, 'grant': 1956, 'wrong': 4973, 'guess': 1989, 'pretty': 3384, 'guys': 2001, 'hot': 2174, 'realistic': 3550, 'parts': 3199, 'ago': 154, 'america': 212, 'unfortunately': 4654, 'gotten': 1947, 'instead': 2307, 'curious': 1083, 'else': 1448, 'sloppy': 4030, 'dialog': 1232, 'annoying': 249, 'slow': 4031, 'john': 2409, 'ford': 1789, 'remembered': 3617, 'filmmakers': 1720, 'name': 2960, 'associated': 327, 'western': 4853, 'genre': 1888, 'arguably': 289, 'irish': 2353, 'fight': 1707, 'early': 1400, 'tough': 4537, 'ireland': 2352, 'caught': 722, 'web': 4833, 'poverty': 3357, 'desperation': 1210, 'walls': 4783, 'closing': 859, 'tree': 4576, 'warm': 4794, 'short': 3946, 'criminal': 1057, 'centered': 733, 'pig': 3274, 'walking': 4779, 'streets': 4217, 'prime': 3395, 'desperate': 1208, 'situation': 4008, 'starts': 4159, 'taking': 4352, 'united': 4664, 'states': 4163, '20': 29, 'luck': 2681, 'town': 4541, 'price': 3389, 'head': 2057, 'blood': 512, 'earned': 1401, 'night': 3013, 'particularly': 3195, 'guilt': 1994, 'resources': 3651, 'victor': 4731, 'portrays': 3344, 'fallen': 1638, 'definitely': 1162, 'deserved': 1200, 'tender': 4401, 'arthur': 305, 'cinematic': 818, 'drunk': 1375, 'members': 2801, 'impress': 2250, 'foster': 1809, 'mainly': 2708, 'obviously': 3072, 'irritating': 2359, 'throughout': 4478, 'disappointing': 1274, 'better': 472, 'known': 2492, 'westerns': 4854, 'easily': 1406, 'beginning': 443, 'career': 686, 'wins': 4899, 'use': 4692, 'walk': 4775, 'street': 4216, 'constantly': 958, 'command': 897, 'technique': 4383, 'thus': 4486, 'considered': 951, 'noir': 3023, 'preview': 3386, 'heard': 2062, 'although': 201, 'proved': 3446, 'beer': 439, 'weve': 4856, 'british': 589, 'mark': 2739, 'words': 4938, 'far': 1653, 'bell': 458, 'concerned': 932, 'legend': 2564, 'gary': 1873, 'stretch': 4221, 'fantastic': 1651, 'dead': 1132, 'shoes': 3941, 'gives': 1914, 'touching': 4536, 'growing': 1983, 'girlfriend': 1910, 'hope': 2155, 'same': 3778, 'response': 3654, 'details': 1219, 'shop': 3945, 'nights': 3016, 'cult': 1077, 'saying': 3800, 'thinking': 4453, 'possibility': 3349, 'awful': 372, 'script': 3834, 'pointless': 3318, 'plus': 3311, 'side': 3965, 'level': 2584, 'craft': 1028, 'technical': 4381, 'crew': 1053, 'quite': 3495, 'competent': 917, 'ear': 1397, 'ben': 463, 'dorothy': 1330, 'target': 4366, 'cheap': 774, 'laughs': 2534, 'asking': 318, 'amazingly': 210, 'walter': 4784, 'matthau': 2771, 'burns': 628, 'mixture': 2878, 'flat': 1748, 'gem': 1877, 'perfection': 3225, 'superb': 4296, 'semi': 3874, 'retired': 3664, 'comedian': 887, 'exaggerated': 1552, 'form': 1798, 'characterization': 759, 'timing': 4498, 'legendary': 2565, 'nowhere': 3056, 'calm': 655, 'desert': 1198, 'dry': 1377, 'memorable': 2802, 'near': 2979, 'ask': 316, 'reaction': 3541, 'read': 3543, 'pearl': 3220, 'bucks': 606, 'splendid': 4119, 'novel': 3052, 'grade': 1951, 'enjoyed': 1486, 'thrilling': 4474, 'page': 3167, 'inevitable': 2282, 'results': 3662, 'accepted': 82, 'question': 3487, 'asian': 314, 'product': 3418, 'authentic': 358, 'executive': 1567, 'sidney': 3968, 'among': 217, 'took': 4523, 'trouble': 4592, 'stellar': 4174, 'paul': 3214, 'powers': 3361, 'nearly': 2981, 'past': 3207, 'makeup': 2717, 'mistake': 2871, 'chinese': 796, 'win': 4892, 'previous': 3387, 'rise': 3702, 'given': 1913, 'despite': 1211, 'happened': 2027, 'criticism': 1063, 'wooden': 4934, 'note': 3044, 'buck': 605, 'witnessed': 4915, 'wealth': 4826, 'flesh': 1753, 'move': 2921, 'feelings': 1686, 'mere': 2814, 'woman': 4921, 'concern': 931, 'returns': 3668, 'taken': 4350, 'realizing': 3555, 'against': 147, 'opened': 3113, 'screams': 3828, 'worn': 4948, 'surprisingly': 4316, 'three': 4469, 'thing': 4450, 'disaster': 1276, 'richard': 3686, 'brooks': 596, 'tired': 4501, 'horses': 2171, 'motion': 2913, 'needed': 2988, 'horse': 2170, 'sure': 4308, 'looked': 2647, 'phony': 3256, 'obvious': 3071, 'tracks': 4545, 'lazy': 2543, 'ok': 3098, 'joy': 2422, 'flick': 1754, 'disappointed': 1273, 'viewing': 4740, 'confused': 941, 'mario': 2738, 'lisa': 2616, 'devil': 1228, 'explains': 1589, 'ridiculously': 3694, '70s': 56, 'critical': 1062, 'success': 4265, 'gorgeous': 1942, 'gothic': 1945, 'ahead': 159, 'unusual': 4681, 'commercial': 902, 'mass': 2753, 'buy': 640, 'decided': 1149, 'seemingly': 3863, 'filmed': 1717, 'hideous': 2098, 'viewer': 4738, 'older': 3101, 'different': 1248, 'begin': 442, 'ground': 1979, 'sounds': 4084, 'suck': 4269, 'co': 867, 'subtle': 4260, 'huh': 2187, 'continues': 971, 'jumping': 2431, 'forth': 1804, 'trying': 4601, 'shock': 3938, 'keeping': 2450, 'failed': 1626, 'miserably': 2864, 'choice': 797, 'basically': 407, 'cut': 1089, 'right': 3696, 'destroyed': 1214, 'toilet': 4512, 're': 3535, 'television': 4394, 'downright': 1337, 'witness': 4914, 'favorite': 1671, 'curiosity': 1082, 'otherwise': 3137, 'frame': 1815, 'regular': 3592, 'suffer': 4275, 'around': 297, 'robert': 3713, 'baker': 385, 'therefore': 4439, 'swear': 4334, 'worthwhile': 4955, 'either': 1438, 'writers': 4969, 'directors': 1266, 'lots': 2662, 'teeth': 4393, 'errors': 1516, 'aspect': 321, 'emily': 1456, 'yourself': 4993, 'favor': 1670, 'proper': 3436, 'total': 4531, 'waste': 4808, 'trust': 4598, 'hundreds': 2196, 'slasher': 4020, 'flicks': 1755, 'lame': 2510, 'david': 1124, 'hate': 2046, 'scares': 3806, 'gore': 1941, 'watched': 4813, 'friends': 1837, 'disc': 1278, 'window': 4894, 'review': 3676, 'foot': 1781, 'tells': 4397, 'brown': 601, 'learned': 2551, 'paint': 3173, 'control': 977, 'daniel': 1111, 'lewis': 2586, 'occasionally': 3075, 'humorous': 2193, 'touch': 4533, 'brenda': 575, 'devoted': 1231, 'problem': 3408, 'turn': 4605, 'viewers': 4739, 'inspiration': 2300, 'ourselves': 3140, 'inspired': 2301, 'condition': 937, 'enjoyable': 1485, 'fan': 1648, 'animals': 240, 'spin': 4112, 'complete': 921, 'wise': 4903, 'logical': 2639, 'lovable': 2668, 'chance': 747, 'princess': 3397, 'personalities': 3241, 'dynamic': 1394, 'kids': 2467, 'disney': 1289, 'cartoons': 705, 'bud': 607, 'doubt': 1332, 'advise': 134, 'basketball': 409, 'boom': 537, 'box': 555, 'storyline': 4208, 'since': 3990, 'water': 4816, 'somewhere': 4069, 'formula': 1802, 'pop': 3330, 'credits': 1050, 'roll': 3728, 'blown': 516, 'cop': 991, 'sandra': 3782, 'awkward': 374, 'talents': 4356, 'wasted': 4809, 'underrated': 4642, 'birthday': 487, 'chris': 806, 'talent': 4354, 'anyway': 261, 'factor': 1622, 'teen': 4388, 'killers': 2471, 'ryan': 3765, 'pitt': 3280, 'chemistry': 782, 'safe': 3771, 'filmmaker': 1719, 'bottom': 551, 'rent': 3626, 'youre': 4992, 'network': 3000, 'breaks': 571, 'german': 1896, 'silent': 3975, 'sound': 4081, 'angles': 237, 'extreme': 1609, 'occasional': 3074, 'create': 1036, 'order': 3126, 'traditional': 4550, 'accept': 80, 'germans': 1897, 'mentioned': 2811, 'argue': 290, 'type': 4621, 'dreams': 1355, 'unreal': 4676, 'colors': 879, 'color': 877, 'primary': 3394, 'creating': 1039, 'contemporary': 965, 'japan': 2381, 'lights': 2597, 'appears': 278, 'appearing': 277, 'alternate': 200, 'universe': 4666, 'forward': 1808, 'genuine': 1891, 'describes': 1196, 'stunning': 4244, 'provoking': 3452, 'emotional': 1459, 'ways': 4822, 'greatest': 1966, 'samurai': 3779, 'pictures': 3270, 'comparison': 914, 'intelligent': 2314, 'committed': 905, 'celluloid': 731, 'hidden': 2096, 'ran': 3513, 'fine': 1729, 'merely': 2815, 'generous': 1886, 'reveal': 3670, 'theater': 4427, 'walked': 4776, 'lived': 2626, 'pretentious': 3383, 'painfully': 3172, 'piece': 3272, 'cheese': 780, 'woody': 4936, 'allen': 188, 'insight': 2298, 'psychological': 3458, 'damage': 1099, 'caused': 724, 'divorce': 1301, 'whatever': 4859, 'intentionally': 2320, 'relief': 3605, 'defined': 1160, 'using': 4698, 'method': 2824, 'dialogue': 1234, 'meaning': 2780, 'connection': 946, 'sympathy': 4343, 'quest': 3486, 'identity': 2217, 'backdrop': 379, 'room': 3735, 'speaks': 4096, 'affected': 137, 'language': 2516, 'struggling': 4236, 'slap': 4018, 'resolution': 3649, 'ability': 65, 'connect': 944, 'chose': 804, 'reason': 3557, 'techniques': 4384, 'remind': 3618, 'lets': 2580, 'pretend': 3381, 'gun': 1996, 'elvis': 1451, 'usual': 4699, 'middle': 2833, 'costume': 1005, 'revolution': 3680, 'attractive': 351, 'la': 2500, 'itself': 2371, 'fabulous': 1615, 'achieved': 93, 'images': 2235, 'series': 3890, '75': 57, 'dreadful': 1353, 'presents': 3377, 'visually': 4758, 'easier': 1405, 'finish': 1732, 'finger': 1731, 'button': 639, 'dig': 1250, 'id': 2212, 'watchable': 4812, 'rock': 3720, 'shame': 3918, 'controversial': 978, 'rubbish': 3748, 'eventually': 1537, 'promising': 3433, 'average': 362, 'creature': 1045, 'born': 544, 'carl': 692, 'generation': 1883, 'masters': 2761, 'miserable': 2863, 'logic': 2638, 'forgive': 1795, 'rank': 3518, 'documentary': 1307, 'produced': 3414, 'giving': 1915, 'accurate': 90, 'epic': 1506, 'depiction': 1185, 'invasion': 2340, 'views': 4742, 'conflict': 939, 'face': 1616, 'importance': 2246, 'battles': 415, 'overlooked': 3154, 'detailed': 1218, 'britain': 588, 'americas': 215, 'advantage': 129, 'length': 2569, 'worthy': 4956, 'mention': 2810, 'score': 3822, 'struggle': 4234, 'build': 614, 'climax': 849, 'serves': 3895, 'knowledge': 2491, 'hello': 2078, 'doing': 1312, 'literally': 2622, 'disgusting': 1286, 'due': 1382, 'graphic': 1958, 'hammer': 2014, 'tied': 4489, 'victim': 4729, 'chair': 742, 'lasted': 2522, 'forever': 1792, 'credit': 1049, 'uwe': 4703, 'boll': 529, 'group': 1980, 'letting': 2583, 'women': 4923, 'five': 1743, 'minute': 2858, 'higher': 2101, 'loves': 2674, 'utterly': 4702, 'charming': 768, 'waters': 4817, 'gift': 1906, 'beauty': 430, 'places': 3284, 'edward': 1426, 'grandmother': 1955, 'stole': 4194, 'hilarious': 2106, 'cameo': 657, 'reviewers': 3678, 'base': 402, 'indeed': 2271, 'pokemon': 3320, 'died': 1244, 'dare': 1113, 'sucks': 4271, 'further': 1853, 'ages': 152, 'ratings': 3530, 'shouldnt': 3952, 'vote': 4766, 'besides': 468, 'white': 4870, 'susan': 4326, 'karen': 2444, 'eat': 1411, 'candy': 668, 'fairy': 1632, 'wishes': 4906, 'mountains': 2918, 'hours': 2177, 'days': 1130, 'case': 707, 'de': 1131, 'carol': 693, 'beautifully': 429, 'crafted': 1029, '2002': 32, 'spain': 4091, 'based': 404, 'adapted': 114, 'background': 380, 'driving': 1368, 'develop': 1222, 'adult': 125, 'games': 1865, 'adults': 126, '12': 3, 'ill': 2228, 'civil': 826, 'temple': 4398, 'fighter': 1708, 'pilot': 3276, 'franco': 1820, 'rarely': 3524, 'lover': 2672, 'marry': 2745, 'married': 2744, 'cold': 872, 'remains': 3611, 'grandfather': 1954, 'events': 1536, 'feels': 1687, 'dies': 1245, 'illness': 2230, 'support': 4303, 'mothers': 2912, 'teacher': 4375, 'classes': 834, 'senseless': 3878, 'keeps': 2451, 'beloved': 461, 'learn': 2550, 'facing': 1620, 'lifetime': 2594, 'contains': 964, 'settings': 3901, 'captured': 677, 'gentle': 1890, 'cinematographer': 819, 'involved': 2346, 'stronger': 4230, 'statement': 4162, 'veteran': 4724, 'larger': 2519, 'date': 1118, 'material': 2766, 'knew': 2486, 'prequel': 3372, 'totally': 4532, 'whos': 4876, 'insult': 2309, 'crucial': 1068, 'books': 536, 'interviews': 2330, 'fictional': 1703, 'figure': 1711, 'ho': 2127, 'strangely': 4212, 'pathetic': 3210, 'eric': 1514, 'spot': 4131, 'initial': 2290, 'fall': 1637, 'purely': 3472, 'stand': 4143, 'appalling': 268, 'jay': 2386, 'suits': 4287, 'crime': 1055, 'fiction': 1702, 'attorney': 348, 'judge': 2424, 'god': 1926, 'stilted': 4190, 'incomprehensible': 2267, 'special': 4097, 'effects': 1431, 'cgi': 740, 'spent': 4108, 'contact': 961, 'user': 4696, 'personally': 3243, 'demand': 1174, 'haunted': 2050, 'mansion': 2731, 'reaching': 3539, 'poorly': 3329, 'acted': 98, 'lay': 2542, 'door': 1328, 'illogical': 2231, 'mom': 2885, 'famous': 1647, 'performers': 3232, 'centers': 734, 'communist': 907, 'dinner': 1254, 'blacks': 494, 'bed': 436, 'begins': 444, 'blind': 506, 'silence': 3974, 'carrying': 701, 'missing': 2869, 'person': 3238, 'check': 777, 'idiot': 2218, 'didnt': 1242, 'rid': 3690, 'arrested': 298, 'hour': 2176, 'obnoxious': 3067, 'segments': 3868, 'youth': 4994, 'sexuality': 3909, 'countryside': 1015, 'unique': 4662, 'copies': 992, 'erotic': 1515, 'bizarre': 492, 'tried': 4584, 'satire': 3788, 'sappy': 3784, 'list': 2617, 'appreciate': 279, 'spirit': 4113, 'clumsy': 866, 'effort': 1432, 'existence': 1571, 'particular': 3194, 'happening': 2028, 'reminds': 3620, 'kings': 2481, 'similarly': 3980, 'cause': 723, 'issue': 2364, 'wannabe': 4787, 'bus': 631, 'station': 4164, 'fill': 1714, 'urban': 4688, 'arrived': 301, 'exactly': 1551, 'accompanied': 86, 'narration': 2965, 'stop': 4201, 'footage': 1782, 'grown': 1984, 'quiet': 3492, 'pants': 3182, 'directing': 1260, 'display': 1291, 'hint': 2112, 'twenty': 4612, 'school': 3813, 'prison': 3401, 'turned': 4606, 'principal': 3398, 'rebel': 3561, 'alcoholic': 177, 'hitting': 2126, 'kid': 2464, 'numerous': 3062, 'apparent': 269, 'badly': 383, 'cartoon': 704, 'players': 3299, 'extras': 1608, 'drawing': 1350, 'unintentional': 4658, 'overacting': 3149, 'listen': 2619, 'clue': 864, 'travels': 4569, 'country': 1014, 'amateur': 206, 'ladies': 2506, 'rob': 3710, 'steal': 4170, 'college': 875, 'yeah': 4977, 'wait': 4770, 'hands': 2020, 'fate': 1665, 'dragged': 1343, 'holes': 2133, 'moves': 2925, 'scott': 3824, 'lee': 2559, 'havent': 2053, 'bo': 521, 'upset': 4687, 'luke': 2687, 'stealing': 4171, 'distant': 1295, 'forced': 1787, 'william': 4887, 'horrendous': 2162, 'accent': 78, 'hated': 2047, 'jokes': 2415, 'endearing': 1469, 'disappear': 1270, 'jessica': 2398, 'simpson': 3987, 'across': 96, 'horrible': 2163, 'boss': 546, 'starting': 4158, 'nelson': 2997, 'nuclear': 3057, 'bomb': 531, 'meant': 2784, 'coherent': 871, 'release': 3602, 'frustration': 1843, 'abysmal': 76, 'execution': 1566, 'start': 4156, 'chosen': 805, 'bunch': 623, 'folks': 1771, 'bay': 416, 'dressed': 1358, 'cats': 721, 'ie': 2221, 'warriors': 4803, 'notice': 3048, 'cheesy': 781, 'sold': 4052, 'black': 493, 'wear': 4830, 'africa': 141, 'team': 4378, 'gangster': 1868, 'shooting': 3943, 'significant': 3972, 'community': 908, 'mission': 2870, 'dude': 1381, 'west': 4852, 'neighborhood': 2993, 'hood': 2151, 'vs': 4767, 'couldve': 1009, 'weeks': 4839, 'brad': 560, 'fortune': 1806, 'pair': 3176, 'projects': 3428, 'manage': 2722, 'flow': 1762, 'market': 2740, 'manager': 2724, 'dropped': 1370, 'encounters': 1467, 'angry': 238, 'currently': 1085, 'sleeping': 4025, 'anne': 246, 'elsewhere': 1449, 'road': 3709, 'trip': 4588, 'relationships': 3598, 'vulnerable': 4768, 'pleasure': 3306, 'view': 4736, 'dentist': 1180, 'christmas': 810, 'assume': 328, 'entertain': 1497, 'moore': 2901, 'bottle': 550, 'model': 2880, 'science': 3816, 'differences': 1247, 'island': 2361, 'planet': 3289, 'robot': 3717, 'monsters': 2893, 'shakespeare': 3915, 'blows': 517, 'forbidden': 1785, 'francis': 1818, 'jack': 2373, 'kelly': 2452, 'starred': 4153, 'james': 2378, '1996': 26, 'funniest': 1851, 'punishment': 3467, 'skin': 4015, 'animated': 241, 'returning': 3667, 'cure': 1081, 'insane': 2296, 'break': 569, 'jail': 2376, 'rap': 3520, 'appealing': 272, 'hundred': 2195, 'dog': 1310, 'clever': 841, 'gerard': 1895, 'suffers': 4278, 'giant': 1905, 'cake': 648, 'attempt': 340, 'physical': 3262, 'adventures': 131, 'china': 795, 'golden': 1934, 'child': 789, 'murphy': 2944, 'tension': 4404, 'danger': 1109, 'secrets': 3852, 'drawn': 1351, 'hamlet': 2013, 'cuts': 1091, 'single': 3996, 'imdb': 2240, 'comment': 898, 'mentions': 2813, 'jewish': 2401, 'jumped': 2430, 'pointed': 3317, 'racist': 3503, 'account': 89, 'university': 4667, 'fitting': 1742, 'broad': 590, 'surface': 4310, 'portray': 3340, 'ice': 2210, 'become': 433, 'redeeming': 3577, 'unable': 4631, 'fellow': 1691, 'student': 4238, 'path': 3209, 'race': 3499, 'raped': 3522, 'immediately': 2242, 'portrayed': 3342, 'honestly': 2147, 'merit': 2816, 'vietnam': 4735, 'changed': 750, 'credibility': 1047, 'equipment': 1511, 'weapons': 4829, 'gross': 1978, 'troops': 4591, 'limited': 2606, 'south': 4087, 'value': 4709, 'makers': 2715, 'research': 3644, 'pride': 3391, 'medium': 2792, 'unfunny': 4655, 'features': 1680, 'namely': 2962, 'pal': 3177, 'glass': 1917, 'security': 3854, 'somehow': 4063, 'parallel': 3185, 'unnecessary': 4672, 'cruel': 1070, 'symbolism': 4341, 'thin': 4449, 'slowly': 4032, 'surely': 4309, 'virtually': 4751, 'calling': 653, 'hit': 2122, 'comical': 894, 'brosnan': 597, 'enjoys': 1489, 'breath': 573, 'fresh': 1833, 'realize': 3552, 'possibly': 3351, 'leading': 2547, 'unlikely': 4671, 'regret': 3591, 'deals': 1137, 'understood': 4647, 'redemption': 3578, 'stays': 4169, 'impact': 2244, 'bear': 420, 'minded': 2850, 'ridden': 3691, 'quick': 3490, 'shut': 3961, 'stinks': 4192, 'expecting': 1578, 'citizen': 824, 'kane': 2442, 'jason': 2383, 'flaw': 1749, 'julia': 2427, 'blair': 497, 'looks': 2649, 'saturday': 3792, 'afternoon': 144, 'bullets': 621, 'mighty': 2836, 'aware': 368, 'released': 3603, 'hadnt': 2004, 'hoped': 2156, 'pleasantly': 3303, 'surprised': 4313, 'explained': 1587, 'stretched': 4222, '15': 7, 'concept': 930, 'discuss': 1283, 'proceeds': 3411, 'tragic': 4552, 'notably': 3042, 'brings': 587, 'table': 4346, 'impression': 2252, 'previously': 3388, 'mitchell': 2875, 'lacking': 2504, 'existent': 1572, 'classics': 837, 'manhattan': 2726, 'annie': 247, 'hall': 2009, 'hurt': 2202, 'within': 4912, 'context': 968, 'predictable': 3367, 'okay': 3099, 'hey': 2095, 'anyways': 262, 'friday': 1834, 'gonna': 1936, 'compelling': 916, '2005': 35, 'hearted': 2065, 'professor': 3422, 'cops': 993, 'pulp': 3465, 'gruesome': 1986, 'mysterious': 2955, 'realizes': 3554, 'earl': 1398, 'corrupt': 1001, 'serial': 3889, 'killer': 2470, 'sullivan': 4288, 'discovers': 1281, 'knows': 2493, 'weapon': 4828, 'letter': 2581, 'horrific': 2166, 'phone': 3255, 'double': 1331, 'immensely': 2243, 'murderer': 2941, 'rape': 3521, 'struck': 4232, 'bargain': 400, 'psycho': 3457, 'loose': 2650, 'executed': 1565, 'chase': 769, 'villain': 4744, 'arrive': 300, 'learns': 2553, 'psychotic': 3459, 'plans': 3292, 'former': 1800, 'trial': 4580, 'inevitably': 2283, 'pain': 3170, 'brutal': 603, 'eaten': 1412, 'eating': 1413, 'survive': 4321, 'innocent': 2294, 'friendly': 1836, 'vicious': 4728, 'wonderful': 4928, 'central': 735, 'blunt': 520, 'costumes': 1006, 'thank': 4421, 'greatly': 1967, 'victoria': 4732, 'couldnt': 1008, 'paced': 3162, 'held': 2074, 'undoubtedly': 4648, 'portrayal': 3341, 'albert': 174, 'burning': 627, 'union': 4661, 'initially': 2291, 'hunting': 2201, 'demands': 1175, 'attention': 345, 'wears': 4832, 'ensemble': 1492, 'highlight': 2103, 'lacked': 2503, 'event': 1535, 'tame': 4363, 'draw': 1349, 'strength': 4219, 'prove': 3445, 'risk': 3704, 'sounding': 4083, 'awe': 370, 'position': 3345, 'mine': 2853, 'sword': 4340, 'nevertheless': 3002, 'government': 1948, 'appreciation': 281, 'prince': 3396, 'domestic': 1318, 'useless': 4695, 'suppose': 4305, 'fooled': 1780, 'names': 2963, 'burt': 629, 'woods': 4935, 'motives': 2916, 'cuba': 1075, 'jr': 2423, 'unbelievable': 4634, 'laughed': 2532, 'punch': 3466, '90': 60, 'hanging': 2023, 'andy': 230, 'pull': 3461, 'stunt': 4245, 'caliber': 649, 'youd': 4987, 'expect': 1575, 'williams': 4888, 'starring': 4154, 'suspense': 4330, 'mature': 2773, 'repeated': 3631, 'million': 2847, 'creepy': 1052, 'gone': 1935, 'according': 88, 'likable': 2598, 'outside': 3146, 'swimming': 4338, 'universal': 4665, 'began': 441, 'dropping': 1371, 'hill': 2108, 'turner': 4607, 'june': 2433, 'quality': 3484, 'power': 3359, 'office': 3091, 'wish': 4904, 'gay': 1876, 'aids': 161, 'directly': 1263, 'experienced': 1581, 'loss': 2659, 'lacks': 2505, 'grace': 1950, 'frequently': 1832, 'encounter': 1466, 'english': 1483, 'crisis': 1060, 'lovers': 2673, 'bedroom': 437, 'describe': 1194, 'skills': 4014, 'kind': 2476, 'drivel': 1364, 'lines': 2612, 'neat': 2982, 'nurse': 3063, 'subtlety': 4261, 'thoroughly': 4459, 'arrogant': 303, 'maintain': 2710, 'running': 3756, 'offer': 3087, 'opportunities': 3120, 'social': 4049, 'remarks': 3615, 'unpleasant': 4674, 'wit': 4908, 'praise': 3364, 'explore': 1594, '1980s': 21, 'complexity': 924, 'survival': 4320, 'explain': 1586, 'painful': 3171, 'decision': 1151, 'present': 3374, 'flashbacks': 1747, 'evident': 1547, 'cases': 708, 'survivor': 4324, 'mood': 2898, 'guilty': 1995, 'eye': 1611, 'include': 2261, 'band': 391, 'companion': 909, 'angels': 234, 'jeffrey': 2391, 'london': 2641, 'club': 863, 'familiar': 1643, 'green': 1971, 'unrealistic': 4677, 'embarrassment': 1455, 'write': 4967, 'mini': 2854, 'types': 4622, 'exist': 1569, 'charlie': 765, 'sounded': 4082, 'bin': 483, 'north': 3036, 'amazed': 208, 'alongside': 196, 'east': 1407, 'bang': 393, 'wood': 4933, 'kicking': 2462, 'ass': 323, 'twice': 4613, 'size': 4012, 'genuinely': 1892, 'nasty': 2968, 'hed': 2072, 'uk': 4626, 'americans': 214, 'foreign': 1790, 'nonsense': 3030, 'underground': 4640, 'smaller': 4034, 'scale': 3802, 'warning': 4800, 'spoilers': 4124, 'months': 2897, 'hints': 2113, 'party': 3200, 'ruin': 3750, 'rescue': 3643, 'jet': 2400, 'pack': 3165, 'rocket': 3721, 'faces': 1618, 'enemies': 1476, 'levels': 2585, '25': 40, 'loads': 2633, 'bonus': 534, 'multi': 2935, 'challenging': 744, 'load': 2631, 'repetitive': 3633, 'graphics': 1959, 'odd': 3080, 'drive': 1363, 'improvement': 2256, 'sarah': 3785, 'program': 3424, 'dimensional': 1253, 'stay': 4166, 'huge': 2185, 'faults': 1669, 'faster': 1662, 'jesus': 2399, 'per': 3223, 'lyrics': 2692, 'writes': 4970, 'appeal': 271, 'manages': 2725, 'till': 4493, 'trailers': 4555, 'full': 1846, 'ended': 1470, 'bring': 585, 'hollow': 2135, 'disappointment': 1275, 'contrast': 975, 'figured': 1712, 'theaters': 4428, 'terrific': 4409, 'howard': 2182, 'larry': 2520, 'directed': 1259, 'neil': 2995, 'simon': 3982, 'screenwriter': 3833, 'spooky': 4128, 'pregnant': 3369, 'stranger': 4213, 'sci': 3815, 'fi': 1701, 'trek': 4578, 'cliche': 843, 'thrills': 4475, 'conflicts': 940, 'actresses': 106, 'appeared': 276, 'computer': 927, 'generated': 1882, 'image': 2233, 'chasing': 772, 'remaining': 3610, 'survivors': 4325, 'kong': 2494, 'bullet': 620, 'animation': 242, 'classical': 836, 'charge': 761, 'spending': 4106, 'gas': 1874, 'scenery': 3810, 'visits': 4756, 'un': 4630, 'eg': 1434, 'flash': 1745, 'photography': 3260, 'wars': 4804, 'fault': 1668, 'entirely': 1503, 'sir': 4000, 'frank': 1821, 'proceedings': 3410, 'apes': 267, 'laughably': 2531, 'dated': 1119, 'male': 2719, 'spends': 4107, 'wow': 4962, 'irony': 2357, 'itll': 2369, 'educational': 1425, 'remember': 3616, 'plastic': 3294, 'youll': 4988, 'relate': 3593, '20th': 38, 'century': 736, 'space': 4090, 'exploration': 1593, 'description': 1197, 'scientist': 3818, 'investigation': 2343, 'financial': 1725, 'forces': 1788, 'melodramatic': 2798, 'fashion': 1659, 'conclusion': 936, 'mid': 2832, 'eighties': 1437, 'realized': 3553, '1990': 24, 'mediocre': 2791, 'desperately': 1209, 'large': 2517, 'mildly': 2840, 'charismatic': 763, 'tom': 4514, 'cruise': 1071, 'christopher': 811, 'reminded': 3619, 'matt': 2768, 'wild': 4885, 'weird': 4841, 'battle': 414, 'camera': 659, 'thirty': 4456, 'seconds': 3848, 'mill': 2845, '50': 51, 'chilling': 794, 'grinch': 1975, 'knowing': 2490, 'magnificent': 2705, 'ron': 3734, '13': 4, 'props': 3439, 'childhood': 790, 'lou': 2663, 'adorable': 124, 'taylor': 4372, 'attempts': 343, 'format': 1799, 'audio': 354, 'tone': 4517, 'fascinating': 1658, 'dangerous': 1110, 'feature': 1678, 'suspect': 4327, 'uncle': 4636, 'harry': 2039, 'lovely': 2671, 'secretary': 3850, 'key': 2458, 'thomas': 4458, 'sympathetic': 4342, 'cook': 988, 'jazz': 2387, 'beats': 426, 'evidence': 1546, 'spring': 4134, 'lengthy': 2570, 'follows': 1775, 'witnesses': 4916, 'da': 1094, 'latter': 2528, 'mentally': 2809, 'suspenseful': 4331, 'apartment': 265, 'noticed': 3049, 'taxi': 4371, 'ride': 3692, 'curtis': 1087, 'laurel': 2537, 'miss': 2866, 'kay': 2447, 'seeks': 3860, 'peace': 3219, 'stress': 4220, 'village': 4743, 'genius': 1887, 'specific': 4099, 'remarkable': 3613, 'buried': 624, 'revealing': 3672, 'shall': 3916, 'dramas': 1347, 'unforgettable': 4652, 'connected': 945, 'test': 4416, 'taste': 4369, 'ultra': 4629, 'hung': 2197, 'porn': 3336, 'holmes': 2139, 'tommy': 4516, 'episodes': 1508, 'introduce': 2336, 'individual': 2277, 'interested': 2324, 'summer': 4291, 'cool': 989, 'steve': 4181, 'none': 3028, 'thrill': 4471, 'eva': 1531, 'continuity': 972, 'forgotten': 1797, '24': 39, 'unless': 4669, 'sitcom': 4004, 'shirley': 3936, 'sky': 4017, 'lesbian': 2573, 'daughters': 1122, 'younger': 4990, 'brothers': 599, 'wedding': 4836, 'wed': 4835, 'conservative': 948, 'jesse': 2397, 'andrew': 228, 'norman': 3035, 'robinson': 3716, 'fears': 1677, 'fully': 1847, 'delivery': 1173, 'lesser': 2576, '1950s': 14, 'overdone': 3152, 'melodrama': 2797, 'largely': 2518, 'fail': 1625, 'approach': 282, 'surprise': 4312, 'inferior': 2285, 'send': 3875, 'bland': 500, 'fest': 1696, 'homosexual': 2145, 'protagonist': 3441, 'worthless': 4954, 'disbelief': 1277, 'screens': 3832, 'hiding': 2099, 'sharp': 3922, 'edge': 1418, 'screening': 3830, 'breaking': 570, 'ancient': 225, 'park': 3190, 'models': 2881, 'robots': 3718, 'belief': 451, 'joe': 2407, 'morris': 2908, 'convinced': 984, 'heroic': 2090, 'flies': 1756, 'plane': 3288, 'saved': 3795, 'personal': 3240, 'hero': 2088, 'operation': 3117, 'hell': 2077, 'secret': 3849, 'source': 4086, 'fbi': 1675, 'blank': 501, 'map': 2733, 'described': 1195, 'area': 286, 'clothes': 860, 'burned': 626, 'dress': 1357, 'switch': 4339, 'brain': 562, 'remotely': 3623, 'accents': 79, 'ignore': 2224, 'batman': 413, '17': 9, 'letters': 2582, 'wacky': 4769, 'priest': 3392, 'stiff': 4187, 'competition': 918, 'produce': 3413, 'rick': 3689, 'brother': 598, 'drug': 1373, 'gang': 1867, 'calls': 654, 'latest': 2526, 'theyve': 4446, 'sick': 3963, 'health': 2060, 'hasnt': 2044, 'determined': 1221, 'zombie': 4997, 'resident': 3647, 'fake': 1635, 'crying': 1074, 'guns': 1998, 'fired': 1735, 'sends': 3876, 'covered': 1023, 'zombies': 4998, 'die': 1243, 'succeeds': 4264, 'cringe': 1059, 'ties': 4490, 'humans': 2190, 'poetry': 3314, 'core': 995, 'doc': 1303, 'fly': 1763, 'danny': 1112, 'recognize': 3569, 'bourne': 554, 'damon': 1101, 'spy': 4135, 'block': 508, 'super': 4295, 'yesterday': 4983, 'recall': 3562, 'chain': 741, 'weakest': 4825, 'slight': 4027, 'escape': 1517, 'inept': 2281, 'filming': 1718, 'ordinary': 3128, 'cia': 814, 'miles': 2843, 'allowed': 190, 'nail': 2957, 'bite': 489, 'struggles': 4235, 'humanity': 2189, 'bond': 532, 'albeit': 173, 'bothered': 549, 'anywhere': 263, 'fool': 1779, 'drags': 1345, 'match': 2762, 'eyes': 1613, 'mouth': 2920, 'buddy': 609, 'countless': 1012, 'passed': 3202, 'unintentionally': 4659, 'davies': 1125, 'wealthy': 4827, 'doctors': 1305, 'kitchen': 2485, 'knife': 2487, 'misses': 2868, 'raised': 3508, 'crazy': 1035, 'whenever': 4863, 'spike': 4111, 'lees': 2560, 'admire': 121, 'denzel': 1181, 'washington': 4806, 'dvds': 1392, 'advice': 133, 'paid': 3169, 'shoot': 3942, 'media': 2789, 'hype': 2207, 'promised': 3431, 'project': 3427, 'justice': 2438, 'merits': 2817, 'clichés': 846, 'implausible': 2245, 'lousy': 2667, 'peoples': 3222, 'bank': 394, 'bother': 548, 'officer': 3092, 'led': 2558, 'allowing': 191, 'claimed': 829, 'prevent': 3385, 'reduced': 3579, 'department': 1182, 'authority': 360, 'recording': 3575, 'ex': 1549, 'suspects': 4328, 'individuals': 2278, 'elderly': 1440, 'jump': 2429, 'included': 2262, 'pretending': 3382, 'false': 1641, 'wall': 4781, 'built': 618, 'assumed': 329, 'ms': 2931, 'hopefully': 2157, 'breathtaking': 574, 'landscapes': 2514, 'developed': 1223, 'staying': 4168, 'ignorant': 2223, 'standing': 4146, 'devils': 1229, 'vampire': 4711, 'curse': 1086, 'sisters': 4002, 'aid': 160, 'involves': 2348, 'below': 462, 'staring': 4152, 'repeatedly': 3632, 'designed': 1203, 'join': 2412, 'gold': 1932, 'watches': 4814, 'month': 2896, 'scottish': 3825, 'roy': 3745, 'mary': 2751, 'passion': 3205, 'environment': 1505, 'carefully': 689, 'skill': 4013, 'sex': 3907, 'imagine': 2238, 'plight': 3308, 'flying': 1764, 'building': 615, 'ripped': 3701, 'despair': 1207, 'device': 1227, 'orders': 3127, 'service': 3896, 'decides': 1150, 'rural': 3758, 'jane': 2380, 'suffering': 4277, 'disease': 1285, 'speech': 4102, 'lose': 2654, 'cost': 1003, 'comfortable': 892, 'notion': 3050, 'finding': 1727, 'closer': 856, 'quirky': 3493, 'mainstream': 2709, 'suited': 4286, 'jones': 2418, 'richards': 3687, 'theory': 4437, 'flight': 1757, 'heavy': 2070, 'drinking': 1362, 'psychiatrist': 3455, 'keaton': 2448, 'claims': 830, 'accidentally': 85, 'escapes': 1519, 'chased': 770, 'staff': 4138, 'sexy': 3911, 'dr': 1340, 'incompetent': 2266, 'laugh': 2529, 'energy': 1478, 'sequences': 3888, 'wonders': 4931, 'odds': 3082, 'shortly': 3947, 'painted': 3174, 'shirt': 3937, 'mirror': 2861, 'snl': 4044, 'funnier': 1850, 'deep': 1154, 'comments': 901, 'actual': 108, 'editing': 1421, 'tends': 4402, 'saves': 3796, 'dedicated': 1153, 'eddie': 1416, 'picks': 3268, 'sit': 4003, 'girls': 1911, 'clothing': 861, 'questions': 3489, 'obscure': 3068, '30s': 44, 'adventure': 130, 'changes': 751, 'code': 869, 'flynn': 1765, 'scope': 3821, 'charles': 764, 'hollywoods': 2138, 'whom': 4875, 'cleverly': 842, 'touches': 4535, 'partly': 3197, 'featuring': 1681, 'sinister': 3998, 'menace': 2806, 'handed': 2016, 'blend': 504, 'gags': 1862, 'douglas': 1334, 'necessarily': 2983, 'routine': 3743, 'portion': 3338, 'stevens': 4183, 'hal': 2006, 'studios': 4241, 'shots': 3950, 'extra': 1606, 'fear': 1676, 'abandoned': 62, 'haunting': 2051, 'emotions': 1461, 'causing': 726, 'worry': 4950, 'dying': 1393, 'efforts': 1433, 'notch': 3043, 'trademark': 4548, 'standard': 4144, 'sam': 3777, 'dignity': 1252, 'absolute': 71, 'clichéd': 845, 'successfully': 4267, 'bodies': 526, 'donna': 1323, 'similarities': 3979, 'garbo': 1871, 'opera': 3116, 'split': 4120, 'sutherland': 4333, 'rendition': 3625, 'turkey': 4604, 'fantasy': 1652, 'flawed': 1750, 'tarzan': 4367, 'suggest': 4280, 'imaginative': 2237, 'qualities': 3483, 'delightful': 1168, 'jungle': 2434, 'edgar': 1417, 'creation': 1040, 'loyal': 2679, 'brave': 567, 'narrative': 2966, 'parker': 3191, 'novels': 3053, 'lively': 2627, 'remote': 3622, 'allows': 192, 'searching': 3842, 'civilization': 827, 'refuses': 3587, 'protect': 3443, 'claim': 828, 'hunt': 2198, 'agrees': 157, 'heads': 2059, 'minds': 2852, 'elephant': 1444, 'savage': 3793, 'attacked': 338, 'filled': 1715, 'wizard': 4919, 'outstanding': 3147, 'hamilton': 2012, 'harvey': 2042, 'round': 3742, 'situations': 4009, 'recommended': 3572, 'empty': 1465, 'blue': 518, 'wondering': 4930, 'floor': 1759, 'marks': 2742, 'sitting': 4007, 'advanced': 128, 'attack': 337, 'fighting': 1709, 'captain': 674, 'sub': 4252, 'par': 3184, '3d': 46, 'fell': 1690, 'asleep': 320, 'lord': 2652, 'showing': 3958, 'wives': 4918, 'empire': 1464, 'strikes': 4225, 'trilogy': 4586, 'elaborate': 1439, 'intense': 2316, 'changing': 752, 'strike': 4224, 'land': 2511, 'solo': 4058, 'losing': 2658, 'outcome': 3142, 'fetched': 1698, 'threat': 4467, 'nobody': 3022, 'grand': 1953, 'finale': 1723, 'edition': 1422, 'technology': 4385, 'tie': 4488, 'threatening': 4468, 'trap': 4563, 'replaced': 3634, 'displayed': 1292, 'racial': 3501, 'hatred': 2049, 'continue': 969, 'center': 732, 'stopped': 4202, 'disturbed': 1299, 'causes': 725, 'louise': 2666, 'adam': 111, 'adams': 112, 'embarrassed': 1453, 'nightmare': 3014, '3000': 43, 'tonight': 4519, 'kept': 2456, 'passing': 3204, 'wide': 4880, 'folk': 1770, 'mixed': 2877, 'drink': 1361, 'laws': 2540, 'methods': 2825, 'favourite': 1673, 'sudden': 4272, 'effective': 1429, 'combat': 882, 'spread': 4133, 'prefer': 3368, 'ghost': 1902, 'commit': 904, 'opens': 3115, 'rival': 3706, 'drag': 1342, 'international': 2326, 'fond': 1776, 'square': 4136, 'teens': 4392, 'amusing': 221, 'throat': 4476, 'climactic': 848, 'scooby': 3820, 'doo': 1325, 'nostalgia': 3038, 'buffs': 612, 'mindless': 2851, 'finished': 1733, 'mile': 2842, 'proves': 3447, '70': 55, 'faith': 1633, 'simplicity': 3984, 'lies': 2591, 'everyones': 1543, 'exposed': 1598, 'focuses': 1768, 'endless': 1473, 'conversation': 980, 'stops': 4203, 'express': 1600, 'reaches': 3538, 'develops': 1226, 'translation': 4562, 'conversations': 981, 'focused': 1767, 'ultimate': 4627, 'protagonists': 3442, 'stuff': 4243, 'academy': 77, 'award': 366, 'winner': 4897, 'stands': 4147, 'status': 4165, 'industry': 2280, 'wisdom': 4902, 'hippie': 2115, 'hip': 2114, 'counter': 1011, 'broke': 593, 'winning': 4898, 'styles': 4250, 'perspective': 3245, 'commercials': 903, 'wondered': 4927, 'wicked': 4879, 'superman': 4301, 'lane': 2515, 'kate': 2446, 'meanwhile': 2785, 'kevin': 2457, 'usa': 4691, 'created': 1037, 'singers': 3994, 'addition': 118, 'reporter': 3636, 'teenager': 4390, 'spite': 4117, 'forty': 1807, 'soap': 4047, 'brazil': 568, 'terror': 4412, 'military': 2844, 'russian': 3762, 'poetic': 3313, 'naive': 2958, 'soundtrack': 4085, 'avoided': 364, 'historical': 2119, 'nonetheless': 3029, 'insulting': 2310, 'missed': 2867, 'opportunity': 3121, 'dubbed': 1379, 'multiple': 2936, 'versions': 4721, 'distracting': 1297, 'sucked': 4270, 'seagal': 3839, 'castle': 712, 'uninspired': 4657, 'nudity': 3059, 'provided': 3449, 'tedious': 4387, 'locations': 2636, 'vivid': 4760, 'provide': 3448, 'amount': 219, 'chapter': 757, 'skip': 4016, 'portraying': 3343, 'students': 4239, 'ramones': 3512, 'fame': 1642, 'excuse': 1564, 'producing': 3417, 'fare': 1655, 'van': 4713, 'clint': 850, 'dick': 1239, 'miller': 2846, 'treat': 4572, 'mall': 2720, 'lucas': 2680, 'captivating': 675, 'removed': 3624, 'ralph': 3510, 'bakshi': 386, 'conceived': 929, 'shape': 3919, 'duo': 1386, 'bumbling': 622, 'heroes': 2089, 'hilariously': 2107, 'foul': 1810, 'superhero': 4299, 'nightmares': 3015, 'ought': 3138, 'pity': 3281, 'via': 4726, 'boot': 538, 'vhs': 4725, 'henry': 2084, 'circle': 821, '1960s': 15, 'barbara': 397, 'bride': 577, 'jake': 2377, 'facts': 1624, 'birth': 486, 'decisions': 1152, 'stood': 4199, 'murdered': 2940, 'powerful': 3360, 'instantly': 2306, 'sequel': 3885, 'amateurish': 207, 'bits': 490, 'lessons': 2578, 'absurd': 73, 'everybody': 1540, 'nazi': 2977, 'widely': 4881, 'throw': 4479, 'smoking': 4040, 'feet': 1688, 'naturally': 2974, 'subtitles': 4259, 'closed': 854, 'spiritual': 4116, 'aspects': 322, 'cars': 702, 'represent': 3637, 'freedom': 1828, 'vague': 4705, 'treated': 4573, 'society': 4050, 'profound': 3423, 'leader': 2546, 'transformation': 4560, 'hang': 2022, 'onto': 3111, 'activities': 102, 'amongst': 218, 'composed': 926, 'diamond': 1236, 'worlds': 4947, 'precious': 3366, 'hence': 2083, 'eerie': 1427, 'delivers': 1172, 'presented': 3376, 'content': 966, 'delivered': 1170, 'manner': 2729, 'resembles': 3646, 'adds': 119, 'terry': 4415, 'surrounding': 4319, 'helping': 2081, 'carried': 698, 'lucy': 2684, 'pulls': 3464, 'bleak': 503, 'travel': 4567, 'motivation': 2914, 'consistent': 953, 'cutting': 1092, 'enjoying': 1487, 'successful': 4266, '40': 48, 'track': 4544, 'record': 3573, 'hop': 2154, 'viewed': 4737, 'superbly': 4297, 'compared': 912, 'recent': 3566, 'everywhere': 1545, 'range': 3516, 'liners': 2611, 'wrap': 4963, 'intriguing': 2335, 'ideas': 2215, 'restaurant': 3658, 'essence': 1521, 'settle': 3902, 'argument': 291, 'exact': 1550, 'element': 1442, 'scripted': 3835, 'australia': 356, 'stolen': 4195, '60s': 54, 'broadcast': 591, 'knock': 2488, 'hitler': 2124, 'figures': 1713, 'attracted': 349, 'baseball': 403, 'dennis': 1179, 'league': 2549, 'touched': 4534, 'parent': 3187, 'dear': 1140, 'sees': 3866, 'mountain': 2917, 'estate': 1525, 'chicago': 785, 'surrounded': 4318, 'stanwyck': 4149, 'unconvincing': 4638, '1930s': 11, 'succeed': 4262, 'intentions': 2321, 'experiment': 1583, 'tiny': 4500, 'machine': 2693, 'speed': 4103, 'decade': 1144, 'unaware': 4632, 'rushed': 3760, 'tons': 4520, 'collection': 874, 'doctor': 1304, 'france': 1816, 'imagery': 2234, 'cinematography': 820, 'caring': 691, 'murderous': 2942, 'kudos': 2497, 'cage': 645, '80s': 59, 'thanks': 4423, 'crash': 1033, 'leaving': 2557, 'alas': 172, 'holding': 2130, 'bag': 384, 'fed': 1682, 'explanation': 1590, 'joined': 2413, 'smith': 4038, 'moral': 2902, 'irrelevant': 2358, 'overwhelming': 3157, 'explosions': 1597, 'fights': 1710, 'lily': 2605, 'waitress': 4773, 'fathers': 1667, 'originally': 3131, 'nowadays': 3055, '1933': 12, 'theatre': 4429, '2004': 34, 'discovered': 1280, 'jumps': 2432, 'wayne': 4821, 'mild': 2839, 'warned': 4798, 'train': 4556, 'spare': 4093, 'typically': 4624, 'carries': 699, 'guts': 1999, 'creep': 1051, 'texas': 4418, 'massacre': 2754, 'scream': 3826, 'hair': 2005, 'torture': 4529, 'intended': 2315, 'soul': 4079, 'loud': 2664, 'supposedly': 4307, 'loving': 2675, 'christ': 807, 'reference': 3582, '2003': 33, 'sons': 4073, 'distribution': 1298, 'mess': 2818, 'accomplished': 87, 'tape': 4365, 'radio': 3504, 'themes': 4434, 'succeeded': 4263, 'shell': 3927, 'definition': 1163, 'rented': 3628, 'ned': 2986, 'complicated': 925, 'australian': 357, 'appreciated': 280, 'checking': 778, 'hoping': 2160, 'stinker': 4191, 'creatures': 1046, 'alive': 186, 'current': 1084, 'fit': 1740, 'robbery': 3711, 'reading': 3544, 'stereotypical': 4180, 'random': 3514, 'synopsis': 4344, 'signs': 3973, 'monster': 2892, 'closet': 858, 'notes': 3046, 'inducing': 2279, 'awake': 365, 'waiting': 4772, 'served': 3894, 'ship': 3934, 'placed': 3283, 'matthew': 2772, 'whale': 4857, 'cup': 1080, 'tea': 4373, 'halfway': 2008, 'construction': 960, 'compare': 911, 'wouldve': 4959, 'critic': 1061, 'sleazy': 4023, 'church': 813, 'glover': 1923, 'ann': 244, 'pool': 3327, 'hooked': 2153, 'businessman': 634, 'villains': 4745, 'leo': 2571, 'scheme': 3812, 'runs': 3757, 'iii': 2227, 'shy': 3962, 'wake': 4774, 'dealing': 1136, 'brutally': 604, 'plenty': 3307, 'sport': 4129, 'cameos': 658, 'porno': 3337, 'jeremy': 2394, 'chicks': 787, 'christian': 808, '14': 6, 'proof': 3434, 'sid': 3964, 'charm': 767, 'practically': 3362, 'pace': 3161, 'setting': 3900, 'southern': 4088, 'convincing': 985, 'investigate': 2342, 'signed': 3971, 'field': 1704, 'information': 2288, 'aired': 165, '1970s': 17, 'exotic': 1574, 'holds': 2131, 'imagined': 2239, 'twins': 4616, 'sports': 4130, 'football': 1783, 'european': 1530, 'korean': 2495, 'racism': 3502, 'cultural': 1078, 'relations': 3596, 'standards': 4145, 'memory': 2804, 'task': 4368, 'laughable': 2530, 'fascinated': 1657, 'answer': 251, 'pit': 3278, 'los': 2653, 'angeles': 233, 'sight': 3969, 'physically': 3263, 'ninja': 3018, 'cardboard': 682, 'native': 2972, 'aged': 149, 'afford': 138, 'rental': 3627, 'fits': 1741, 'tortured': 4530, 'victims': 4730, 'murders': 2943, 'spell': 4104, 'resort': 3650, 'creative': 1041, 'noise': 3024, 'shake': 3914, 'normal': 3033, 'shower': 3957, 'tune': 4602, 'bugs': 613, 'food': 1778, 'voices': 4763, 'san': 3780, 'california': 650, 'boat': 523, 'beach': 419, 'ocean': 3079, 'laughing': 2533, 'criminals': 1058, 'montana': 2895, 'vegas': 4717, 'strongly': 4231, 'recorded': 3574, 'clips': 852, 'anti': 254, 'expression': 1602, 'frightening': 1839, 'offensive': 3086, 'reach': 3536, 'desired': 1206, 'sleep': 4024, 'constructed': 959, 'guard': 1988, 'hunter': 2199, 'cell': 730, 'throws': 4482, 'training': 4558, 'promise': 3430, 'dad': 1095, 'worried': 4949, 'twin': 4615, 'combine': 884, 'bears': 421, 'listening': 2620, 'attacks': 339, 'mouse': 2919, 'dollar': 1314, 'chuck': 812, 'chief': 788, 'dances': 1106, 'alex': 179, 'nicholas': 3010, 'chest': 784, 'fire': 1734, 'obsessed': 3069, 'suggests': 4282, 'sneak': 4043, 'possessed': 3347, 'mickey': 2831, 'singer': 3993, 'ghosts': 1903, 'werewolf': 4850, 'fx': 1858, 'parties': 3196, 'nostalgic': 3039, 'memories': 2803, 'elegant': 1441, 'hook': 2152, 'challenge': 743, 'destruction': 1216, 'phantom': 3251, 'toy': 4542, 'rocks': 3722, 'duke': 1383, 'anybody': 257, 'brains': 563, 'tense': 4403, 'appearances': 275, 'cover': 1022, 'catchy': 717, 'hanks': 2025, 'consists': 955, 'rubber': 3747, 'ape': 266, 'revenge': 3675, 'bill': 481, 'term': 4405, 'loosely': 2651, 'bought': 552, 'lloyd': 2630, 'tribute': 4581, 'trailer': 4554, 'midnight': 2834, 'demon': 1177, 'splatter': 4118, 'wrestling': 4966, 'dislike': 1288, 'somebody': 4062, 'ambitious': 211, 'families': 1644, 'responsible': 3656, 'countries': 1013, 'nations': 2971, 'wind': 4893, 'daily': 1097, 'eight': 1436, 'gradually': 1952, 'deeper': 1155, 'uninteresting': 4660, 'presumably': 3380, 'mentioning': 2812, 'philosophy': 3254, 'cares': 690, 'dialogs': 1233, 'extraordinary': 1607, 'extended': 1604, 'stylish': 4251, 'speaking': 4095, 'mundane': 2938, 'scared': 3805, 'italy': 2368, 'titles': 4506, 'step': 4175, 'lately': 2524, 'doubts': 1333, 'jaw': 2384, 'chick': 786, 'rated': 3527, 'ignored': 2225, 'frustrated': 1842, 'picked': 3266, 'shelf': 3926, 'channel': 753, 'treasure': 4571, 'accident': 84, 'lower': 2677, 'tear': 4379, 'patients': 3212, 'ward': 4793, 'backgrounds': 381, 'wolf': 4920, 'helen': 2075, 'falling': 1639, 'dragon': 1344, 'hunters': 2200, 'search': 3841, 'cash': 709, 'alike': 185, 'floating': 1758, 'farm': 1656, 'hits': 2125, 'progress': 3425, 'unpredictable': 4675, 'purposes': 3475, 'tony': 4521, 'edie': 1419, 'push': 3477, 'patrick': 3213, 'interpretation': 2328, 'hbo': 2055, 'mtv': 2933, 'morning': 2906, 'strictly': 4223, 'conventional': 979, '13th': 5, 'nearby': 2980, 'gory': 1943, 'cabin': 643, 'fever': 1699, 'jean': 2389, 'finest': 1730, 'hysterical': 2208, 'eccentric': 1414, 'cooper': 990, 'cross': 1066, 'cowboy': 1025, 'abraham': 69, 'lincoln': 2608, 'em': 1452, 'masses': 2755, 'politics': 3326, 'superficial': 4298, 'subsequent': 4257, 'thousand': 4465, 'appropriate': 283, 'crowd': 1067, 'darker': 1116, 'mad': 2696, 'pie': 3271, 'feed': 1683, 'capturing': 679, 'talked': 4359, 'soldier': 4053, 'perry': 3237, 'president': 3378, 'oil': 3097, 'crush': 1072, 'yellow': 4981, 'pile': 3275, 'granted': 1957, 'indie': 2276, 'site': 4005, 'johnson': 2411, 'pink': 3277, 'visible': 4753, 'explicit': 1591, 'admittedly': 123, 'terms': 4406, 'womens': 4924, 'burn': 625, 'videos': 4734, 'topic': 4526, 'messed': 2821, 'shines': 3932, '18': 10, 'campy': 664, 'faithful': 1634, 'spoken': 4126, 'confusing': 942, 'unfortunate': 4653, 'japanese': 2382, 'rising': 3703, 'boyfriend': 558, 'shed': 3924, 'kiss': 2483, 'tend': 4400, 'screaming': 3827, 'emma': 1457, 'paltrow': 3178, 'painting': 3175, 'talented': 4355, 'hear': 2061, 'funeral': 1849, 'mrs': 2930, 'bruce': 602, 'piano': 3264, 'sings': 3997, 'quotes': 3497, 'captures': 678, 'exception': 1557, 'wing': 4896, 'national': 2970, 'subplots': 4256, 'adequate': 120, 'reasonably': 3559, 'convince': 983, 'steven': 4182, 'females': 1694, 'spoiler': 4123, 'exists': 1573, 'spoke': 4125, '1st': 28, 'packed': 3166, 'substance': 4258, 'relative': 3599, 'kinda': 2477, 'astaire': 330, 'rogers': 3725, 'powell': 3358, 'ruby': 3749, 'cagney': 646, 'julie': 2428, 'andrews': 229, 'capital': 673, 'anna': 245, 'teachers': 4376, 'summary': 4290, 'millions': 2848, 'wandering': 4785, 'deaths': 1142, 'stomach': 4196, 'punk': 3468, 'rooms': 3736, 'mob': 2879, 'mental': 2808, 'gangsters': 1869, 'jeff': 2390, 'diane': 1238, 'gabriel': 1859, 'reynolds': 3684, 'billy': 482, 'sidekick': 3966, 'process': 3412, 'stone': 4197, 'hotel': 2175, 'hardy': 2037, 'expensive': 1579, 'rich': 3685, 'rolling': 3730, 'listed': 2618, 'oz': 3160, 'silver': 3977, 'suit': 4284, 'hopes': 2159, 'horrid': 2165, 'garbage': 1870, 'spend': 4105, 'superior': 4300, 'judging': 2425, 'correct': 1000, 'emotionally': 1460, 'souls': 4080, 'whereas': 4865, 'italian': 2367, 'revealed': 3671, 'aimed': 162, 'empathy': 1462, 'relation': 3595, 'incident': 2260, 'involvement': 2347, 'suicide': 4283, 'bible': 477, 'careers': 687, 'consistently': 954, 'medical': 2790, 'reactions': 3542, 'ruined': 3751, 'sink': 3999, 'broken': 594, 'paper': 3183, 'wonderfully': 4929, 'blond': 510, 'nose': 3037, 'pushed': 3478, 'bare': 398, 'vision': 4754, 'loses': 2657, 'boredom': 542, 'alright': 198, 'handled': 2019, 'weight': 4840, 'khan': 2459, 'shocked': 3939, 'talks': 4361, 'del': 1165, 'discovery': 1282, 'crimes': 1056, 'virgin': 4749, 'sacrifice': 3766, 'dating': 1120, 'walks': 4780, 'walker': 4778, 'landscape': 2513, 'inner': 2292, 'triumph': 4590, 'tremendous': 4579, 'demons': 1178, 'normally': 3034, 'holy': 2140, 'depicts': 1186, 'bringing': 586, 'performed': 3230, 'armed': 293, 'niro': 3019, 'effectively': 1430, 'exercise': 1568, 'assault': 324, 'hospital': 2172, 'outfit': 3144, 'mate': 2765, 'navy': 2976, 'master': 2757, 'row': 3744, 'hates': 2048, 'quit': 3494, 'wave': 4818, 'mechanical': 2788, 'guessed': 1990, 'offered': 3088, 'formulaic': 1803, 'unit': 4663, 'womans': 4922, 'perform': 3227, 'required': 3641, 'intelligence': 2313, 'sally': 3776, 'unwatchable': 4682, 'online': 3109, 'trite': 4589, 'detail': 1217, 'allow': 189, 'requires': 3642, 'robbins': 3712, 'abilities': 64, 'widmark': 4882, 'panic': 3181, 'visuals': 4759, 'questionable': 3488, 'masterful': 2758, 'company': 910, 'renting': 3629, 'blame': 499, 'joseph': 2419, 'gordon': 1940, 'davis': 1126, 'variety': 4714, 'trapped': 4564, 'troubles': 4594, 'schools': 3814, 'drugs': 1374, 'seat': 3845, 'lawyer': 2541, 'lynch': 2691, 'assigned': 325, 'bush': 632, 'hearing': 2063, 'shocking': 3940, 'elizabeth': 1445, 'separate': 3883, 'deliver': 1169, 'todays': 4509, 'thousands': 4466, 'established': 1524, 'equivalent': 1512, 'handful': 2017, 'imagination': 2236, 'pseudo': 3454, 'scientific': 3817, 'antics': 255, 'smooth': 4041, 'outer': 3143, 'monkey': 2890, 'rex': 3683, 'streisand': 4218, 'lonely': 2643, 'bet': 470, 'nine': 3017, 'member': 2800, 'prize': 3405, 'public': 3460, 'alice': 182, 'answers': 252, 'shallow': 3917, 'copy': 994, 'cave': 727, 'pot': 3354, 'nuts': 3064, 'agent': 150, 'anger': 235, 'possibilities': 3348, 'peters': 3248, 'sinatra': 3989, 'valuable': 4708, 'agents': 151, 'thief': 4448, 'nicholson': 3011, 'stunts': 4246, 'le': 2544, 'anime': 243, 'losers': 2656, 'aliens': 184, 'alien': 183, 'blah': 496, 'obsession': 3070, 'catch': 714, 'benefit': 465, 'hurts': 2203, 'craig': 1030, 'widow': 4883, 'buying': 641, 'critics': 1064, 'productions': 3420, 'tracy': 4546, 'warren': 4801, 'beatty': 427, 'pacino': 3164, 'madonna': 2699, 'unknown': 4668, 'colorful': 878, 'glenn': 1918, 'hoffman': 2128, 'intrigue': 2333, 'slaughter': 4021, 'fay': 1674, 'tongue': 4518, 'cheek': 779, 'understated': 4646, 'blatant': 502, 'ball': 388, 'motivations': 2915, 'kurt': 2499, 'russell': 3761, 'print': 3399, 'europe': 1529, 'annoyed': 248, '45': 50, 'briefly': 580, 'sheriff': 3929, 'theyll': 4444, 'blowing': 515, 'sellers': 3872, 'prisoner': 3402, 'fu': 1844, 'bright': 581, 'tall': 4362, 'nervous': 2999, 'wet': 4855, 'provides': 3450, 'comics': 895, 'gene': 1879, 'creators': 1044, 'fortunately': 1805, 'stayed': 4167, 'jenny': 2393, 'meaningful': 2781, 'airplane': 166, '1980': 20, 'failing': 1627, 'titanic': 4503, 'alert': 178, 'luckily': 2682, 'stupidity': 4248, 'study': 4242, 'reads': 3545, 'intrigued': 2334, 'factory': 1623, 'forest': 1791, 'holiday': 2134, 'justin': 2440, 'board': 522, 'grey': 1973, 'lab': 2501, 'exploitation': 1592, 'transition': 4561, 'liberal': 2588, '11': 2, 'scenario': 3808, 'sixties': 4011, 'roman': 3731, 'homage': 2141, 'dean': 1139, 'aunt': 355, 'diana': 1237, 'scripts': 3836, 'remarkably': 3614, 'soldiers': 4054, 'breasts': 572, 'moved': 2922, 'rights': 3697, 'purchased': 3470, 'purchase': 3469, 'waited': 4771, 'urge': 4689, 'experiences': 1582, 'enthusiasm': 1501, 'neighbors': 2994, 'thankfully': 4422, 'toys': 4543, 'everyday': 1541, 'buddies': 608, 'opposite': 3123, 'flashback': 1746, 'laid': 2508, 'leslie': 2574, 'mann': 2728, 'catherine': 719, 'taught': 4370, 'website': 4834, 'enjoyment': 1488, 'tad': 4347, 'overly': 3155, 'viewings': 4741, 'timeless': 4496, 'junk': 2436, 'anymore': 258, 'fashioned': 1660, 'alfred': 181, 'hitchcock': 2123, 'coffee': 870, 'dire': 1257, 'warn': 4797, 'hired': 2117, 'trio': 4587, 'exceptionally': 1559, 'debut': 1143, 'ring': 3698, 'mst3k': 2932, 'rat': 3525, 'enemy': 1477, 'bridge': 578, 'root': 3737, 'quote': 3496, 'freddy': 1826, 'harsh': 2040, 'excited': 1561, 'ginger': 1908, 'agreed': 156, 'lit': 2621, 'snow': 4045, 'improve': 2254, 'hardcore': 2034, 'orson': 3132, 'welles': 4844, 'magazine': 2701, 'closely': 855, 'underlying': 4641, 'returned': 3666, 'suspicious': 4332, 'featured': 1679, 'drop': 1369, 'balls': 390, 'pro': 3406, 'defend': 1158, 'festival': 1697, 'falk': 1636, 'majority': 2712, 'sorts': 4078, '80': 58, 'opinions': 3119, 'shorts': 3948, 'sophisticated': 4075, 'kick': 2460, 'seventies': 3904, 'sat': 3786, 'delivering': 1171, 'discussion': 1284, 'dubbing': 1380, 'coach': 868, 'professional': 3421, 'disneys': 1290, 'furthermore': 1854, 'goldberg': 1933, 'excessive': 1560, 'pg': 3250, 'scarecrow': 3804, 'twelve': 4611, 'killings': 2473, 'iraq': 2351, 'escaped': 1518, 'devoid': 1230, 'available': 361, 'internet': 2327, 'regarding': 3589, 'muslim': 2949, 'belongs': 460, 'presentation': 3375, 'compelled': 915, 'raise': 3507, 'helicopter': 2076, 'grab': 1949, 'gripping': 1976, 'ad': 110, 'brian': 576, 'cube': 1076, 'fatal': 1664, 'lake': 2509, 'swim': 4337, 'minimal': 2855, 'troubled': 4593, 'pamela': 3179, 'sue': 4274, 'martin': 2748, 'instance': 2304, 'react': 3540, 'surprising': 4315, 'terribly': 4408, 'costs': 1004, 'clean': 838, 'advance': 127, 'jimmy': 2403, 'stewart': 4184, 'maker': 2714, 'occasion': 3073, 'groups': 1981, 'flawless': 1751, 'lawrence': 2539, 'ah': 158, 'vampires': 4712, 'picking': 3267, 'bloody': 513, 'hide': 2097, 'virginia': 4750, 'francisco': 1819, 'mexican': 2826, 'prostitute': 3440, 'madness': 2698, 'showdown': 3955, 'rotten': 3740, 'narrator': 2967, 'edited': 1420, 'creator': 1043, 'intellectual': 2312, 'contrary': 974, 'originality': 3130, 'robin': 3715, 'owner': 3159, 'examples': 1554, 'excitement': 1562, 'useful': 4694, 'scare': 3803, '90s': 61, 'serve': 3893, 'burton': 630, 'roberts': 3714, 'secretly': 3851, 'drops': 1372, 'paying': 3217, 'tiresome': 4502, 'commented': 900, 'damn': 1100, 'rachel': 3500, 'sits': 4006, 'album': 175, 'cd': 728, 'altogether': 202, 'wes': 4851, 'craven': 1034, 'cox': 1026, 'contained': 963, 'hong': 2149, 'li': 2587, 'horribly': 2164, 'capture': 676, 'library': 2589, 'properly': 3437, 'martial': 2747, 'arts': 310, 'matrix': 2767, 'selling': 3873, 'rule': 3753, 'plausible': 3295, 'deserves': 1201, 'steals': 4172, 'recognized': 3570, 'cg': 739, 'hat': 2045, 'cared': 685, 'dealt': 1138, 'bob': 524, 'goal': 1925, 'jackie': 2374, 'chan': 746, 'drunken': 1376, 'notorious': 3051, 'maggie': 2702, 'choreography': 802, 'royal': 3746, 'planning': 3291, 'teach': 4374, 'revolves': 3682, 'fix': 1744, 'essentially': 1523, 'meat': 2787, 'advertising': 132, 'official': 3094, 'defense': 1159, 'utter': 4701, 'iron': 2354, 'celebrity': 729, 'ease': 1404, 'tears': 4380, '60': 53, 'ears': 1402, 'morality': 2903, 'smoke': 4039, 'roots': 3738, 'colour': 880, 'teenagers': 4391, 'fox': 1814, 'blow': 514, 'population': 3335, 'boxing': 556, 'glimpse': 1919, 'terrifying': 4410, 'endings': 1472, 'masterpieces': 2760, 'titled': 4505, 'reunion': 3669, '2007': 37, 'thrillers': 4473, 'cameras': 660, 'mexico': 2827, 'corruption': 1002, 'interaction': 2322, 'occurs': 3078, 'warmth': 4796, 'wholly': 4874, 'testament': 4417, '1940s': 13, 'vast': 4716, 'enters': 1496, 'welcome': 4842, 'ruthless': 3764, 'pat': 3208, 'sincere': 3991, 'warner': 4799, 'fancy': 1649, 'nicely': 3009, 'passes': 3203, 'popcorn': 3331, 'stuck': 4237, 'buildings': 616, 'sequels': 3886, 'brand': 565, 'dracula': 1341, 'banned': 395, 'simplistic': 3985, 'photo': 3257, 'potentially': 3356, 'mysteries': 2954, 'cynical': 1093, 'hearts': 2066, 'moronic': 2907, 'glorious': 1921, 'trashy': 4566, 'beast': 422, 'weekend': 4838, 'believing': 457, 'afterwards': 145, 'freak': 1824, 'receives': 3565, 'performs': 3234, 'macy': 2695, 'jonathan': 2417, 'polanski': 3321, 'spielberg': 4110, 'revolutionary': 3681, 'dinosaur': 1255, 'tiger': 4491, 'guessing': 1991, 'dozens': 1339, 'goodness': 1938, 'rough': 3741, 'pleasant': 3302, 'specifically': 4100, 'introduction': 2339, 'whoever': 4872, 'versus': 4722, 'daring': 1114, 'rose': 3739, 'incoherent': 2265, 'developing': 1224, 'goofy': 1939, 'regardless': 3590, 'cards': 683, 'aint': 163, 'concerning': 933, 'spoiled': 4122, 'smiling': 4037, 'inappropriate': 2259, 'uncomfortable': 4637, 'mike': 2838, 'myers': 2952, 'childrens': 793, 'stale': 4141, 'performer': 3231, 'walken': 4777, 'max': 2774, 'doll': 1313, 'blonde': 511, 'marketing': 2741, 'providing': 3451, 'babe': 375, 'intimate': 2331, 'convoluted': 987, 'dancer': 1104, 'shark': 3921, 'patient': 3211, 'lol': 2640, 'eyed': 1612, 'torn': 4528, 'inventive': 2341, 'clip': 851, 'dave': 1123, 'beneath': 464, 'ray': 3533, 'homeless': 2143, 'lie': 2590, 'photographer': 3259, 'timothy': 4499, 'wells': 4845, 'primarily': 3393, 'digital': 1251, 'considerable': 950, 'distance': 1294, 'dozen': 1338, 'machines': 2694, 'text': 4419, 'household': 2179, 'secondly': 3847, 'tooth': 4524, 'crude': 1069, 'string': 4227, 'gotta': 1946, 'stanley': 4148, 'jon': 2416, 'voight': 4764, 'cousin': 1021, 'needless': 2989, 'georges': 1894, 'cities': 823, 'grew': 1972, 'blob': 507, 'attached': 336, 'arm': 292, 'chess': 783, 'aforementioned': 139, 'ballet': 389, 'ian': 2209, 'rings': 3699, 'bull': 619, 'involve': 2345, 'paranoia': 3186, 'recognition': 3568, 'polished': 3323, 'scientists': 3819, 'global': 1920, 'warming': 4795, 'workers': 4943, 'expert': 1585, 'analysis': 224, 'journalist': 2420, 'forgot': 1796, 'twilight': 4614, 'zone': 4999, 'domino': 1319, 'crack': 1027, 'matched': 2763, 'blake': 498, 'wilson': 4891, 'wound': 4960, 'dollars': 1315, 'vacation': 4704, 'assistant': 326, 'pulling': 3463, 'horrifying': 2167, 'unsettling': 4679, 'anderson': 227, 'england': 1482, 'drew': 1360, 'holly': 2136, 'accused': 91, 'minimum': 2856, 'reviewer': 3677, 'sell': 3871, 'valley': 4707, 'suggested': 4281, 'reminiscent': 3621, 'futuristic': 1857, 'slave': 4022, 'ships': 3935, 'bird': 484, 'catches': 715, 'twisted': 4618, 'der': 1191, 'discover': 1279, 'honesty': 2148, 'threw': 4470, 'sunday': 4293, 'jerk': 2395, 'harder': 2035, 'berlin': 467, 'firstly': 1737, 'basement': 405, 'riveting': 3708, 'dialogues': 1235, 'terrorist': 4413, 'destiny': 1212, 'persons': 3244, 'arrives': 302, 'germany': 1898, 'slick': 4026, 'chaplin': 756, 'chases': 771, 'restored': 3659, 'grow': 1982, 'alcohol': 176, 'poignant': 3315, 'credible': 1048, 'attraction': 350, 'innocence': 2293, 'laura': 2536, 'vaguely': 4706, 'waves': 4819, 'gag': 1861, 'stereotypes': 4179, 'bette': 471, 'retarded': 3663, 'trade': 4547, 'directions': 1262, 'sum': 4289, 'portrait': 3339, 'philosophical': 3253, 'section': 3853, 'tour': 4538, 'winter': 4900, 'witch': 4909, 'documentaries': 1306, 'akshay': 169, 'increasingly': 2268, '2nd': 41, 'bath': 411, 'daddy': 1096, 'highlights': 2104, 'pleased': 3305, 'noble': 3021, 'sheer': 3925, 'doomed': 1327, 'court': 1020, 'private': 3404, 'channels': 754, 'cole': 873, 'gain': 1863, 'derek': 1192, 'legal': 2563, 'abusive': 75, 'heat': 2067, 'areas': 287, 'lion': 2614, 'suffice': 4279, 'brady': 561, 'winters': 4901, 'opposed': 3122, 'kirk': 2482, 'landing': 2512, 'saga': 3773, 'sentimental': 3882, 'identify': 2216, 'explaining': 1588, 'dreary': 1356, 'meaningless': 2782, 'dub': 1378, 'complain': 919, 'covers': 1024, 'rain': 3506, 'farce': 1654, 'kung': 2498, 'greek': 1970, 'amounts': 220, 'wore': 4939, 'solution': 4059, 'photos': 3261, 'jennifer': 2392, 'solve': 4060, 'messages': 2820, 'angela': 232, 'religious': 3608, 'wreck': 4965, 'aging': 153, 'defeat': 1157, 'ingredients': 2289, '1999': 27, 'beings': 449, 'magical': 2704, 'fourth': 1813, 'engage': 1479, 'grasp': 1960, 'dan': 1102, 'metal': 2823, 'spirits': 4115, 'directorial': 1265, 'grows': 1985, 'continued': 970, 'concert': 935, 'winds': 4895, 'expressed': 1601, 'object': 3066, 'rabbit': 3498, 'convincingly': 986, 'suitable': 4285, 'ha': 2002, 'sandler': 3781, 'passionate': 3206, 'artists': 309, 'upper': 4685, 'sunshine': 4294, 'intensity': 2317, 'guide': 1993, 'marie': 2737, 'mix': 2876, '35': 45, 'refreshing': 3586, 'host': 2173, 'tunes': 4603, 'shelley': 3928, 'hudson': 2184, 'bathroom': 412, 'eastwood': 1409, 'pursuit': 3476, 'enter': 1494, 'atmospheric': 334, 'storytelling': 4209, 'fulci': 1845, 'junior': 2435, 'nancy': 2964, 'doors': 1329, 'isolated': 2363, 'bela': 450, 'chorus': 803, 'trail': 4553, 'honor': 2150, 'balance': 387, 'striking': 4226, 'purple': 3473, 'borrowed': 545, 'franchise': 1817, 'truck': 4595, 'someones': 4065, 'voiced': 4762, 'explosion': 1596, 'influence': 2286, 'surprises': 4314, 'birds': 485, 'frankenstein': 1822, 'invisible': 2344, 'karloff': 2445, 'lugosi': 2686, 'shine': 3931, 'surviving': 4323, 'border': 539, 'lesson': 2577, 'rocky': 3723, 'imitation': 2241, 'ludicrous': 2685, 'rolled': 3729, 'oddly': 3081, 'draws': 1352, 'blues': 519, 'poster': 3353, 'hire': 2116, 'hugh': 2186, 'thumbs': 4485, 'mars': 2746, 'judy': 2426, 'butt': 638, 'teenage': 4389, 'heston': 2094, 'linda': 2609, 'artificial': 306, 'species': 4098, 'performing': 3233, 'experiments': 1584, 'clown': 862, 'corner': 996, 'circumstances': 822, 'sadness': 3770, 'icon': 2211, 'contest': 967, 'supernatural': 4302, 'jobs': 2406, 'offering': 3089, 'loser': 2655, 'catching': 716, 'resist': 3648, 'ashley': 313, 'drives': 1367, 'con': 928, 'staged': 4140, 'territory': 4411, 'disappoint': 1272, 'joan': 2404, 'sticks': 4186, 'equal': 1509, 'matches': 2764, 'omen': 3104, 'moody': 2899, 'spider': 4109, 'jaws': 2385, 'gadget': 1860, 'cameron': 661, 'brilliance': 582, 'steps': 4177, 'creates': 1038, 'lumet': 2688, 'amitabh': 216, 'moon': 2900, 'creativity': 1042, 'danes': 1108, 'friendship': 1838, 'limits': 2607, 'kim': 2475, 'tales': 4357, 'miike': 2837, 'steel': 4173, 'hills': 2109, 'swedish': 4335, 'officers': 3093, 'deadly': 1133, 'pan': 3180, 'learning': 2552, 'florida': 1761, 'lips': 2615, 'press': 3379, 'rats': 3531, 'houses': 2180, 'jackson': 2375, 'ya': 4976, 'jamie': 2379, '2000': 30, 'shoots': 3944, 'pet': 3246, 'belong': 459, 'choose': 799, 'offended': 3085, 'canadian': 667, 'hopeless': 2158, 'lust': 2689, 'raymond': 3534, 'acid': 95, 'bands': 392, 'decades': 1145, 'nazis': 2978, 'greed': 1968, 'greedy': 1969, 'concerns': 934, 'introduces': 2338, 'represented': 3638, 'safety': 3772, 'stereotype': 4178, 'liking': 2604, 'claire': 831, 'streep': 4215, 'expressions': 1603, 'suspend': 4329, 'religion': 3607, 'beating': 425, 'iran': 2350, 'attend': 344, 'soccer': 4048, 'dressing': 1359, 'satan': 3787, 'sole': 4055, 'inspector': 2299, 'serving': 3897, 'nick': 3012, 'garden': 1872, 'mel': 2796, 'treats': 4575, 'sexually': 3910, 'loaded': 2632, 'guarantee': 1987, 'indians': 2275, 'descent': 1193, 'realise': 3548, 'kicked': 2461, 'simmons': 3981, 'receive': 3563, 'fish': 1738, 'pages': 3168, 'lowest': 2678, 'attempted': 341, 'unbearable': 4633, 'horrors': 2169, 'property': 3438, 'carradine': 695, 'wwii': 4975, 'miracle': 2860, 'closest': 857, 'reached': 3537, 'kubrick': 2496, 'choreographed': 801, 'spots': 4132, 'tag': 4348, 'chaos': 755, 'joey': 2408, 'championship': 745, 'kennedy': 2454, 'legs': 2566, 'surfing': 4311, 'segment': 3867, 'treatment': 4574, 'traveling': 4568, 'bone': 533, 'molly': 2884, 'comparing': 913, 'definite': 1161, 'cinderella': 815, 'solely': 4056, 'beliefs': 452, 'pushing': 3479, 'attitudes': 347, 'unfolds': 4651, 'flop': 1760, 'riding': 3695, 'driver': 1366, 'disappeared': 1271, 'careful': 688, 'planned': 3290, 'relatively': 3600, 'severe': 3906, 'confidence': 938, 'progresses': 3426, 'newly': 3004, 'christians': 809, 'kidnapped': 2466, 'vice': 4727, 'cheated': 775, 'topless': 4527, 'feminist': 1695, 'dancers': 1105, 'santa': 3783, 'card': 681, 'childish': 791, 'richardson': 3688, 'dolph': 1317, 'nonsensical': 3031, 'slightest': 4028, 'enormous': 1490, 'thoughtful': 4463, 'delight': 1167, 'dawson': 1128, 'ruth': 3763, 'behave': 445, 'plant': 3293, 'infamous': 2284, 'eastern': 1408, 'gray': 1963, 'dust': 1388, 'seeking': 3859, 'michelle': 2830, 'awfully': 373, 'pays': 3218, 'elm': 1447, 'arnold': 296, 'terrorists': 4414, 'neighbor': 2992, 'relatives': 3601, 'thru': 4483, 'von': 4765, 'dinosaurs': 1256, 'seek': 3858, 'facial': 1619, 'transfer': 4559, 'unbelievably': 4635, 'ethan': 1528, 'outrageous': 3145, 'occurred': 3077, 'wallace': 4782, 'rangers': 3517, 'headed': 2058, 'wrapped': 4964, 'historically': 2120, 'corpse': 999, 'abc': 63, 'subplot': 4255, 'corporate': 998, 'catholic': 720, 'understandable': 4644, 'duty': 1390, 'busy': 635, 'pops': 3332, 'newspaper': 3006, 'misery': 2865, 'essential': 1522, 'rambo': 3511, 'glory': 1922, 'editor': 1423, 'rage': 3505, 'yelling': 4980, 'mail': 2706, 'sentence': 3881, 'scores': 3823, 'barry': 401, 'psychic': 3456, 'trees': 4577, 'nomination': 3026, 'movements': 2924, 'fisher': 1739, 'existed': 1570, 'dolls': 1316, 'lena': 2568, 'sadistic': 3768, 'bold': 528, 'revelation': 3674, 'stargate': 4151, 'colonel': 876, 'amanda': 205, 'march': 2734, 'hank': 2024, 'atlantis': 332, 'installment': 2303, 'hyde': 2206, 'felix': 1689, 'respected': 3653, 'betty': 474, 'modesty': 2883, '1968': 16, 'politically': 3325, 'stooges': 4200, 'gender': 1878, 'warrior': 4802, 'acceptable': 81, 'subjects': 4254, 'resemblance': 3645, 'familys': 1646, 'illegal': 2229, 'contract': 973, 'neck': 2985, 'couples': 1017, 'cheating': 776, 'gifted': 1907, 'unoriginal': 4673, 'stiller': 4189, 'gandhi': 1866, 'prom': 3429, 'kissing': 2484, 'bat': 410, '1990s': 25, 'monkeys': 2891, '1973': 19, 'promises': 3432, '1984': 23, 'bbc': 417, 'juvenile': 2441, 'ted': 4386, 'hart': 2041, 'reel': 3581, 'likewise': 2603, 'strangers': 4214, 'montage': 2894, 'leonard': 2572, 'margaret': 2735, 'storm': 4206, 'mistress': 2874, 'importantly': 2248, 'heights': 2073, 'exposure': 1599, 'practice': 3363, 'orange': 3125, 'latin': 2527, 'teaching': 4377, 'basis': 408, 'blade': 495, 'responsibility': 3655, 'seed': 3856, 'distinct': 1296, 'tap': 4364, 'giallo': 1904, 'ken': 2453, 'deaf': 1134, '3rd': 47, 'tomatoes': 4515, 'wished': 4905, 'scrooge': 3837, 'survived': 4322, 'builds': 617, 'crocodile': 1065, 'wounded': 4961, 'directs': 1267, 'campbell': 663, 'gundam': 1997, 'forms': 1801, 'focusing': 1769, 'clues': 865, 'philip': 3252, 'ham': 2011, 'heavily': 2069, 'poem': 3312, '1983': 22, 'demented': 1176, 'fields': 1705, 'leg': 2562, 'prisoners': 3403, 'dutch': 1389, 'monk': 2889, 'pitch': 3279, 'tricks': 4583, 'stones': 4198, 'generic': 1885, 'entry': 1504, 'noted': 3045, 'soviet': 4089, 'ritter': 3705, 'alexander': 180, 'bettie': 473, 'homer': 2144, 'cannibal': 669, 'carpenter': 694, 'instinct': 2308, 'vengeance': 4719, 'marty': 2749, 'godzilla': 1929, 'airport': 167, 'amy': 222, 'carrie': 697, 'snake': 4042, 'mayor': 2777, 'fonda': 1777, 'ironic': 2355, 'disjointed': 1287, 'eager': 1396, 'doom': 1326, 'affect': 136, 'columbo': 881, 'cusack': 1088, 'september': 3884, 'hopper': 2161, 'designs': 1204, 'blew': 505, 'charlotte': 766, 'lemmon': 2567, 'witches': 4910, 'brooklyn': 595, 'museum': 2945, 'bacall': 377, 'dawn': 1127, 'che': 773, 'wendy': 4846, 'arrival': 299, 'access': 83, 'deceased': 1146, 'elvira': 1450, 'eyre': 1614, 'rochester': 3719, 'raising': 3509, 'kingdom': 2480, 'fury': 1855, 'willis': 4890, 'melting': 2799, 'mildred': 2841, 'dalton': 1098, 'todd': 4510, 'paulie': 3215}\n"
     ]
    }
   ],
   "source": [
    "print(str(vocabulary))"
   ]
  },
  {
   "cell_type": "markdown",
   "metadata": {},
   "source": [
    "Once you have added the endpoint name to the Lambda function, click on **Save**. Your Lambda function is now up and running. Next we need to create a way for our web app to execute the Lambda function."
   ]
  },
  {
   "cell_type": "markdown",
   "metadata": {},
   "source": [
    "### Setting up API Gateway\n",
    "\n",
    "Now that our Lambda function is set up, it is time to create a new API using API Gateway that will trigger the Lambda function we have just created.\n",
    "\n",
    "Using AWS Console, navigate to **Amazon API Gateway** and then click on **Get started**.\n",
    "\n",
    "On the next page, make sure that **New API** is selected and give the new api a name, for example, `sentiment_analysis_web_app`. Then, click on **Create API**.\n",
    "\n",
    "Now we have created an API, however it doesn't currently do anything. What we want it to do is to trigger the Lambda function that we created earlier.\n",
    "\n",
    "Select the **Actions** dropdown menu and click **Create Method**. A new blank method will be created, select its dropdown menu and select **POST**, then click on the check mark beside it.\n",
    "\n",
    "For the integration point, make sure that **Lambda Function** is selected and click on the **Use Lambda Proxy integration**. This option makes sure that the data that is sent to the API is then sent directly to the Lambda function with no processing. It also means that the return value must be a proper response object as it will also not be processed by API Gateway.\n",
    "\n",
    "Type the name of the Lambda function you created earlier into the **Lambda Function** text entry box and then click on **Save**. Click on **OK** in the pop-up box that then appears, giving permission to API Gateway to invoke the Lambda function you created.\n",
    "\n",
    "The last step in creating the API Gateway is to select the **Actions** dropdown and click on **Deploy API**. You will need to create a new Deployment stage and name it anything you like, for example `prod`.\n",
    "\n",
    "You have now successfully set up a public API to access your SageMaker model. Make sure to copy or write down the URL provided to invoke your newly created public API as this will be needed in the next step. This URL can be found at the top of the page, highlighted in blue next to the text **Invoke URL**."
   ]
  },
  {
   "cell_type": "markdown",
   "metadata": {},
   "source": [
    "## Step 7: Deploying our web app\n",
    "\n",
    "Now that we have a publicly available API, we can start using it in a web app. For our purposes, we have provided a simple static html file which can make use of the public api you created earlier.\n",
    "\n",
    "In the `website` folder there should be a file called `index.html`. Download the file to your computer and open that file up in a text editor of your choice. There should be a line which contains **\\*\\*REPLACE WITH PUBLIC API URL\\*\\***. Replace this string with the url that you wrote down in the last step and then save the file.\n",
    "\n",
    "Now, if you open `index.html` on your local computer, your browser will behave as a local web server and you can use the provided site to interact with your SageMaker model.\n",
    "\n",
    "If you'd like to go further, you can host this html file anywhere you'd like, for example using github or hosting a static site on Amazon's S3. Once you have done this you can share the link with anyone you'd like and have them play with it too!\n",
    "\n",
    "> **Important Note** In order for the web app to communicate with the SageMaker endpoint, the endpoint has to actually be deployed and running. This means that you are paying for it. Make sure that the endpoint is running when you want to use the web app but that you shut it down when you don't need it, otherwise you will end up with a surprisingly large AWS bill."
   ]
  },
  {
   "cell_type": "markdown",
   "metadata": {},
   "source": [
    "### Delete the endpoint\n",
    "\n",
    "Remember to always shut down your endpoint if you are no longer using it. You are charged for the length of time that the endpoint is running so if you forget and leave it on you could end up with an unexpectedly large bill."
   ]
  },
  {
   "cell_type": "code",
   "execution_count": 57,
   "metadata": {},
   "outputs": [],
   "source": [
    "xgb_predictor.delete_endpoint()"
   ]
  },
  {
   "cell_type": "markdown",
   "metadata": {},
   "source": [
    "## Optional: Clean up\n",
    "\n",
    "The default notebook instance on SageMaker doesn't have a lot of excess disk space available. As you continue to complete and execute notebooks you will eventually fill up this disk space, leading to errors which can be difficult to diagnose. Once you are completely finished using a notebook it is a good idea to remove the files that you created along the way. Of course, you can do this from the terminal or from the notebook hub if you would like. The cell below contains some commands to clean up the created files from within the notebook."
   ]
  },
  {
   "cell_type": "code",
   "execution_count": null,
   "metadata": {},
   "outputs": [],
   "source": [
    "# First we will remove all of the files contained in the data_dir directory\n",
    "!rm $data_dir/*\n",
    "\n",
    "# And then we delete the directory itself\n",
    "!rmdir $data_dir\n",
    "\n",
    "# Similarly we remove the files in the cache_dir directory and the directory itself\n",
    "!rm $cache_dir/*\n",
    "!rmdir $cache_dir"
   ]
  },
  {
   "cell_type": "code",
   "execution_count": null,
   "metadata": {},
   "outputs": [],
   "source": []
  }
 ],
 "metadata": {
  "kernelspec": {
   "display_name": "conda_python3",
   "language": "python",
   "name": "conda_python3"
  },
  "language_info": {
   "codemirror_mode": {
    "name": "ipython",
    "version": 3
   },
   "file_extension": ".py",
   "mimetype": "text/x-python",
   "name": "python",
   "nbconvert_exporter": "python",
   "pygments_lexer": "ipython3",
   "version": "3.6.10"
  }
 },
 "nbformat": 4,
 "nbformat_minor": 2
}
